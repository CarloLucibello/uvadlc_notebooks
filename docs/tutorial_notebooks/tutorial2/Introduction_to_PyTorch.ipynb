{
 "cells": [
  {
   "cell_type": "markdown",
   "metadata": {},
   "source": [
    "# Tutorial 2: Introduction to PyTorch\n",
    "\n",
    "![Status](https://img.shields.io/static/v1.svg?label=Status&message=Finished&color=green)\n",
    "\n",
    "**Filled notebook:** \n",
    "[![View filled on Github](https://img.shields.io/static/v1.svg?logo=github&label=Repo&message=View%20On%20Github&color=lightgrey)](https://github.com/phlippe/uvadlc_notebooks/blob/master/docs/tutorial_notebooks/tutorial2/Introduction_to_PyTorch.ipynb)\n",
    "[![Open filled In Collab](https://colab.research.google.com/assets/colab-badge.svg)](https://colab.research.google.com/github/phlippe/uvadlc_notebooks/blob/master/docs/tutorial_notebooks/tutorial2/Introduction_to_PyTorch.ipynb)   \n",
    "**Recordings:** \n",
    "[![YouTube - Part 1](https://img.shields.io/static/v1.svg?logo=youtube&label=YouTube&message=Part%201&color=red)](https://youtu.be/wnKZZgFQY-E)\n",
    "[![YouTube - Part 2](https://img.shields.io/static/v1.svg?logo=youtube&label=YouTube&message=Part%202&color=red)](https://youtu.be/schbjeU5X2g)    \n",
    "**Author:** Phillip Lippe"
   ]
  },
  {
   "cell_type": "markdown",
   "metadata": {},
   "source": [
    "Welcome to our PyTorch tutorial for the Deep Learning course 2022 at the University of Amsterdam! The following notebook is meant to give a short introduction to PyTorch basics, and get you setup for writing your own neural networks. PyTorch is an open source machine learning framework that allows you to write your own neural networks and optimize them efficiently. However, PyTorch is not the only framework of its kind. Alternatives to PyTorch include [TensorFlow](https://www.tensorflow.org/), [JAX](https://github.com/google/jax#quickstart-colab-in-the-cloud) and [Caffe](http://caffe.berkeleyvision.org/). We choose to teach PyTorch at the University of Amsterdam because it is well established, has a huge developer community (originally developed by Facebook), is very flexible and especially used in research. Many current papers publish their code in PyTorch, and thus it is good to be familiar with PyTorch as well. \n",
    "Meanwhile, TensorFlow (developed by Google) is usually known for being a production-grade deep learning library. Still, if you know one machine learning framework in depth, it is very easy to learn another one because many of them use the same concepts and ideas. For instance, TensorFlow's version 2 was heavily inspired by the most popular features of PyTorch, making the frameworks even more similar. \n",
    "If you are already familiar with PyTorch and have created your own neural network projects, feel free to just skim this notebook.\n",
    "\n",
    "We are of course not the first ones to create a PyTorch tutorial. There are many great tutorials online, including the [\"60-min blitz\"](https://pytorch.org/tutorials/beginner/deep_learning_60min_blitz.html) on the official [PyTorch website](https://pytorch.org/tutorials/). Yet, we choose to create our own tutorial which is designed to give you the basics particularly necessary for the practicals, but still understand how PyTorch works under the hood. Over the next few weeks, we will also keep exploring new PyTorch features in the series of Jupyter notebook tutorials about deep learning. \n",
    "\n",
    "We will use a set of standard libraries that are often used in machine learning projects. If you are running this notebook on Google Colab, all libraries should be pre-installed. If you are running this notebook locally, make sure you have installed our `dl2022` environment and have activated it."
   ]
  },
  {
   "cell_type": "code",
   "execution_count": 1,
   "metadata": {},
   "outputs": [
    {
     "name": "stderr",
     "output_type": "stream",
     "text": [
      "/tmp/ipykernel_68648/3937499902.py:11: DeprecationWarning: `set_matplotlib_formats` is deprecated since IPython 7.23, directly use `matplotlib_inline.backend_inline.set_matplotlib_formats()`\n",
      "  set_matplotlib_formats('svg', 'pdf') # For export\n"
     ]
    }
   ],
   "source": [
    "## Standard libraries\n",
    "import os\n",
    "import math\n",
    "import numpy as np \n",
    "import time\n",
    "\n",
    "## Imports for plotting\n",
    "import matplotlib.pyplot as plt\n",
    "%matplotlib inline \n",
    "from IPython.display import set_matplotlib_formats\n",
    "set_matplotlib_formats('svg', 'pdf') # For export\n",
    "from matplotlib.colors import to_rgba\n",
    "import seaborn as sns\n",
    "sns.set()\n",
    "\n",
    "## Progress bar\n",
    "from tqdm.notebook import tqdm"
   ]
  },
  {
   "cell_type": "markdown",
   "metadata": {},
   "source": [
    "## The Basics of PyTorch\n",
    "\n",
    "We will start with reviewing the very basic concepts of PyTorch. As a prerequisite, we recommend to be familiar with the `numpy` package as most machine learning frameworks are based on very similar concepts. If you are not familiar with numpy yet, don't worry: here is a [tutorial](https://numpy.org/devdocs/user/quickstart.html) to go through. \n",
    "\n",
    "So, let's start with importing PyTorch. The package is called `torch`, based on its original framework [Torch](http://torch.ch/). As a first step, we can check its version:"
   ]
  },
  {
   "cell_type": "code",
   "execution_count": 2,
   "metadata": {},
   "outputs": [
    {
     "name": "stdout",
     "output_type": "stream",
     "text": [
      "Using torch 1.13.0\n"
     ]
    }
   ],
   "source": [
    "import torch\n",
    "print(\"Using torch\", torch.__version__)"
   ]
  },
  {
   "cell_type": "markdown",
   "metadata": {},
   "source": [
    "At the time of writing this tutorial (end of October 2022), the current stable version is 1.13. You should therefore see the output `Using torch 1.13.0` or `Using torch 1.12.0`, eventually with some extension for the CUDA version on Colab. In case you use the `dl2022` environment, you should see `Using torch 1.13.0`. In general, it is recommended to keep the PyTorch version updated to the newest one. If you see a lower version number than 1.12, make sure you have installed the correct environment, or ask one of your TAs. In case PyTorch 1.14 or newer will be published during the time of the course, don't worry. The interface between PyTorch versions doesn't change too much, and hence all code should also be runnable with newer versions.\n",
    "\n",
    "As in every machine learning framework, PyTorch provides functions that are stochastic like generating random numbers. However, a very good practice is to setup your code to be reproducible with the exact same random numbers. This is why we set a seed below. "
   ]
  },
  {
   "cell_type": "code",
   "execution_count": 3,
   "metadata": {},
   "outputs": [
    {
     "data": {
      "text/plain": [
       "<torch._C.Generator at 0x7f016ce96710>"
      ]
     },
     "execution_count": 3,
     "metadata": {},
     "output_type": "execute_result"
    }
   ],
   "source": [
    "torch.manual_seed(42) # Setting the seed"
   ]
  },
  {
   "cell_type": "markdown",
   "metadata": {},
   "source": [
    "### Tensors\n",
    "\n",
    "Tensors are the PyTorch equivalent to Numpy arrays, with the addition to also have support for GPU acceleration (more on that later).\n",
    "The name \"tensor\" is a generalization of concepts you already know. For instance, a vector is a 1-D tensor, and a matrix a 2-D tensor. When working with neural networks, we will use tensors of various shapes and number of dimensions.\n",
    "\n",
    "Most common functions you know from numpy can be used on tensors as well. Actually, since numpy arrays are so similar to tensors, we can convert most tensors to numpy arrays (and back) but we don't need it too often.\n",
    "\n",
    "#### Initialization\n",
    "\n",
    "Let's first start by looking at different ways of creating a tensor. There are many possible options, the simplest one is to call `torch.Tensor` passing the desired shape as input argument:"
   ]
  },
  {
   "cell_type": "code",
   "execution_count": 4,
   "metadata": {},
   "outputs": [
    {
     "name": "stdout",
     "output_type": "stream",
     "text": [
      "tensor([[[-1.9229e-25,  4.5560e-41, -1.9229e-25,  4.5560e-41],\n",
      "         [-1.2658e-14, -2.7425e+20, -1.0970e+21, -4.3882e+21],\n",
      "         [ 1.7339e-40, -1.0140e+21, -5.0823e-14,  1.2183e-38]],\n",
      "\n",
      "        [[ 4.2041e-38, -6.9853e+22, -2.5843e+23,  4.1877e-38],\n",
      "         [-1.1177e+24, -4.1351e+24,  4.1877e-38, -1.4107e-05],\n",
      "         [-1.6541e+25,  4.1877e-38, -1.4107e-05, -6.6163e+25]]])\n"
     ]
    }
   ],
   "source": [
    "x = torch.Tensor(2, 3, 4)\n",
    "print(x)"
   ]
  },
  {
   "cell_type": "markdown",
   "metadata": {},
   "source": [
    "The function `torch.Tensor` allocates memory for the desired tensor, but reuses any values that have already been in the memory. To directly assign values to the tensor during initialization, there are many alternatives including:\n",
    "\n",
    "* `torch.zeros`: Creates a tensor filled with zeros\n",
    "* `torch.ones`: Creates a tensor filled with ones\n",
    "* `torch.rand`: Creates a tensor with random values uniformly sampled between 0 and 1\n",
    "* `torch.randn`: Creates a tensor with random values sampled from a normal distribution with mean 0 and variance 1\n",
    "* `torch.arange`: Creates a tensor containing the values $N,N+1,N+2,...,M$\n",
    "* `torch.Tensor` (input list): Creates a tensor from the list elements you provide"
   ]
  },
  {
   "cell_type": "code",
   "execution_count": 5,
   "metadata": {},
   "outputs": [
    {
     "name": "stdout",
     "output_type": "stream",
     "text": [
      "tensor([[1., 2.],\n",
      "        [3., 4.]])\n"
     ]
    }
   ],
   "source": [
    "# Create a tensor from a (nested) list\n",
    "x = torch.Tensor([[1, 2], [3, 4]])\n",
    "print(x)"
   ]
  },
  {
   "cell_type": "code",
   "execution_count": 6,
   "metadata": {},
   "outputs": [
    {
     "name": "stdout",
     "output_type": "stream",
     "text": [
      "tensor([[[0.8823, 0.9150, 0.3829, 0.9593],\n",
      "         [0.3904, 0.6009, 0.2566, 0.7936],\n",
      "         [0.9408, 0.1332, 0.9346, 0.5936]],\n",
      "\n",
      "        [[0.8694, 0.5677, 0.7411, 0.4294],\n",
      "         [0.8854, 0.5739, 0.2666, 0.6274],\n",
      "         [0.2696, 0.4414, 0.2969, 0.8317]]])\n"
     ]
    }
   ],
   "source": [
    "# Create a tensor with random values between 0 and 1 with the shape [2, 3, 4]\n",
    "x = torch.rand(2, 3, 4)\n",
    "print(x)"
   ]
  },
  {
   "cell_type": "markdown",
   "metadata": {},
   "source": [
    "You can obtain the shape of a tensor in the same way as in numpy (`x.shape`), or using the `.size` method:"
   ]
  },
  {
   "cell_type": "code",
   "execution_count": 7,
   "metadata": {},
   "outputs": [
    {
     "name": "stdout",
     "output_type": "stream",
     "text": [
      "Shape: torch.Size([2, 3, 4])\n",
      "Size: torch.Size([2, 3, 4])\n",
      "Size: 2 3 4\n"
     ]
    }
   ],
   "source": [
    "shape = x.shape\n",
    "print(\"Shape:\", x.shape)\n",
    "\n",
    "size = x.size()\n",
    "print(\"Size:\", size)\n",
    "\n",
    "dim1, dim2, dim3 = x.size()\n",
    "print(\"Size:\", dim1, dim2, dim3)"
   ]
  },
  {
   "cell_type": "markdown",
   "metadata": {},
   "source": [
    "#### Tensor to Numpy, and Numpy to Tensor\n",
    "\n",
    "Tensors can be converted to numpy arrays, and numpy arrays back to tensors. To transform a numpy array into a tensor, we can use the function `torch.from_numpy`:"
   ]
  },
  {
   "cell_type": "code",
   "execution_count": 8,
   "metadata": {},
   "outputs": [
    {
     "name": "stdout",
     "output_type": "stream",
     "text": [
      "Numpy array: [[1 2]\n",
      " [3 4]]\n",
      "PyTorch tensor: tensor([[1, 2],\n",
      "        [3, 4]])\n"
     ]
    }
   ],
   "source": [
    "np_arr = np.array([[1, 2], [3, 4]])\n",
    "tensor = torch.from_numpy(np_arr)\n",
    "\n",
    "print(\"Numpy array:\", np_arr)\n",
    "print(\"PyTorch tensor:\", tensor)"
   ]
  },
  {
   "cell_type": "markdown",
   "metadata": {},
   "source": [
    "To transform a PyTorch tensor back to a numpy array, we can use the function `.numpy()` on tensors:"
   ]
  },
  {
   "cell_type": "code",
   "execution_count": 9,
   "metadata": {},
   "outputs": [
    {
     "name": "stdout",
     "output_type": "stream",
     "text": [
      "PyTorch tensor: tensor([0, 1, 2, 3])\n",
      "Numpy array: [0 1 2 3]\n"
     ]
    }
   ],
   "source": [
    "tensor = torch.arange(4)\n",
    "np_arr = tensor.numpy()\n",
    "\n",
    "print(\"PyTorch tensor:\", tensor)\n",
    "print(\"Numpy array:\", np_arr)"
   ]
  },
  {
   "cell_type": "markdown",
   "metadata": {},
   "source": [
    "The conversion of tensors to numpy require the tensor to be on the CPU, and not the GPU (more on GPU support in a later section). In case you have a tensor on GPU, you need to call `.cpu()` on the tensor beforehand. Hence, you get a line like `np_arr = tensor.cpu().numpy()`."
   ]
  },
  {
   "cell_type": "markdown",
   "metadata": {},
   "source": [
    "#### Operations\n",
    "\n",
    "Most operations that exist in numpy, also exist in PyTorch. A full list of operations can be found in the [PyTorch documentation](https://pytorch.org/docs/stable/tensors.html#), but we will review the most important ones here.\n",
    "\n",
    "The simplest operation is to add two tensors:"
   ]
  },
  {
   "cell_type": "code",
   "execution_count": 10,
   "metadata": {},
   "outputs": [
    {
     "name": "stdout",
     "output_type": "stream",
     "text": [
      "X1 tensor([[0.1053, 0.2695, 0.3588],\n",
      "        [0.1994, 0.5472, 0.0062]])\n",
      "X2 tensor([[0.9516, 0.0753, 0.8860],\n",
      "        [0.5832, 0.3376, 0.8090]])\n",
      "Y tensor([[1.0569, 0.3448, 1.2448],\n",
      "        [0.7826, 0.8848, 0.8151]])\n"
     ]
    }
   ],
   "source": [
    "x1 = torch.rand(2, 3)\n",
    "x2 = torch.rand(2, 3)\n",
    "y = x1 + x2\n",
    "\n",
    "print(\"X1\", x1)\n",
    "print(\"X2\", x2)\n",
    "print(\"Y\", y)"
   ]
  },
  {
   "cell_type": "markdown",
   "metadata": {},
   "source": [
    "Calling `x1 + x2` creates a new tensor containing the sum of the two inputs. However, we can also use in-place operations that are applied directly on the memory of a tensor. We therefore change the values of `x2` without the chance to re-accessing the values of `x2` before the operation. An example is shown below:"
   ]
  },
  {
   "cell_type": "code",
   "execution_count": 11,
   "metadata": {},
   "outputs": [
    {
     "name": "stdout",
     "output_type": "stream",
     "text": [
      "X1 (before) tensor([[0.5779, 0.9040, 0.5547],\n",
      "        [0.3423, 0.6343, 0.3644]])\n",
      "X2 (before) tensor([[0.7104, 0.9464, 0.7890],\n",
      "        [0.2814, 0.7886, 0.5895]])\n",
      "X1 (after) tensor([[0.5779, 0.9040, 0.5547],\n",
      "        [0.3423, 0.6343, 0.3644]])\n",
      "X2 (after) tensor([[1.2884, 1.8504, 1.3437],\n",
      "        [0.6237, 1.4230, 0.9539]])\n"
     ]
    }
   ],
   "source": [
    "x1 = torch.rand(2, 3)\n",
    "x2 = torch.rand(2, 3)\n",
    "print(\"X1 (before)\", x1)\n",
    "print(\"X2 (before)\", x2)\n",
    "\n",
    "x2.add_(x1)\n",
    "print(\"X1 (after)\", x1)\n",
    "print(\"X2 (after)\", x2)"
   ]
  },
  {
   "cell_type": "markdown",
   "metadata": {},
   "source": [
    "In-place operations are usually marked with a underscore postfix (e.g. \"add_\" instead of \"add\").\n",
    "\n",
    "Another common operation aims at changing the shape of a tensor. A tensor of size (2,3) can be re-organized to any other shape with the same number of elements (e.g. a tensor of size (6), or (3,2), ...). In PyTorch, this operation is called `view`:"
   ]
  },
  {
   "cell_type": "code",
   "execution_count": 12,
   "metadata": {},
   "outputs": [
    {
     "name": "stdout",
     "output_type": "stream",
     "text": [
      "X tensor([0, 1, 2, 3, 4, 5])\n"
     ]
    }
   ],
   "source": [
    "x = torch.arange(6)\n",
    "print(\"X\", x)"
   ]
  },
  {
   "cell_type": "code",
   "execution_count": 13,
   "metadata": {},
   "outputs": [
    {
     "name": "stdout",
     "output_type": "stream",
     "text": [
      "X tensor([[0, 1, 2],\n",
      "        [3, 4, 5]])\n"
     ]
    }
   ],
   "source": [
    "x = x.view(2, 3)\n",
    "print(\"X\", x)"
   ]
  },
  {
   "cell_type": "code",
   "execution_count": 14,
   "metadata": {},
   "outputs": [
    {
     "name": "stdout",
     "output_type": "stream",
     "text": [
      "X tensor([[0, 3],\n",
      "        [1, 4],\n",
      "        [2, 5]])\n"
     ]
    }
   ],
   "source": [
    "x = x.permute(1, 0) # Swapping dimension 0 and 1\n",
    "print(\"X\", x)"
   ]
  },
  {
   "cell_type": "markdown",
   "metadata": {},
   "source": [
    "Other commonly used operations include matrix multiplications, which are essential for neural networks. Quite often, we have an input vector $\\mathbf{x}$, which is transformed using a learned weight matrix $\\mathbf{W}$. There are multiple ways and functions to perform matrix multiplication, some of which we list below:\n",
    "\n",
    "* `torch.matmul`: Performs the matrix product over two tensors, where the specific behavior depends on the dimensions. If both inputs are matrices (2-dimensional tensors), it performs the standard matrix product. For higher dimensional inputs, the function supports broadcasting (for details see the [documentation](https://pytorch.org/docs/stable/generated/torch.matmul.html?highlight=matmul#torch.matmul)). Can also be written as `a @ b`, similar to numpy. \n",
    "* `torch.mm`: Performs the matrix product over two matrices, but doesn't support broadcasting (see [documentation](https://pytorch.org/docs/stable/generated/torch.mm.html?highlight=torch%20mm#torch.mm))\n",
    "* `torch.bmm`: Performs the matrix product with a support batch dimension. If the first tensor $T$ is of shape ($b\\times n\\times m$), and the second tensor $R$ ($b\\times m\\times p$), the output $O$ is of shape ($b\\times n\\times p$), and has been calculated by performing $b$ matrix multiplications of the submatrices of $T$ and $R$: $O_i = T_i @ R_i$\n",
    "* `torch.einsum`: Performs matrix multiplications and more (i.e. sums of products) using the Einstein summation convention. Explanation of the Einstein sum can be found in assignment 1.\n",
    "\n",
    "Usually, we use `torch.matmul` or `torch.bmm`. We can try a matrix multiplication with `torch.matmul` below."
   ]
  },
  {
   "cell_type": "code",
   "execution_count": 15,
   "metadata": {},
   "outputs": [
    {
     "name": "stdout",
     "output_type": "stream",
     "text": [
      "X tensor([[0, 1, 2],\n",
      "        [3, 4, 5]])\n"
     ]
    }
   ],
   "source": [
    "x = torch.arange(6)\n",
    "x = x.view(2, 3)\n",
    "print(\"X\", x)"
   ]
  },
  {
   "cell_type": "code",
   "execution_count": 16,
   "metadata": {},
   "outputs": [
    {
     "name": "stdout",
     "output_type": "stream",
     "text": [
      "W tensor([[0, 1, 2],\n",
      "        [3, 4, 5],\n",
      "        [6, 7, 8]])\n"
     ]
    }
   ],
   "source": [
    "W = torch.arange(9).view(3, 3) # We can also stack multiple operations in a single line\n",
    "print(\"W\", W)"
   ]
  },
  {
   "cell_type": "code",
   "execution_count": 17,
   "metadata": {},
   "outputs": [
    {
     "name": "stdout",
     "output_type": "stream",
     "text": [
      "h tensor([[15, 18, 21],\n",
      "        [42, 54, 66]])\n"
     ]
    }
   ],
   "source": [
    "h = torch.matmul(x, W) # Verify the result by calculating it by hand too!\n",
    "print(\"h\", h)"
   ]
  },
  {
   "cell_type": "markdown",
   "metadata": {},
   "source": [
    "#### Indexing\n",
    "\n",
    "We often have the situation where we need to select a part of a tensor. Indexing works just like in numpy, so let's try it:"
   ]
  },
  {
   "cell_type": "code",
   "execution_count": 18,
   "metadata": {},
   "outputs": [
    {
     "name": "stdout",
     "output_type": "stream",
     "text": [
      "X tensor([[ 0,  1,  2,  3],\n",
      "        [ 4,  5,  6,  7],\n",
      "        [ 8,  9, 10, 11]])\n"
     ]
    }
   ],
   "source": [
    "x = torch.arange(12).view(3, 4)\n",
    "print(\"X\", x)"
   ]
  },
  {
   "cell_type": "code",
   "execution_count": 19,
   "metadata": {},
   "outputs": [
    {
     "name": "stdout",
     "output_type": "stream",
     "text": [
      "tensor([1, 5, 9])\n"
     ]
    }
   ],
   "source": [
    "print(x[:, 1])   # Second column"
   ]
  },
  {
   "cell_type": "code",
   "execution_count": 20,
   "metadata": {},
   "outputs": [
    {
     "name": "stdout",
     "output_type": "stream",
     "text": [
      "tensor([0, 1, 2, 3])\n"
     ]
    }
   ],
   "source": [
    "print(x[0])      # First row"
   ]
  },
  {
   "cell_type": "code",
   "execution_count": 21,
   "metadata": {},
   "outputs": [
    {
     "name": "stdout",
     "output_type": "stream",
     "text": [
      "tensor([3, 7])\n"
     ]
    }
   ],
   "source": [
    "print(x[:2, -1]) # First two rows, last column"
   ]
  },
  {
   "cell_type": "code",
   "execution_count": 22,
   "metadata": {},
   "outputs": [
    {
     "name": "stdout",
     "output_type": "stream",
     "text": [
      "tensor([[ 4,  5,  6,  7],\n",
      "        [ 8,  9, 10, 11]])\n"
     ]
    }
   ],
   "source": [
    "print(x[1:3, :]) # Middle two rows"
   ]
  },
  {
   "cell_type": "markdown",
   "metadata": {},
   "source": [
    "### Dynamic Computation Graph and Backpropagation\n",
    "\n",
    "One of the main reasons for using PyTorch in Deep Learning projects is that we can automatically get **gradients/derivatives** of functions that we define. We will mainly use PyTorch for implementing neural networks, and they are just fancy functions. If we use weight matrices in our function that we want to learn, then those are called the **parameters** or simply the **weights**.\n",
    "\n",
    "If our neural network would output a single scalar value, we would talk about taking the **derivative**, but you will see that quite often we will have **multiple** output variables (\"values\"); in that case we talk about **gradients**. It's a more general term.\n",
    "\n",
    "Given an input $\\mathbf{x}$, we define our function by **manipulating** that input, usually by matrix-multiplications with weight matrices and additions with so-called bias vectors. As we manipulate our input, we are automatically creating a **computational graph**. This graph shows how to arrive at our output from our input. \n",
    "PyTorch is a **define-by-run** framework; this means that we can just do our manipulations, and PyTorch will keep track of that graph for us. Thus, we create a dynamic computation graph along the way.\n",
    "\n",
    "So, to recap: the only thing we have to do is to compute the **output**, and then we can ask PyTorch to automatically get the **gradients**. \n",
    "\n",
    "> **Note:  Why do we want gradients?** Consider that we have defined a function, a neural net, that is supposed to compute a certain output $y$ for an input vector $\\mathbf{x}$. We then define an **error measure** that tells us how wrong our network is; how bad it is in predicting output $y$ from input $\\mathbf{x}$. Based on this error measure, we can use the gradients to **update** the weights $\\mathbf{W}$ that were responsible for the output, so that the next time we present input $\\mathbf{x}$ to our network, the output will be closer to what we want.\n",
    "\n",
    "The first thing we have to do is to specify which tensors require gradients. By default, when we create a tensor, it does not require gradients."
   ]
  },
  {
   "cell_type": "code",
   "execution_count": 23,
   "metadata": {},
   "outputs": [
    {
     "name": "stdout",
     "output_type": "stream",
     "text": [
      "False\n"
     ]
    }
   ],
   "source": [
    "x = torch.ones((3,))\n",
    "print(x.requires_grad)"
   ]
  },
  {
   "cell_type": "markdown",
   "metadata": {},
   "source": [
    "We can change this for an existing tensor using the function `requires_grad_()` (underscore indicating that this is a in-place operation). Alternatively, when creating a tensor, you can pass the argument `requires_grad=True` to most initializers we have seen above."
   ]
  },
  {
   "cell_type": "code",
   "execution_count": 24,
   "metadata": {},
   "outputs": [
    {
     "name": "stdout",
     "output_type": "stream",
     "text": [
      "True\n"
     ]
    }
   ],
   "source": [
    "x.requires_grad_(True)\n",
    "print(x.requires_grad)"
   ]
  },
  {
   "cell_type": "markdown",
   "metadata": {},
   "source": [
    "In order to get familiar with the concept of a computation graph, we will create one for the following function:\n",
    "\n",
    "$$y = \\frac{1}{|x|}\\sum_i \\left[(x_i + 2)^2 + 3\\right]$$\n",
    "\n",
    "You could imagine that $x$ are our parameters, and we want to optimize (either maximize or minimize) the output $y$. For this, we want to obtain the gradients $\\partial y / \\partial \\mathbf{x}$. For our example, we'll use $\\mathbf{x}=[0,1,2]$ as our input."
   ]
  },
  {
   "cell_type": "code",
   "execution_count": 25,
   "metadata": {},
   "outputs": [
    {
     "name": "stdout",
     "output_type": "stream",
     "text": [
      "X tensor([0., 1., 2.], requires_grad=True)\n"
     ]
    }
   ],
   "source": [
    "x = torch.arange(3, dtype=torch.float32, requires_grad=True) # Only float tensors can have gradients\n",
    "print(\"X\", x)"
   ]
  },
  {
   "cell_type": "markdown",
   "metadata": {},
   "source": [
    "Now let's build the computation graph step by step. You can combine multiple operations in a single line, but we will separate them here to get a better understanding of how each operation is added to the computation graph."
   ]
  },
  {
   "cell_type": "code",
   "execution_count": 26,
   "metadata": {},
   "outputs": [
    {
     "name": "stdout",
     "output_type": "stream",
     "text": [
      "Y tensor(12.6667, grad_fn=<MeanBackward0>)\n"
     ]
    }
   ],
   "source": [
    "a = x + 2\n",
    "b = a ** 2\n",
    "c = b + 3\n",
    "y = c.mean()\n",
    "print(\"Y\", y)"
   ]
  },
  {
   "cell_type": "markdown",
   "metadata": {},
   "source": [
    "Using the statements above, we have created a computation graph that looks similar to the figure below:\n",
    "\n",
    "<center style=\"width: 100%\"><img src=\"pytorch_computation_graph.svg\" width=\"200px\"></center>\n",
    "\n",
    "We calculate $a$ based on the inputs $x$ and the constant $2$, $b$ is $a$ squared, and so on. The visualization is an abstraction of the dependencies between inputs and outputs of the operations we have applied.\n",
    "Each node of the computation graph has automatically defined a function for calculating the gradients with respect to its inputs, `grad_fn`. You can see this when we printed the output tensor $y$. This is why the computation graph is usually visualized in the reverse direction (arrows point from the result to the inputs). We can perform backpropagation on the computation graph by calling the function `backward()` on the last output, which effectively calculates the gradients for each tensor that has the property `requires_grad=True`:"
   ]
  },
  {
   "cell_type": "code",
   "execution_count": 27,
   "metadata": {},
   "outputs": [],
   "source": [
    "y.backward()"
   ]
  },
  {
   "cell_type": "markdown",
   "metadata": {},
   "source": [
    "`x.grad` will now contain the gradient $\\partial y/ \\partial \\mathcal{x}$, and this gradient indicates how a change in $\\mathbf{x}$ will affect output $y$ given the current input $\\mathbf{x}=[0,1,2]$:"
   ]
  },
  {
   "cell_type": "code",
   "execution_count": 28,
   "metadata": {},
   "outputs": [
    {
     "name": "stdout",
     "output_type": "stream",
     "text": [
      "tensor([1.3333, 2.0000, 2.6667])\n"
     ]
    }
   ],
   "source": [
    "print(x.grad)"
   ]
  },
  {
   "cell_type": "markdown",
   "metadata": {},
   "source": [
    "We can also verify these gradients by hand. We will calculate the gradients using the chain rule, in the same way as PyTorch did it:\n",
    "\n",
    "$$\\frac{\\partial y}{\\partial x_i} = \\frac{\\partial y}{\\partial c_i}\\frac{\\partial c_i}{\\partial b_i}\\frac{\\partial b_i}{\\partial a_i}\\frac{\\partial a_i}{\\partial x_i}$$\n",
    "\n",
    "Note that we have simplified this equation to index notation, and by using the fact that all operation besides the mean do not combine the elements in the tensor. The partial derivatives are:\n",
    "\n",
    "$$\n",
    "\\frac{\\partial a_i}{\\partial x_i} = 1,\\hspace{1cm}\n",
    "\\frac{\\partial b_i}{\\partial a_i} = 2\\cdot a_i\\hspace{1cm}\n",
    "\\frac{\\partial c_i}{\\partial b_i} = 1\\hspace{1cm}\n",
    "\\frac{\\partial y}{\\partial c_i} = \\frac{1}{3}\n",
    "$$\n",
    "\n",
    "Hence, with the input being $\\mathbf{x}=[0,1,2]$, our gradients are $\\partial y/\\partial \\mathbf{x}=[4/3,2,8/3]$. The previous code cell should have printed the same result."
   ]
  },
  {
   "cell_type": "markdown",
   "metadata": {},
   "source": [
    "### GPU support\n",
    "\n",
    "A crucial feature of PyTorch is the support of GPUs, short for Graphics Processing Unit. A GPU can perform many thousands of small operations in parallel, making it very well suitable for performing large matrix operations in neural networks. When comparing GPUs to CPUs, we can list the following main differences (credit: [Kevin Krewell, 2009](https://blogs.nvidia.com/blog/2009/12/16/whats-the-difference-between-a-cpu-and-a-gpu/)) \n",
    "\n",
    "<center style=\"width: 100%\"><img src=\"comparison_CPU_GPU.png\" width=\"700px\"></center>\n",
    "\n",
    "CPUs and GPUs have both different advantages and disadvantages, which is why many computers contain both components and use them for different tasks. In case you are not familiar with GPUs, you can read up more details in this [NVIDIA blog post](https://blogs.nvidia.com/blog/2009/12/16/whats-the-difference-between-a-cpu-and-a-gpu/) or [here](https://www.intel.com/content/www/us/en/products/docs/processors/what-is-a-gpu.html). \n",
    "\n",
    "GPUs can accelerate the training of your network up to a factor of $100$ which is essential for large neural networks. PyTorch implements a lot of functionality for supporting GPUs (mostly those of NVIDIA due to the libraries [CUDA](https://developer.nvidia.com/cuda-zone) and [cuDNN](https://developer.nvidia.com/cudnn)). First, let's check whether you have a GPU available:"
   ]
  },
  {
   "cell_type": "code",
   "execution_count": 29,
   "metadata": {},
   "outputs": [
    {
     "name": "stdout",
     "output_type": "stream",
     "text": [
      "Is the GPU available? True\n"
     ]
    }
   ],
   "source": [
    "gpu_avail = torch.cuda.is_available()\n",
    "print(f\"Is the GPU available? {gpu_avail}\")"
   ]
  },
  {
   "cell_type": "markdown",
   "metadata": {},
   "source": [
    "If you have a GPU on your computer but the command above returns False, make sure you have the correct CUDA-version installed. The `dl2022` environment comes with the CUDA 11.7, which is selected for the Lisa supercomputer. Please change it if necessary (CUDA 11.3 is currently common on Colab). On Google Colab, make sure that you have selected a GPU in your runtime setup (in the menu, check under `Runtime -> Change runtime type`). \n",
    "\n",
    "By default, all tensors you create are stored on the CPU. We can push a tensor to the GPU by using the function `.to(...)`, or `.cuda()`. However, it is often a good practice to define a `device` object in your code which points to the GPU if you have one, and otherwise to the CPU. Then, you can write your code with respect to this device object, and it allows you to run the same code on both a CPU-only system, and one with a GPU. Let's try it below. We can specify the device as follows: "
   ]
  },
  {
   "cell_type": "code",
   "execution_count": 30,
   "metadata": {},
   "outputs": [
    {
     "name": "stdout",
     "output_type": "stream",
     "text": [
      "Device cuda\n"
     ]
    }
   ],
   "source": [
    "device = torch.device(\"cuda\") if torch.cuda.is_available() else torch.device(\"cpu\")\n",
    "print(\"Device\", device)"
   ]
  },
  {
   "cell_type": "markdown",
   "metadata": {},
   "source": [
    "Now let's create a tensor and push it to the device:"
   ]
  },
  {
   "cell_type": "code",
   "execution_count": 31,
   "metadata": {},
   "outputs": [
    {
     "name": "stdout",
     "output_type": "stream",
     "text": [
      "X tensor([[0., 0., 0.],\n",
      "        [0., 0., 0.]], device='cuda:0')\n"
     ]
    }
   ],
   "source": [
    "x = torch.zeros(2, 3)\n",
    "x = x.to(device)\n",
    "print(\"X\", x)"
   ]
  },
  {
   "cell_type": "markdown",
   "metadata": {},
   "source": [
    "In case you have a GPU, you should now see the attribute `device='cuda:0'` being printed next to your tensor. The zero next to cuda indicates that this is the zero-th GPU device on your computer. PyTorch also supports multi-GPU systems, but this you will only need once you have very big networks to train (if interested, see the [PyTorch documentation](https://pytorch.org/docs/stable/distributed.html#distributed-basics)). We can also compare the runtime of a large matrix multiplication on the CPU with a operation on the GPU:"
   ]
  },
  {
   "cell_type": "code",
   "execution_count": 38,
   "metadata": {},
   "outputs": [
    {
     "name": "stdout",
     "output_type": "stream",
     "text": [
      "CPU time: 0.05854s\n",
      "GPU time: 0.01395s\n"
     ]
    }
   ],
   "source": [
    "x = torch.randn(5000, 5000)\n",
    "\n",
    "## CPU version\n",
    "start_time = time.time()\n",
    "_ = torch.matmul(x, x)\n",
    "end_time = time.time()\n",
    "print(f\"CPU time: {(end_time - start_time):6.5f}s\")\n",
    "\n",
    "## GPU version\n",
    "x = x.to(device)\n",
    "_ = torch.matmul(x, x)  # First operation to 'burn in' GPU\n",
    "# CUDA is asynchronous, so we need to use different timing functions\n",
    "start = torch.cuda.Event(enable_timing=True)\n",
    "end = torch.cuda.Event(enable_timing=True)\n",
    "start.record()\n",
    "_ = torch.matmul(x, x)\n",
    "end.record()\n",
    "torch.cuda.synchronize()  # Waits for everything to finish running on the GPU\n",
    "print(f\"GPU time: {0.001 * start.elapsed_time(end):6.5f}s\")  # Milliseconds to seconds"
   ]
  },
  {
   "cell_type": "markdown",
   "metadata": {},
   "source": [
    "Depending on the size of the operation and the CPU/GPU in your system, the speedup of this operation can be >50x. As `matmul` operations are very common in neural networks, we can already see the great benefit of training a NN on a GPU. The time estimate can be relatively noisy here because we haven't run it for multiple times. Feel free to extend this, but it also takes longer to run.\n",
    "\n",
    "When generating random numbers, the seed between CPU and GPU is not synchronized. Hence, we need to set the seed on the GPU separately to ensure a reproducible code. Note that due to different GPU architectures, running the same code on different GPUs does not guarantee the same random numbers. Still, we don't want that our code gives us a different output every time we run it on the exact same hardware. Hence, we also set the seed on the GPU:"
   ]
  },
  {
   "cell_type": "code",
   "execution_count": 39,
   "metadata": {},
   "outputs": [],
   "source": [
    "# GPU operations have a separate seed we also want to set\n",
    "if torch.cuda.is_available(): \n",
    "    torch.cuda.manual_seed(42)\n",
    "    torch.cuda.manual_seed_all(42)\n",
    "    \n",
    "# Additionally, some operations on a GPU are implemented stochastic for efficiency\n",
    "# We want to ensure that all operations are deterministic on GPU (if used) for reproducibility\n",
    "torch.backends.cudnn.deterministic = True\n",
    "torch.backends.cudnn.benchmark = False"
   ]
  },
  {
   "cell_type": "markdown",
   "metadata": {},
   "source": [
    "## Learning by example: Continuous XOR\n",
    "\n",
    "If we want to build a neural network in PyTorch, we could specify all our parameters (weight matrices, bias vectors) using `Tensors` (with `requires_grad=True`), ask PyTorch to calculate the gradients and then adjust the parameters. But things can quickly get cumbersome if we have a lot of parameters. In PyTorch, there is a package called `torch.nn` that makes building neural networks more convenient. \n",
    "\n",
    "We will introduce the libraries and all additional parts you might need to train a neural network in PyTorch, using a simple example classifier on a simple yet well known example: XOR. Given two binary inputs $x_1$ and $x_2$, the label to predict is $1$ if either $x_1$ or $x_2$ is $1$ while the other is $0$, or the label is $0$ in all other cases. The example became famous by the fact that a single neuron, i.e. a linear classifier, cannot learn this simple function.\n",
    "Hence, we will learn how to build a small neural network that can learn this function. \n",
    "To make it a little bit more interesting, we move the XOR into continuous space and introduce some gaussian noise on the binary inputs. Our desired separation of an XOR dataset could look as follows:\n",
    "\n",
    "<center style=\"width: 100%\"><img src=\"continuous_xor.svg\" width=\"350px\"></center>"
   ]
  },
  {
   "cell_type": "markdown",
   "metadata": {},
   "source": [
    "### The model\n",
    "\n",
    "The package `torch.nn` defines a series of useful classes like linear networks layers, activation functions, loss functions etc. A full list can be found [here](https://pytorch.org/docs/stable/nn.html). In case you need a certain network layer, check the documentation of the package first before writing the layer yourself as the package likely contains the code for it already. We import it below:"
   ]
  },
  {
   "cell_type": "code",
   "execution_count": 40,
   "metadata": {},
   "outputs": [],
   "source": [
    "import torch.nn as nn"
   ]
  },
  {
   "cell_type": "markdown",
   "metadata": {},
   "source": [
    "Additionally to `torch.nn`, there is also `torch.nn.functional`. It contains functions that are used in network layers. This is in contrast to `torch.nn` which defines them as `nn.Modules` (more on it below), and `torch.nn` actually uses a lot of functionalities from `torch.nn.functional`. Hence, the functional package is useful in many situations, and so we import it as well here."
   ]
  },
  {
   "cell_type": "code",
   "execution_count": 41,
   "metadata": {},
   "outputs": [],
   "source": [
    "import torch.nn.functional as F"
   ]
  },
  {
   "cell_type": "markdown",
   "metadata": {},
   "source": [
    "#### nn.Module\n",
    "\n",
    "In PyTorch, a neural network is built up out of modules. Modules can contain other modules, and a neural network is considered to be a module itself as well. The basic template of a module is as follows:"
   ]
  },
  {
   "cell_type": "code",
   "execution_count": 42,
   "metadata": {},
   "outputs": [],
   "source": [
    "class MyModule(nn.Module):\n",
    "    \n",
    "    def __init__(self):\n",
    "        super().__init__()\n",
    "        # Some init for my module\n",
    "        \n",
    "    def forward(self, x):\n",
    "        # Function for performing the calculation of the module.\n",
    "        pass"
   ]
  },
  {
   "cell_type": "markdown",
   "metadata": {},
   "source": [
    "The forward function is where the computation of the module is taken place, and is executed when you call the module (`nn = MyModule(); nn(x)`). In the init function, we usually create the parameters of the module, using `nn.Parameter`, or defining other modules that are used in the forward function. The backward calculation is done automatically, but could be overwritten as well if wanted.\n",
    "\n",
    "#### Simple classifier\n",
    "We can now make use of the pre-defined modules in the `torch.nn` package, and define our own small neural network. We will use a minimal network with a input layer, one hidden layer with tanh as activation function, and a output layer. In other words, our networks should look something like this:\n",
    "\n",
    "<center width=\"100%\"><img src=\"small_neural_network.svg\" width=\"300px\"></center>\n",
    "\n",
    "The input neurons are shown in blue, which represent the coordinates $x_1$ and $x_2$ of a data point. The hidden neurons including a tanh activation are shown in white, and the output neuron in red.\n",
    "In PyTorch, we can define this as follows:"
   ]
  },
  {
   "cell_type": "code",
   "execution_count": 43,
   "metadata": {},
   "outputs": [],
   "source": [
    "class SimpleClassifier(nn.Module):\n",
    "\n",
    "    def __init__(self, num_inputs, num_hidden, num_outputs):\n",
    "        super().__init__()\n",
    "        # Initialize the modules we need to build the network\n",
    "        self.linear1 = nn.Linear(num_inputs, num_hidden)\n",
    "        self.act_fn = nn.Tanh()\n",
    "        self.linear2 = nn.Linear(num_hidden, num_outputs)\n",
    "\n",
    "    def forward(self, x):\n",
    "        # Perform the calculation of the model to determine the prediction\n",
    "        x = self.linear1(x)\n",
    "        x = self.act_fn(x)\n",
    "        x = self.linear2(x)\n",
    "        return x"
   ]
  },
  {
   "cell_type": "markdown",
   "metadata": {},
   "source": [
    "For the examples in this notebook, we will use a tiny neural network with two input neurons and four hidden neurons. As we perform binary classification, we will use a single output neuron. Note that we do not apply a sigmoid on the output yet. This is because other functions, especially the loss, are more efficient and precise to calculate on the original outputs instead of the sigmoid output. We will discuss the detailed reason later."
   ]
  },
  {
   "cell_type": "code",
   "execution_count": 44,
   "metadata": {},
   "outputs": [
    {
     "name": "stdout",
     "output_type": "stream",
     "text": [
      "SimpleClassifier(\n",
      "  (linear1): Linear(in_features=2, out_features=4, bias=True)\n",
      "  (act_fn): Tanh()\n",
      "  (linear2): Linear(in_features=4, out_features=1, bias=True)\n",
      ")\n"
     ]
    }
   ],
   "source": [
    "model = SimpleClassifier(num_inputs=2, num_hidden=4, num_outputs=1)\n",
    "# Printing a module shows all its submodules\n",
    "print(model)"
   ]
  },
  {
   "cell_type": "markdown",
   "metadata": {},
   "source": [
    "Printing the model lists all submodules it contains. The parameters of a module can be obtained by using its `parameters()` functions, or `named_parameters()` to get a name to each parameter object. For our small neural network, we have the following parameters:"
   ]
  },
  {
   "cell_type": "code",
   "execution_count": 45,
   "metadata": {},
   "outputs": [
    {
     "name": "stdout",
     "output_type": "stream",
     "text": [
      "Parameter linear1.weight, shape torch.Size([4, 2])\n",
      "Parameter linear1.bias, shape torch.Size([4])\n",
      "Parameter linear2.weight, shape torch.Size([1, 4])\n",
      "Parameter linear2.bias, shape torch.Size([1])\n"
     ]
    }
   ],
   "source": [
    "for name, param in model.named_parameters():\n",
    "    print(f\"Parameter {name}, shape {param.shape}\")"
   ]
  },
  {
   "cell_type": "markdown",
   "metadata": {},
   "source": [
    "Each linear layer has a weight matrix of the shape `[output, input]`, and a bias of the shape `[output]`. The tanh activation function does not have any parameters. Note that parameters are only registered for `nn.Module` objects that are direct object attributes, i.e. `self.a = ...`. If you define a list of modules, the parameters of those are not registered for the outer module and can cause some issues when you try to optimize your module. There are alternatives, like `nn.ModuleList`, `nn.ModuleDict` and `nn.Sequential`, that allow you to have different data structures of modules. We will use them in a few later tutorials and explain them there. "
   ]
  },
  {
   "cell_type": "markdown",
   "metadata": {},
   "source": [
    "### The data\n",
    "\n",
    "PyTorch also provides a few functionalities to load the training and test data efficiently, summarized in the package `torch.utils.data`."
   ]
  },
  {
   "cell_type": "code",
   "execution_count": 46,
   "metadata": {},
   "outputs": [],
   "source": [
    "import torch.utils.data as data"
   ]
  },
  {
   "cell_type": "markdown",
   "metadata": {},
   "source": [
    "The data package defines two classes which are the standard interface for handling data in PyTorch: `data.Dataset`, and `data.DataLoader`. The dataset class provides an uniform interface to access the training/test data, while the data loader makes sure to efficiently load and stack the data points from the dataset into batches during training."
   ]
  },
  {
   "cell_type": "markdown",
   "metadata": {},
   "source": [
    "#### The dataset class\n",
    "\n",
    "The dataset class summarizes the basic functionality of a dataset in a natural way. To define a dataset in PyTorch, we simply specify two functions: `__getitem__`, and `__len__`. The get-item function has to return the $i$-th data point in the dataset, while the len function returns the size of the dataset. For the XOR dataset, we can define the dataset class as follows:"
   ]
  },
  {
   "cell_type": "code",
   "execution_count": 47,
   "metadata": {},
   "outputs": [],
   "source": [
    "class XORDataset(data.Dataset):\n",
    "\n",
    "    def __init__(self, size, std=0.1):\n",
    "        \"\"\"\n",
    "        Inputs:\n",
    "            size - Number of data points we want to generate\n",
    "            std - Standard deviation of the noise (see generate_continuous_xor function)\n",
    "        \"\"\"\n",
    "        super().__init__()\n",
    "        self.size = size\n",
    "        self.std = std\n",
    "        self.generate_continuous_xor()\n",
    "\n",
    "    def generate_continuous_xor(self):\n",
    "        # Each data point in the XOR dataset has two variables, x and y, that can be either 0 or 1\n",
    "        # The label is their XOR combination, i.e. 1 if only x or only y is 1 while the other is 0.\n",
    "        # If x=y, the label is 0.\n",
    "        data = torch.randint(low=0, high=2, size=(self.size, 2), dtype=torch.float32)\n",
    "        label = (data.sum(dim=1) == 1).to(torch.long)\n",
    "        # To make it slightly more challenging, we add a bit of gaussian noise to the data points.\n",
    "        data += self.std * torch.randn(data.shape)\n",
    "\n",
    "        self.data = data\n",
    "        self.label = label\n",
    "\n",
    "    def __len__(self):\n",
    "        # Number of data point we have. Alternatively self.data.shape[0], or self.label.shape[0]\n",
    "        return self.size\n",
    "\n",
    "    def __getitem__(self, idx):\n",
    "        # Return the idx-th data point of the dataset\n",
    "        # If we have multiple things to return (data point and label), we can return them as tuple\n",
    "        data_point = self.data[idx]\n",
    "        data_label = self.label[idx]\n",
    "        return data_point, data_label"
   ]
  },
  {
   "cell_type": "markdown",
   "metadata": {},
   "source": [
    "Let's try to create such a dataset and inspect it:"
   ]
  },
  {
   "cell_type": "code",
   "execution_count": 48,
   "metadata": {},
   "outputs": [
    {
     "name": "stdout",
     "output_type": "stream",
     "text": [
      "Size of dataset: 200\n",
      "Data point 0: (tensor([1.0909, 0.0114]), tensor(1))\n"
     ]
    }
   ],
   "source": [
    "dataset = XORDataset(size=200)\n",
    "print(\"Size of dataset:\", len(dataset))\n",
    "print(\"Data point 0:\", dataset[0])"
   ]
  },
  {
   "cell_type": "markdown",
   "metadata": {},
   "source": [
    "To better relate to the dataset, we visualize the samples below. "
   ]
  },
  {
   "cell_type": "code",
   "execution_count": 49,
   "metadata": {},
   "outputs": [],
   "source": [
    "def visualize_samples(data, label):\n",
    "    if isinstance(data, torch.Tensor):\n",
    "        data = data.cpu().numpy()\n",
    "    if isinstance(label, torch.Tensor):\n",
    "        label = label.cpu().numpy()\n",
    "    data_0 = data[label == 0]\n",
    "    data_1 = data[label == 1]\n",
    "    \n",
    "    plt.figure(figsize=(4,4))\n",
    "    plt.scatter(data_0[:,0], data_0[:,1], edgecolor=\"#333\", label=\"Class 0\")\n",
    "    plt.scatter(data_1[:,0], data_1[:,1], edgecolor=\"#333\", label=\"Class 1\")\n",
    "    plt.title(\"Dataset samples\")\n",
    "    plt.ylabel(r\"$x_2$\")\n",
    "    plt.xlabel(r\"$x_1$\")\n",
    "    plt.legend()"
   ]
  },
  {
   "cell_type": "code",
   "execution_count": 50,
   "metadata": {},
   "outputs": [
    {
     "data": {
      "application/pdf": "[encoded data removed]",
      "image/svg+xml": [
       "<?xml version=\"1.0\" encoding=\"utf-8\" standalone=\"no\"?>\n",
       "<!DOCTYPE svg PUBLIC \"-//W3C//DTD SVG 1.1//EN\"\n",
       "  \"http://www.w3.org/Graphics/SVG/1.1/DTD/svg11.dtd\">\n",
       "<svg xmlns:xlink=\"http://www.w3.org/1999/xlink\" width=\"289.424844pt\" height=\"287.037813pt\" viewBox=\"0 0 289.424844 287.037813\" xmlns=\"http://www.w3.org/2000/svg\" version=\"1.1\">\n",
       " <metadata>\n",
       "  <rdf:RDF xmlns:dc=\"http://purl.org/dc/elements/1.1/\" xmlns:cc=\"http://creativecommons.org/ns#\" xmlns:rdf=\"http://www.w3.org/1999/02/22-rdf-syntax-ns#\">\n",
       "   <cc:Work>\n",
       "    <dc:type rdf:resource=\"http://purl.org/dc/dcmitype/StillImage\"/>\n",
       "    <dc:date>2023-04-20T14:31:58.600632</dc:date>\n",
       "    <dc:format>image/svg+xml</dc:format>\n",
       "    <dc:creator>\n",
       "     <cc:Agent>\n",
       "      <dc:title>Matplotlib v3.7.1, https://matplotlib.org/</dc:title>\n",
       "     </cc:Agent>\n",
       "    </dc:creator>\n",
       "   </cc:Work>\n",
       "  </rdf:RDF>\n",
       " </metadata>\n",
       " <defs>\n",
       "  <style type=\"text/css\">*{stroke-linejoin: round; stroke-linecap: butt}</style>\n",
       " </defs>\n",
       " <g id=\"figure_1\">\n",
       "  <g id=\"patch_1\">\n",
       "   <path d=\"M 0 287.037813 \n",
       "L 289.424844 287.037813 \n",
       "L 289.424844 0 \n",
       "L 0 0 \n",
       "z\n",
       "\" style=\"fill: #ffffff\"/>\n",
       "  </g>\n",
       "  <g id=\"axes_1\">\n",
       "   <g id=\"patch_2\">\n",
       "    <path d=\"M 59.024844 244.078125 \n",
       "L 282.224844 244.078125 \n",
       "L 282.224844 22.318125 \n",
       "L 59.024844 22.318125 \n",
       "z\n",
       "\" style=\"fill: #eaeaf2\"/>\n",
       "   </g>\n",
       "   <g id=\"matplotlib.axis_1\">\n",
       "    <g id=\"xtick_1\">\n",
       "     <g id=\"line2d_1\">\n",
       "      <path d=\"M 97.818192 244.078125 \n",
       "L 97.818192 22.318125 \n",
       "\" clip-path=\"url(#pc3a9a35de9)\" style=\"fill: none; stroke: #ffffff; stroke-linecap: round\"/>\n",
       "     </g>\n",
       "     <g id=\"text_1\">\n",
       "      <!-- 0.0 -->\n",
       "      <g style=\"fill: #262626\" transform=\"translate(89.071473 261.936406) scale(0.11 -0.11)\">\n",
       "       <defs>\n",
       "        <path id=\"DejaVuSans-30\" d=\"M 2034 4250 \n",
       "Q 1547 4250 1301 3770 \n",
       "Q 1056 3291 1056 2328 \n",
       "Q 1056 1369 1301 889 \n",
       "Q 1547 409 2034 409 \n",
       "Q 2525 409 2770 889 \n",
       "Q 3016 1369 3016 2328 \n",
       "Q 3016 3291 2770 3770 \n",
       "Q 2525 4250 2034 4250 \n",
       "z\n",
       "M 2034 4750 \n",
       "Q 2819 4750 3233 4129 \n",
       "Q 3647 3509 3647 2328 \n",
       "Q 3647 1150 3233 529 \n",
       "Q 2819 -91 2034 -91 \n",
       "Q 1250 -91 836 529 \n",
       "Q 422 1150 422 2328 \n",
       "Q 422 3509 836 4129 \n",
       "Q 1250 4750 2034 4750 \n",
       "z\n",
       "\" transform=\"scale(0.015625)\"/>\n",
       "        <path id=\"DejaVuSans-2e\" d=\"M 684 794 \n",
       "L 1344 794 \n",
       "L 1344 0 \n",
       "L 684 0 \n",
       "L 684 794 \n",
       "z\n",
       "\" transform=\"scale(0.015625)\"/>\n",
       "       </defs>\n",
       "       <use xlink:href=\"#DejaVuSans-30\"/>\n",
       "       <use xlink:href=\"#DejaVuSans-2e\" x=\"63.623047\"/>\n",
       "       <use xlink:href=\"#DejaVuSans-30\" x=\"95.410156\"/>\n",
       "      </g>\n",
       "     </g>\n",
       "    </g>\n",
       "    <g id=\"xtick_2\">\n",
       "     <g id=\"line2d_2\">\n",
       "      <path d=\"M 165.268197 244.078125 \n",
       "L 165.268197 22.318125 \n",
       "\" clip-path=\"url(#pc3a9a35de9)\" style=\"fill: none; stroke: #ffffff; stroke-linecap: round\"/>\n",
       "     </g>\n",
       "     <g id=\"text_2\">\n",
       "      <!-- 0.5 -->\n",
       "      <g style=\"fill: #262626\" transform=\"translate(156.521478 261.936406) scale(0.11 -0.11)\">\n",
       "       <defs>\n",
       "        <path id=\"DejaVuSans-35\" d=\"M 691 4666 \n",
       "L 3169 4666 \n",
       "L 3169 4134 \n",
       "L 1269 4134 \n",
       "L 1269 2991 \n",
       "Q 1406 3038 1543 3061 \n",
       "Q 1681 3084 1819 3084 \n",
       "Q 2600 3084 3056 2656 \n",
       "Q 3513 2228 3513 1497 \n",
       "Q 3513 744 3044 326 \n",
       "Q 2575 -91 1722 -91 \n",
       "Q 1428 -91 1123 -41 \n",
       "Q 819 9 494 109 \n",
       "L 494 744 \n",
       "Q 775 591 1075 516 \n",
       "Q 1375 441 1709 441 \n",
       "Q 2250 441 2565 725 \n",
       "Q 2881 1009 2881 1497 \n",
       "Q 2881 1984 2565 2268 \n",
       "Q 2250 2553 1709 2553 \n",
       "Q 1456 2553 1204 2497 \n",
       "Q 953 2441 691 2322 \n",
       "L 691 4666 \n",
       "z\n",
       "\" transform=\"scale(0.015625)\"/>\n",
       "       </defs>\n",
       "       <use xlink:href=\"#DejaVuSans-30\"/>\n",
       "       <use xlink:href=\"#DejaVuSans-2e\" x=\"63.623047\"/>\n",
       "       <use xlink:href=\"#DejaVuSans-35\" x=\"95.410156\"/>\n",
       "      </g>\n",
       "     </g>\n",
       "    </g>\n",
       "    <g id=\"xtick_3\">\n",
       "     <g id=\"line2d_3\">\n",
       "      <path d=\"M 232.718201 244.078125 \n",
       "L 232.718201 22.318125 \n",
       "\" clip-path=\"url(#pc3a9a35de9)\" style=\"fill: none; stroke: #ffffff; stroke-linecap: round\"/>\n",
       "     </g>\n",
       "     <g id=\"text_3\">\n",
       "      <!-- 1.0 -->\n",
       "      <g style=\"fill: #262626\" transform=\"translate(223.971482 261.936406) scale(0.11 -0.11)\">\n",
       "       <defs>\n",
       "        <path id=\"DejaVuSans-31\" d=\"M 794 531 \n",
       "L 1825 531 \n",
       "L 1825 4091 \n",
       "L 703 3866 \n",
       "L 703 4441 \n",
       "L 1819 4666 \n",
       "L 2450 4666 \n",
       "L 2450 531 \n",
       "L 3481 531 \n",
       "L 3481 0 \n",
       "L 794 0 \n",
       "L 794 531 \n",
       "z\n",
       "\" transform=\"scale(0.015625)\"/>\n",
       "       </defs>\n",
       "       <use xlink:href=\"#DejaVuSans-31\"/>\n",
       "       <use xlink:href=\"#DejaVuSans-2e\" x=\"63.623047\"/>\n",
       "       <use xlink:href=\"#DejaVuSans-30\" x=\"95.410156\"/>\n",
       "      </g>\n",
       "     </g>\n",
       "    </g>\n",
       "    <g id=\"text_4\">\n",
       "     <!-- $x_1$ -->\n",
       "     <g style=\"fill: #262626\" transform=\"translate(164.204844 277.342188) scale(0.12 -0.12)\">\n",
       "      <defs>\n",
       "       <path id=\"DejaVuSans-Oblique-78\" d=\"M 3841 3500 \n",
       "L 2234 1784 \n",
       "L 3219 0 \n",
       "L 2559 0 \n",
       "L 1819 1388 \n",
       "L 531 0 \n",
       "L -166 0 \n",
       "L 1556 1844 \n",
       "L 641 3500 \n",
       "L 1300 3500 \n",
       "L 1972 2234 \n",
       "L 3144 3500 \n",
       "L 3841 3500 \n",
       "z\n",
       "\" transform=\"scale(0.015625)\"/>\n",
       "      </defs>\n",
       "      <use xlink:href=\"#DejaVuSans-Oblique-78\" transform=\"translate(0 0.3125)\"/>\n",
       "      <use xlink:href=\"#DejaVuSans-31\" transform=\"translate(59.179688 -16.09375) scale(0.7)\"/>\n",
       "     </g>\n",
       "    </g>\n",
       "   </g>\n",
       "   <g id=\"matplotlib.axis_2\">\n",
       "    <g id=\"ytick_1\">\n",
       "     <g id=\"line2d_4\">\n",
       "      <path d=\"M 59.024844 224.604297 \n",
       "L 282.224844 224.604297 \n",
       "\" clip-path=\"url(#pc3a9a35de9)\" style=\"fill: none; stroke: #ffffff; stroke-linecap: round\"/>\n",
       "     </g>\n",
       "     <g id=\"text_5\">\n",
       "      <!-- −0.2 -->\n",
       "      <g style=\"fill: #262626\" transform=\"translate(22.81375 228.783438) scale(0.11 -0.11)\">\n",
       "       <defs>\n",
       "        <path id=\"DejaVuSans-2212\" d=\"M 678 2272 \n",
       "L 4684 2272 \n",
       "L 4684 1741 \n",
       "L 678 1741 \n",
       "L 678 2272 \n",
       "z\n",
       "\" transform=\"scale(0.015625)\"/>\n",
       "        <path id=\"DejaVuSans-32\" d=\"M 1228 531 \n",
       "L 3431 531 \n",
       "L 3431 0 \n",
       "L 469 0 \n",
       "L 469 531 \n",
       "Q 828 903 1448 1529 \n",
       "Q 2069 2156 2228 2338 \n",
       "Q 2531 2678 2651 2914 \n",
       "Q 2772 3150 2772 3378 \n",
       "Q 2772 3750 2511 3984 \n",
       "Q 2250 4219 1831 4219 \n",
       "Q 1534 4219 1204 4116 \n",
       "Q 875 4013 500 3803 \n",
       "L 500 4441 \n",
       "Q 881 4594 1212 4672 \n",
       "Q 1544 4750 1819 4750 \n",
       "Q 2544 4750 2975 4387 \n",
       "Q 3406 4025 3406 3419 \n",
       "Q 3406 3131 3298 2873 \n",
       "Q 3191 2616 2906 2266 \n",
       "Q 2828 2175 2409 1742 \n",
       "Q 1991 1309 1228 531 \n",
       "z\n",
       "\" transform=\"scale(0.015625)\"/>\n",
       "       </defs>\n",
       "       <use xlink:href=\"#DejaVuSans-2212\"/>\n",
       "       <use xlink:href=\"#DejaVuSans-30\" x=\"83.789062\"/>\n",
       "       <use xlink:href=\"#DejaVuSans-2e\" x=\"147.412109\"/>\n",
       "       <use xlink:href=\"#DejaVuSans-32\" x=\"179.199219\"/>\n",
       "      </g>\n",
       "     </g>\n",
       "    </g>\n",
       "    <g id=\"ytick_2\">\n",
       "     <g id=\"line2d_5\">\n",
       "      <path d=\"M 59.024844 198.022755 \n",
       "L 282.224844 198.022755 \n",
       "\" clip-path=\"url(#pc3a9a35de9)\" style=\"fill: none; stroke: #ffffff; stroke-linecap: round\"/>\n",
       "     </g>\n",
       "     <g id=\"text_6\">\n",
       "      <!-- 0.0 -->\n",
       "      <g style=\"fill: #262626\" transform=\"translate(32.031406 202.201895) scale(0.11 -0.11)\">\n",
       "       <use xlink:href=\"#DejaVuSans-30\"/>\n",
       "       <use xlink:href=\"#DejaVuSans-2e\" x=\"63.623047\"/>\n",
       "       <use xlink:href=\"#DejaVuSans-30\" x=\"95.410156\"/>\n",
       "      </g>\n",
       "     </g>\n",
       "    </g>\n",
       "    <g id=\"ytick_3\">\n",
       "     <g id=\"line2d_6\">\n",
       "      <path d=\"M 59.024844 171.441212 \n",
       "L 282.224844 171.441212 \n",
       "\" clip-path=\"url(#pc3a9a35de9)\" style=\"fill: none; stroke: #ffffff; stroke-linecap: round\"/>\n",
       "     </g>\n",
       "     <g id=\"text_7\">\n",
       "      <!-- 0.2 -->\n",
       "      <g style=\"fill: #262626\" transform=\"translate(32.031406 175.620352) scale(0.11 -0.11)\">\n",
       "       <use xlink:href=\"#DejaVuSans-30\"/>\n",
       "       <use xlink:href=\"#DejaVuSans-2e\" x=\"63.623047\"/>\n",
       "       <use xlink:href=\"#DejaVuSans-32\" x=\"95.410156\"/>\n",
       "      </g>\n",
       "     </g>\n",
       "    </g>\n",
       "    <g id=\"ytick_4\">\n",
       "     <g id=\"line2d_7\">\n",
       "      <path d=\"M 59.024844 144.859669 \n",
       "L 282.224844 144.859669 \n",
       "\" clip-path=\"url(#pc3a9a35de9)\" style=\"fill: none; stroke: #ffffff; stroke-linecap: round\"/>\n",
       "     </g>\n",
       "     <g id=\"text_8\">\n",
       "      <!-- 0.4 -->\n",
       "      <g style=\"fill: #262626\" transform=\"translate(32.031406 149.03881) scale(0.11 -0.11)\">\n",
       "       <defs>\n",
       "        <path id=\"DejaVuSans-34\" d=\"M 2419 4116 \n",
       "L 825 1625 \n",
       "L 2419 1625 \n",
       "L 2419 4116 \n",
       "z\n",
       "M 2253 4666 \n",
       "L 3047 4666 \n",
       "L 3047 1625 \n",
       "L 3713 1625 \n",
       "L 3713 1100 \n",
       "L 3047 1100 \n",
       "L 3047 0 \n",
       "L 2419 0 \n",
       "L 2419 1100 \n",
       "L 313 1100 \n",
       "L 313 1709 \n",
       "L 2253 4666 \n",
       "z\n",
       "\" transform=\"scale(0.015625)\"/>\n",
       "       </defs>\n",
       "       <use xlink:href=\"#DejaVuSans-30\"/>\n",
       "       <use xlink:href=\"#DejaVuSans-2e\" x=\"63.623047\"/>\n",
       "       <use xlink:href=\"#DejaVuSans-34\" x=\"95.410156\"/>\n",
       "      </g>\n",
       "     </g>\n",
       "    </g>\n",
       "    <g id=\"ytick_5\">\n",
       "     <g id=\"line2d_8\">\n",
       "      <path d=\"M 59.024844 118.278126 \n",
       "L 282.224844 118.278126 \n",
       "\" clip-path=\"url(#pc3a9a35de9)\" style=\"fill: none; stroke: #ffffff; stroke-linecap: round\"/>\n",
       "     </g>\n",
       "     <g id=\"text_9\">\n",
       "      <!-- 0.6 -->\n",
       "      <g style=\"fill: #262626\" transform=\"translate(32.031406 122.457267) scale(0.11 -0.11)\">\n",
       "       <defs>\n",
       "        <path id=\"DejaVuSans-36\" d=\"M 2113 2584 \n",
       "Q 1688 2584 1439 2293 \n",
       "Q 1191 2003 1191 1497 \n",
       "Q 1191 994 1439 701 \n",
       "Q 1688 409 2113 409 \n",
       "Q 2538 409 2786 701 \n",
       "Q 3034 994 3034 1497 \n",
       "Q 3034 2003 2786 2293 \n",
       "Q 2538 2584 2113 2584 \n",
       "z\n",
       "M 3366 4563 \n",
       "L 3366 3988 \n",
       "Q 3128 4100 2886 4159 \n",
       "Q 2644 4219 2406 4219 \n",
       "Q 1781 4219 1451 3797 \n",
       "Q 1122 3375 1075 2522 \n",
       "Q 1259 2794 1537 2939 \n",
       "Q 1816 3084 2150 3084 \n",
       "Q 2853 3084 3261 2657 \n",
       "Q 3669 2231 3669 1497 \n",
       "Q 3669 778 3244 343 \n",
       "Q 2819 -91 2113 -91 \n",
       "Q 1303 -91 875 529 \n",
       "Q 447 1150 447 2328 \n",
       "Q 447 3434 972 4092 \n",
       "Q 1497 4750 2381 4750 \n",
       "Q 2619 4750 2861 4703 \n",
       "Q 3103 4656 3366 4563 \n",
       "z\n",
       "\" transform=\"scale(0.015625)\"/>\n",
       "       </defs>\n",
       "       <use xlink:href=\"#DejaVuSans-30\"/>\n",
       "       <use xlink:href=\"#DejaVuSans-2e\" x=\"63.623047\"/>\n",
       "       <use xlink:href=\"#DejaVuSans-36\" x=\"95.410156\"/>\n",
       "      </g>\n",
       "     </g>\n",
       "    </g>\n",
       "    <g id=\"ytick_6\">\n",
       "     <g id=\"line2d_9\">\n",
       "      <path d=\"M 59.024844 91.696583 \n",
       "L 282.224844 91.696583 \n",
       "\" clip-path=\"url(#pc3a9a35de9)\" style=\"fill: none; stroke: #ffffff; stroke-linecap: round\"/>\n",
       "     </g>\n",
       "     <g id=\"text_10\">\n",
       "      <!-- 0.8 -->\n",
       "      <g style=\"fill: #262626\" transform=\"translate(32.031406 95.875724) scale(0.11 -0.11)\">\n",
       "       <defs>\n",
       "        <path id=\"DejaVuSans-38\" d=\"M 2034 2216 \n",
       "Q 1584 2216 1326 1975 \n",
       "Q 1069 1734 1069 1313 \n",
       "Q 1069 891 1326 650 \n",
       "Q 1584 409 2034 409 \n",
       "Q 2484 409 2743 651 \n",
       "Q 3003 894 3003 1313 \n",
       "Q 3003 1734 2745 1975 \n",
       "Q 2488 2216 2034 2216 \n",
       "z\n",
       "M 1403 2484 \n",
       "Q 997 2584 770 2862 \n",
       "Q 544 3141 544 3541 \n",
       "Q 544 4100 942 4425 \n",
       "Q 1341 4750 2034 4750 \n",
       "Q 2731 4750 3128 4425 \n",
       "Q 3525 4100 3525 3541 \n",
       "Q 3525 3141 3298 2862 \n",
       "Q 3072 2584 2669 2484 \n",
       "Q 3125 2378 3379 2068 \n",
       "Q 3634 1759 3634 1313 \n",
       "Q 3634 634 3220 271 \n",
       "Q 2806 -91 2034 -91 \n",
       "Q 1263 -91 848 271 \n",
       "Q 434 634 434 1313 \n",
       "Q 434 1759 690 2068 \n",
       "Q 947 2378 1403 2484 \n",
       "z\n",
       "M 1172 3481 \n",
       "Q 1172 3119 1398 2916 \n",
       "Q 1625 2713 2034 2713 \n",
       "Q 2441 2713 2670 2916 \n",
       "Q 2900 3119 2900 3481 \n",
       "Q 2900 3844 2670 4047 \n",
       "Q 2441 4250 2034 4250 \n",
       "Q 1625 4250 1398 4047 \n",
       "Q 1172 3844 1172 3481 \n",
       "z\n",
       "\" transform=\"scale(0.015625)\"/>\n",
       "       </defs>\n",
       "       <use xlink:href=\"#DejaVuSans-30\"/>\n",
       "       <use xlink:href=\"#DejaVuSans-2e\" x=\"63.623047\"/>\n",
       "       <use xlink:href=\"#DejaVuSans-38\" x=\"95.410156\"/>\n",
       "      </g>\n",
       "     </g>\n",
       "    </g>\n",
       "    <g id=\"ytick_7\">\n",
       "     <g id=\"line2d_10\">\n",
       "      <path d=\"M 59.024844 65.115041 \n",
       "L 282.224844 65.115041 \n",
       "\" clip-path=\"url(#pc3a9a35de9)\" style=\"fill: none; stroke: #ffffff; stroke-linecap: round\"/>\n",
       "     </g>\n",
       "     <g id=\"text_11\">\n",
       "      <!-- 1.0 -->\n",
       "      <g style=\"fill: #262626\" transform=\"translate(32.031406 69.294181) scale(0.11 -0.11)\">\n",
       "       <use xlink:href=\"#DejaVuSans-31\"/>\n",
       "       <use xlink:href=\"#DejaVuSans-2e\" x=\"63.623047\"/>\n",
       "       <use xlink:href=\"#DejaVuSans-30\" x=\"95.410156\"/>\n",
       "      </g>\n",
       "     </g>\n",
       "    </g>\n",
       "    <g id=\"ytick_8\">\n",
       "     <g id=\"line2d_11\">\n",
       "      <path d=\"M 59.024844 38.533498 \n",
       "L 282.224844 38.533498 \n",
       "\" clip-path=\"url(#pc3a9a35de9)\" style=\"fill: none; stroke: #ffffff; stroke-linecap: round\"/>\n",
       "     </g>\n",
       "     <g id=\"text_12\">\n",
       "      <!-- 1.2 -->\n",
       "      <g style=\"fill: #262626\" transform=\"translate(32.031406 42.712638) scale(0.11 -0.11)\">\n",
       "       <use xlink:href=\"#DejaVuSans-31\"/>\n",
       "       <use xlink:href=\"#DejaVuSans-2e\" x=\"63.623047\"/>\n",
       "       <use xlink:href=\"#DejaVuSans-32\" x=\"95.410156\"/>\n",
       "      </g>\n",
       "     </g>\n",
       "    </g>\n",
       "    <g id=\"text_13\">\n",
       "     <!-- $x_2$ -->\n",
       "     <g style=\"fill: #262626\" transform=\"translate(16.318125 139.618125) rotate(-90) scale(0.12 -0.12)\">\n",
       "      <use xlink:href=\"#DejaVuSans-Oblique-78\" transform=\"translate(0 0.3125)\"/>\n",
       "      <use xlink:href=\"#DejaVuSans-32\" transform=\"translate(59.179688 -16.09375) scale(0.7)\"/>\n",
       "     </g>\n",
       "    </g>\n",
       "   </g>\n",
       "   <g id=\"PathCollection_1\">\n",
       "    <defs>\n",
       "     <path id=\"m093a8c76cc\" d=\"M 0 3 \n",
       "C 0.795609 3 1.55874 2.683901 2.12132 2.12132 \n",
       "C 2.683901 1.55874 3 0.795609 3 0 \n",
       "C 3 -0.795609 2.683901 -1.55874 2.12132 -2.12132 \n",
       "C 1.55874 -2.683901 0.795609 -3 0 -3 \n",
       "C -0.795609 -3 -1.55874 -2.683901 -2.12132 -2.12132 \n",
       "C -2.683901 -1.55874 -3 -0.795609 -3 0 \n",
       "C -3 0.795609 -2.683901 1.55874 -2.12132 2.12132 \n",
       "C -1.55874 2.683901 -0.795609 3 0 3 \n",
       "z\n",
       "\" style=\"stroke: #333333\"/>\n",
       "    </defs>\n",
       "    <g clip-path=\"url(#pc3a9a35de9)\">\n",
       "     <use xlink:href=\"#m093a8c76cc\" x=\"88.748055\" y=\"172.380075\" style=\"fill: #4c72b0; stroke: #333333\"/>\n",
       "     <use xlink:href=\"#m093a8c76cc\" x=\"229.637178\" y=\"50.049551\" style=\"fill: #4c72b0; stroke: #333333\"/>\n",
       "     <use xlink:href=\"#m093a8c76cc\" x=\"88.023004\" y=\"194.669854\" style=\"fill: #4c72b0; stroke: #333333\"/>\n",
       "     <use xlink:href=\"#m093a8c76cc\" x=\"201.10159\" y=\"71.736678\" style=\"fill: #4c72b0; stroke: #333333\"/>\n",
       "     <use xlink:href=\"#m093a8c76cc\" x=\"101.899538\" y=\"196.597429\" style=\"fill: #4c72b0; stroke: #333333\"/>\n",
       "     <use xlink:href=\"#m093a8c76cc\" x=\"102.114743\" y=\"190.035253\" style=\"fill: #4c72b0; stroke: #333333\"/>\n",
       "     <use xlink:href=\"#m093a8c76cc\" x=\"91.530577\" y=\"175.995266\" style=\"fill: #4c72b0; stroke: #333333\"/>\n",
       "     <use xlink:href=\"#m093a8c76cc\" x=\"84.769814\" y=\"209.77794\" style=\"fill: #4c72b0; stroke: #333333\"/>\n",
       "     <use xlink:href=\"#m093a8c76cc\" x=\"238.08533\" y=\"59.170656\" style=\"fill: #4c72b0; stroke: #333333\"/>\n",
       "     <use xlink:href=\"#m093a8c76cc\" x=\"101.991315\" y=\"218.828254\" style=\"fill: #4c72b0; stroke: #333333\"/>\n",
       "     <use xlink:href=\"#m093a8c76cc\" x=\"240.691648\" y=\"95.312232\" style=\"fill: #4c72b0; stroke: #333333\"/>\n",
       "     <use xlink:href=\"#m093a8c76cc\" x=\"218.109949\" y=\"90.33871\" style=\"fill: #4c72b0; stroke: #333333\"/>\n",
       "     <use xlink:href=\"#m093a8c76cc\" x=\"245.005\" y=\"89.120501\" style=\"fill: #4c72b0; stroke: #333333\"/>\n",
       "     <use xlink:href=\"#m093a8c76cc\" x=\"220.912419\" y=\"52.387324\" style=\"fill: #4c72b0; stroke: #333333\"/>\n",
       "     <use xlink:href=\"#m093a8c76cc\" x=\"219.116247\" y=\"85.047178\" style=\"fill: #4c72b0; stroke: #333333\"/>\n",
       "     <use xlink:href=\"#m093a8c76cc\" x=\"93.401916\" y=\"211.30611\" style=\"fill: #4c72b0; stroke: #333333\"/>\n",
       "     <use xlink:href=\"#m093a8c76cc\" x=\"89.798192\" y=\"215.886763\" style=\"fill: #4c72b0; stroke: #333333\"/>\n",
       "     <use xlink:href=\"#m093a8c76cc\" x=\"100.01983\" y=\"204.35321\" style=\"fill: #4c72b0; stroke: #333333\"/>\n",
       "     <use xlink:href=\"#m093a8c76cc\" x=\"241.792769\" y=\"62.744771\" style=\"fill: #4c72b0; stroke: #333333\"/>\n",
       "     <use xlink:href=\"#m093a8c76cc\" x=\"84.161892\" y=\"186.2038\" style=\"fill: #4c72b0; stroke: #333333\"/>\n",
       "     <use xlink:href=\"#m093a8c76cc\" x=\"262.504804\" y=\"58.817211\" style=\"fill: #4c72b0; stroke: #333333\"/>\n",
       "     <use xlink:href=\"#m093a8c76cc\" x=\"238.229435\" y=\"82.938934\" style=\"fill: #4c72b0; stroke: #333333\"/>\n",
       "     <use xlink:href=\"#m093a8c76cc\" x=\"114.811985\" y=\"188.356515\" style=\"fill: #4c72b0; stroke: #333333\"/>\n",
       "     <use xlink:href=\"#m093a8c76cc\" x=\"100.528409\" y=\"193.534166\" style=\"fill: #4c72b0; stroke: #333333\"/>\n",
       "     <use xlink:href=\"#m093a8c76cc\" x=\"235.004436\" y=\"68.331569\" style=\"fill: #4c72b0; stroke: #333333\"/>\n",
       "     <use xlink:href=\"#m093a8c76cc\" x=\"243.705885\" y=\"60.917708\" style=\"fill: #4c72b0; stroke: #333333\"/>\n",
       "     <use xlink:href=\"#m093a8c76cc\" x=\"95.838818\" y=\"200.523295\" style=\"fill: #4c72b0; stroke: #333333\"/>\n",
       "     <use xlink:href=\"#m093a8c76cc\" x=\"259.760026\" y=\"69.021338\" style=\"fill: #4c72b0; stroke: #333333\"/>\n",
       "     <use xlink:href=\"#m093a8c76cc\" x=\"217.434967\" y=\"72.941855\" style=\"fill: #4c72b0; stroke: #333333\"/>\n",
       "     <use xlink:href=\"#m093a8c76cc\" x=\"232.553239\" y=\"46.654803\" style=\"fill: #4c72b0; stroke: #333333\"/>\n",
       "     <use xlink:href=\"#m093a8c76cc\" x=\"104.129553\" y=\"192.815093\" style=\"fill: #4c72b0; stroke: #333333\"/>\n",
       "     <use xlink:href=\"#m093a8c76cc\" x=\"234.603432\" y=\"56.959855\" style=\"fill: #4c72b0; stroke: #333333\"/>\n",
       "     <use xlink:href=\"#m093a8c76cc\" x=\"98.224342\" y=\"204.21456\" style=\"fill: #4c72b0; stroke: #333333\"/>\n",
       "     <use xlink:href=\"#m093a8c76cc\" x=\"103.205433\" y=\"184.274661\" style=\"fill: #4c72b0; stroke: #333333\"/>\n",
       "     <use xlink:href=\"#m093a8c76cc\" x=\"234.121748\" y=\"69.444519\" style=\"fill: #4c72b0; stroke: #333333\"/>\n",
       "     <use xlink:href=\"#m093a8c76cc\" x=\"234.829664\" y=\"74.535467\" style=\"fill: #4c72b0; stroke: #333333\"/>\n",
       "     <use xlink:href=\"#m093a8c76cc\" x=\"94.408282\" y=\"198.242535\" style=\"fill: #4c72b0; stroke: #333333\"/>\n",
       "     <use xlink:href=\"#m093a8c76cc\" x=\"238.495067\" y=\"59.745819\" style=\"fill: #4c72b0; stroke: #333333\"/>\n",
       "     <use xlink:href=\"#m093a8c76cc\" x=\"101.275426\" y=\"205.967789\" style=\"fill: #4c72b0; stroke: #333333\"/>\n",
       "     <use xlink:href=\"#m093a8c76cc\" x=\"248.331118\" y=\"83.12563\" style=\"fill: #4c72b0; stroke: #333333\"/>\n",
       "     <use xlink:href=\"#m093a8c76cc\" x=\"239.033582\" y=\"60.821631\" style=\"fill: #4c72b0; stroke: #333333\"/>\n",
       "     <use xlink:href=\"#m093a8c76cc\" x=\"83.989383\" y=\"201.62729\" style=\"fill: #4c72b0; stroke: #333333\"/>\n",
       "     <use xlink:href=\"#m093a8c76cc\" x=\"234.378631\" y=\"50.899842\" style=\"fill: #4c72b0; stroke: #333333\"/>\n",
       "     <use xlink:href=\"#m093a8c76cc\" x=\"102.064018\" y=\"197.037339\" style=\"fill: #4c72b0; stroke: #333333\"/>\n",
       "     <use xlink:href=\"#m093a8c76cc\" x=\"116.206667\" y=\"194.033137\" style=\"fill: #4c72b0; stroke: #333333\"/>\n",
       "     <use xlink:href=\"#m093a8c76cc\" x=\"104.806265\" y=\"201.670363\" style=\"fill: #4c72b0; stroke: #333333\"/>\n",
       "     <use xlink:href=\"#m093a8c76cc\" x=\"250.95802\" y=\"63.247718\" style=\"fill: #4c72b0; stroke: #333333\"/>\n",
       "     <use xlink:href=\"#m093a8c76cc\" x=\"236.83536\" y=\"78.682187\" style=\"fill: #4c72b0; stroke: #333333\"/>\n",
       "     <use xlink:href=\"#m093a8c76cc\" x=\"229.436371\" y=\"71.670467\" style=\"fill: #4c72b0; stroke: #333333\"/>\n",
       "     <use xlink:href=\"#m093a8c76cc\" x=\"249.61161\" y=\"59.738245\" style=\"fill: #4c72b0; stroke: #333333\"/>\n",
       "     <use xlink:href=\"#m093a8c76cc\" x=\"229.685832\" y=\"74.552008\" style=\"fill: #4c72b0; stroke: #333333\"/>\n",
       "     <use xlink:href=\"#m093a8c76cc\" x=\"77.888542\" y=\"173.986884\" style=\"fill: #4c72b0; stroke: #333333\"/>\n",
       "     <use xlink:href=\"#m093a8c76cc\" x=\"204.848911\" y=\"58.253821\" style=\"fill: #4c72b0; stroke: #333333\"/>\n",
       "     <use xlink:href=\"#m093a8c76cc\" x=\"207.035538\" y=\"61.278868\" style=\"fill: #4c72b0; stroke: #333333\"/>\n",
       "     <use xlink:href=\"#m093a8c76cc\" x=\"97.839437\" y=\"182.426731\" style=\"fill: #4c72b0; stroke: #333333\"/>\n",
       "     <use xlink:href=\"#m093a8c76cc\" x=\"232.412117\" y=\"52.098475\" style=\"fill: #4c72b0; stroke: #333333\"/>\n",
       "     <use xlink:href=\"#m093a8c76cc\" x=\"104.590437\" y=\"195.007298\" style=\"fill: #4c72b0; stroke: #333333\"/>\n",
       "     <use xlink:href=\"#m093a8c76cc\" x=\"117.375442\" y=\"190.484164\" style=\"fill: #4c72b0; stroke: #333333\"/>\n",
       "     <use xlink:href=\"#m093a8c76cc\" x=\"76.601404\" y=\"208.55861\" style=\"fill: #4c72b0; stroke: #333333\"/>\n",
       "     <use xlink:href=\"#m093a8c76cc\" x=\"90.56496\" y=\"205.641101\" style=\"fill: #4c72b0; stroke: #333333\"/>\n",
       "     <use xlink:href=\"#m093a8c76cc\" x=\"240.332584\" y=\"51.699702\" style=\"fill: #4c72b0; stroke: #333333\"/>\n",
       "     <use xlink:href=\"#m093a8c76cc\" x=\"112.463114\" y=\"196.218342\" style=\"fill: #4c72b0; stroke: #333333\"/>\n",
       "     <use xlink:href=\"#m093a8c76cc\" x=\"212.665887\" y=\"59.067703\" style=\"fill: #4c72b0; stroke: #333333\"/>\n",
       "     <use xlink:href=\"#m093a8c76cc\" x=\"115.883298\" y=\"168.19397\" style=\"fill: #4c72b0; stroke: #333333\"/>\n",
       "     <use xlink:href=\"#m093a8c76cc\" x=\"226.169632\" y=\"57.091089\" style=\"fill: #4c72b0; stroke: #333333\"/>\n",
       "     <use xlink:href=\"#m093a8c76cc\" x=\"107.554871\" y=\"192.71626\" style=\"fill: #4c72b0; stroke: #333333\"/>\n",
       "     <use xlink:href=\"#m093a8c76cc\" x=\"221.944945\" y=\"63.393465\" style=\"fill: #4c72b0; stroke: #333333\"/>\n",
       "     <use xlink:href=\"#m093a8c76cc\" x=\"97.851039\" y=\"233.998125\" style=\"fill: #4c72b0; stroke: #333333\"/>\n",
       "     <use xlink:href=\"#m093a8c76cc\" x=\"89.112945\" y=\"226.105174\" style=\"fill: #4c72b0; stroke: #333333\"/>\n",
       "     <use xlink:href=\"#m093a8c76cc\" x=\"214.798609\" y=\"49.119866\" style=\"fill: #4c72b0; stroke: #333333\"/>\n",
       "     <use xlink:href=\"#m093a8c76cc\" x=\"209.698527\" y=\"63.242981\" style=\"fill: #4c72b0; stroke: #333333\"/>\n",
       "     <use xlink:href=\"#m093a8c76cc\" x=\"233.035196\" y=\"82.051759\" style=\"fill: #4c72b0; stroke: #333333\"/>\n",
       "     <use xlink:href=\"#m093a8c76cc\" x=\"221.778383\" y=\"56.528966\" style=\"fill: #4c72b0; stroke: #333333\"/>\n",
       "     <use xlink:href=\"#m093a8c76cc\" x=\"110.516387\" y=\"193.539667\" style=\"fill: #4c72b0; stroke: #333333\"/>\n",
       "     <use xlink:href=\"#m093a8c76cc\" x=\"84.066199\" y=\"174.113678\" style=\"fill: #4c72b0; stroke: #333333\"/>\n",
       "     <use xlink:href=\"#m093a8c76cc\" x=\"234.896691\" y=\"54.918186\" style=\"fill: #4c72b0; stroke: #333333\"/>\n",
       "     <use xlink:href=\"#m093a8c76cc\" x=\"251.581027\" y=\"63.654207\" style=\"fill: #4c72b0; stroke: #333333\"/>\n",
       "     <use xlink:href=\"#m093a8c76cc\" x=\"101.178773\" y=\"220.076031\" style=\"fill: #4c72b0; stroke: #333333\"/>\n",
       "     <use xlink:href=\"#m093a8c76cc\" x=\"98.92122\" y=\"173.234753\" style=\"fill: #4c72b0; stroke: #333333\"/>\n",
       "     <use xlink:href=\"#m093a8c76cc\" x=\"94.511198\" y=\"185.552097\" style=\"fill: #4c72b0; stroke: #333333\"/>\n",
       "     <use xlink:href=\"#m093a8c76cc\" x=\"209.295947\" y=\"55.272344\" style=\"fill: #4c72b0; stroke: #333333\"/>\n",
       "     <use xlink:href=\"#m093a8c76cc\" x=\"217.726007\" y=\"81.317753\" style=\"fill: #4c72b0; stroke: #333333\"/>\n",
       "     <use xlink:href=\"#m093a8c76cc\" x=\"101.943421\" y=\"199.871578\" style=\"fill: #4c72b0; stroke: #333333\"/>\n",
       "     <use xlink:href=\"#m093a8c76cc\" x=\"99.2149\" y=\"211.150933\" style=\"fill: #4c72b0; stroke: #333333\"/>\n",
       "     <use xlink:href=\"#m093a8c76cc\" x=\"231.037814\" y=\"51.967383\" style=\"fill: #4c72b0; stroke: #333333\"/>\n",
       "     <use xlink:href=\"#m093a8c76cc\" x=\"246.455279\" y=\"83.765261\" style=\"fill: #4c72b0; stroke: #333333\"/>\n",
       "     <use xlink:href=\"#m093a8c76cc\" x=\"258.678701\" y=\"49.482579\" style=\"fill: #4c72b0; stroke: #333333\"/>\n",
       "     <use xlink:href=\"#m093a8c76cc\" x=\"117.537032\" y=\"194.780321\" style=\"fill: #4c72b0; stroke: #333333\"/>\n",
       "     <use xlink:href=\"#m093a8c76cc\" x=\"218.053391\" y=\"70.67644\" style=\"fill: #4c72b0; stroke: #333333\"/>\n",
       "     <use xlink:href=\"#m093a8c76cc\" x=\"241.179315\" y=\"46.168144\" style=\"fill: #4c72b0; stroke: #333333\"/>\n",
       "     <use xlink:href=\"#m093a8c76cc\" x=\"218.013952\" y=\"62.135655\" style=\"fill: #4c72b0; stroke: #333333\"/>\n",
       "     <use xlink:href=\"#m093a8c76cc\" x=\"97.07891\" y=\"204.405053\" style=\"fill: #4c72b0; stroke: #333333\"/>\n",
       "     <use xlink:href=\"#m093a8c76cc\" x=\"251.588891\" y=\"61.755561\" style=\"fill: #4c72b0; stroke: #333333\"/>\n",
       "     <use xlink:href=\"#m093a8c76cc\" x=\"230.033607\" y=\"69.658656\" style=\"fill: #4c72b0; stroke: #333333\"/>\n",
       "     <use xlink:href=\"#m093a8c76cc\" x=\"88.239495\" y=\"186.943211\" style=\"fill: #4c72b0; stroke: #333333\"/>\n",
       "     <use xlink:href=\"#m093a8c76cc\" x=\"103.078862\" y=\"209.751442\" style=\"fill: #4c72b0; stroke: #333333\"/>\n",
       "     <use xlink:href=\"#m093a8c76cc\" x=\"79.658595\" y=\"188.553269\" style=\"fill: #4c72b0; stroke: #333333\"/>\n",
       "     <use xlink:href=\"#m093a8c76cc\" x=\"241.36105\" y=\"98.208509\" style=\"fill: #4c72b0; stroke: #333333\"/>\n",
       "     <use xlink:href=\"#m093a8c76cc\" x=\"231.131834\" y=\"84.149379\" style=\"fill: #4c72b0; stroke: #333333\"/>\n",
       "     <use xlink:href=\"#m093a8c76cc\" x=\"83.381671\" y=\"215.556546\" style=\"fill: #4c72b0; stroke: #333333\"/>\n",
       "     <use xlink:href=\"#m093a8c76cc\" x=\"101.09434\" y=\"209.783644\" style=\"fill: #4c72b0; stroke: #333333\"/>\n",
       "     <use xlink:href=\"#m093a8c76cc\" x=\"97.975931\" y=\"202.745161\" style=\"fill: #4c72b0; stroke: #333333\"/>\n",
       "     <use xlink:href=\"#m093a8c76cc\" x=\"107.436532\" y=\"202.251725\" style=\"fill: #4c72b0; stroke: #333333\"/>\n",
       "     <use xlink:href=\"#m093a8c76cc\" x=\"250.538571\" y=\"91.788484\" style=\"fill: #4c72b0; stroke: #333333\"/>\n",
       "     <use xlink:href=\"#m093a8c76cc\" x=\"251.572311\" y=\"65.407486\" style=\"fill: #4c72b0; stroke: #333333\"/>\n",
       "     <use xlink:href=\"#m093a8c76cc\" x=\"246.859274\" y=\"70.012829\" style=\"fill: #4c72b0; stroke: #333333\"/>\n",
       "     <use xlink:href=\"#m093a8c76cc\" x=\"260.547127\" y=\"58.57309\" style=\"fill: #4c72b0; stroke: #333333\"/>\n",
       "     <use xlink:href=\"#m093a8c76cc\" x=\"239.133351\" y=\"78.112411\" style=\"fill: #4c72b0; stroke: #333333\"/>\n",
       "     <use xlink:href=\"#m093a8c76cc\" x=\"98.199067\" y=\"196.03419\" style=\"fill: #4c72b0; stroke: #333333\"/>\n",
       "     <use xlink:href=\"#m093a8c76cc\" x=\"124.690401\" y=\"223.453812\" style=\"fill: #4c72b0; stroke: #333333\"/>\n",
       "    </g>\n",
       "   </g>\n",
       "   <g id=\"PathCollection_2\">\n",
       "    <defs>\n",
       "     <path id=\"mde246af502\" d=\"M 0 3 \n",
       "C 0.795609 3 1.55874 2.683901 2.12132 2.12132 \n",
       "C 2.683901 1.55874 3 0.795609 3 0 \n",
       "C 3 -0.795609 2.683901 -1.55874 2.12132 -2.12132 \n",
       "C 1.55874 -2.683901 0.795609 -3 0 -3 \n",
       "C -0.795609 -3 -1.55874 -2.683901 -2.12132 -2.12132 \n",
       "C -2.683901 -1.55874 -3 -0.795609 -3 0 \n",
       "C -3 0.795609 -2.683901 1.55874 -2.12132 2.12132 \n",
       "C -1.55874 2.683901 -0.795609 3 0 3 \n",
       "z\n",
       "\" style=\"stroke: #333333\"/>\n",
       "    </defs>\n",
       "    <g clip-path=\"url(#pc3a9a35de9)\">\n",
       "     <use xlink:href=\"#mde246af502\" x=\"244.986104\" y=\"196.513954\" style=\"fill: #dd8452; stroke: #333333\"/>\n",
       "     <use xlink:href=\"#mde246af502\" x=\"110.240351\" y=\"83.13085\" style=\"fill: #dd8452; stroke: #333333\"/>\n",
       "     <use xlink:href=\"#mde246af502\" x=\"93.228974\" y=\"64.291969\" style=\"fill: #dd8452; stroke: #333333\"/>\n",
       "     <use xlink:href=\"#mde246af502\" x=\"235.228948\" y=\"181.971522\" style=\"fill: #dd8452; stroke: #333333\"/>\n",
       "     <use xlink:href=\"#mde246af502\" x=\"272.079389\" y=\"188.330392\" style=\"fill: #dd8452; stroke: #333333\"/>\n",
       "     <use xlink:href=\"#mde246af502\" x=\"225.76353\" y=\"225.775227\" style=\"fill: #dd8452; stroke: #333333\"/>\n",
       "     <use xlink:href=\"#mde246af502\" x=\"81.465678\" y=\"50.781536\" style=\"fill: #dd8452; stroke: #333333\"/>\n",
       "     <use xlink:href=\"#mde246af502\" x=\"243.296165\" y=\"191.142934\" style=\"fill: #dd8452; stroke: #333333\"/>\n",
       "     <use xlink:href=\"#mde246af502\" x=\"97.546283\" y=\"60.708696\" style=\"fill: #dd8452; stroke: #333333\"/>\n",
       "     <use xlink:href=\"#mde246af502\" x=\"249.017132\" y=\"205.788724\" style=\"fill: #dd8452; stroke: #333333\"/>\n",
       "     <use xlink:href=\"#mde246af502\" x=\"102.90311\" y=\"65.966298\" style=\"fill: #dd8452; stroke: #333333\"/>\n",
       "     <use xlink:href=\"#mde246af502\" x=\"103.955314\" y=\"87.354024\" style=\"fill: #dd8452; stroke: #333333\"/>\n",
       "     <use xlink:href=\"#mde246af502\" x=\"106.076367\" y=\"83.589276\" style=\"fill: #dd8452; stroke: #333333\"/>\n",
       "     <use xlink:href=\"#mde246af502\" x=\"255.675962\" y=\"203.063717\" style=\"fill: #dd8452; stroke: #333333\"/>\n",
       "     <use xlink:href=\"#mde246af502\" x=\"91.386121\" y=\"65.133427\" style=\"fill: #dd8452; stroke: #333333\"/>\n",
       "     <use xlink:href=\"#mde246af502\" x=\"260.785195\" y=\"223.865664\" style=\"fill: #dd8452; stroke: #333333\"/>\n",
       "     <use xlink:href=\"#mde246af502\" x=\"90.449113\" y=\"60.795077\" style=\"fill: #dd8452; stroke: #333333\"/>\n",
       "     <use xlink:href=\"#mde246af502\" x=\"122.492575\" y=\"66.549993\" style=\"fill: #dd8452; stroke: #333333\"/>\n",
       "     <use xlink:href=\"#mde246af502\" x=\"95.168286\" y=\"87.268088\" style=\"fill: #dd8452; stroke: #333333\"/>\n",
       "     <use xlink:href=\"#mde246af502\" x=\"250.657412\" y=\"221.281359\" style=\"fill: #dd8452; stroke: #333333\"/>\n",
       "     <use xlink:href=\"#mde246af502\" x=\"237.804582\" y=\"204.283621\" style=\"fill: #dd8452; stroke: #333333\"/>\n",
       "     <use xlink:href=\"#mde246af502\" x=\"110.857049\" y=\"57.59223\" style=\"fill: #dd8452; stroke: #333333\"/>\n",
       "     <use xlink:href=\"#mde246af502\" x=\"225.033004\" y=\"212.124285\" style=\"fill: #dd8452; stroke: #333333\"/>\n",
       "     <use xlink:href=\"#mde246af502\" x=\"218.346071\" y=\"207.637719\" style=\"fill: #dd8452; stroke: #333333\"/>\n",
       "     <use xlink:href=\"#mde246af502\" x=\"100.131189\" y=\"58.487882\" style=\"fill: #dd8452; stroke: #333333\"/>\n",
       "     <use xlink:href=\"#mde246af502\" x=\"73.027167\" y=\"47.885711\" style=\"fill: #dd8452; stroke: #333333\"/>\n",
       "     <use xlink:href=\"#mde246af502\" x=\"232.200036\" y=\"195.228681\" style=\"fill: #dd8452; stroke: #333333\"/>\n",
       "     <use xlink:href=\"#mde246af502\" x=\"214.456093\" y=\"205.042479\" style=\"fill: #dd8452; stroke: #333333\"/>\n",
       "     <use xlink:href=\"#mde246af502\" x=\"217.216953\" y=\"202.327023\" style=\"fill: #dd8452; stroke: #333333\"/>\n",
       "     <use xlink:href=\"#mde246af502\" x=\"119.556849\" y=\"61.85072\" style=\"fill: #dd8452; stroke: #333333\"/>\n",
       "     <use xlink:href=\"#mde246af502\" x=\"217.4659\" y=\"184.442617\" style=\"fill: #dd8452; stroke: #333333\"/>\n",
       "     <use xlink:href=\"#mde246af502\" x=\"82.430945\" y=\"84.436668\" style=\"fill: #dd8452; stroke: #333333\"/>\n",
       "     <use xlink:href=\"#mde246af502\" x=\"222.535355\" y=\"184.506256\" style=\"fill: #dd8452; stroke: #333333\"/>\n",
       "     <use xlink:href=\"#mde246af502\" x=\"231.318216\" y=\"208.258023\" style=\"fill: #dd8452; stroke: #333333\"/>\n",
       "     <use xlink:href=\"#mde246af502\" x=\"84.797008\" y=\"32.398125\" style=\"fill: #dd8452; stroke: #333333\"/>\n",
       "     <use xlink:href=\"#mde246af502\" x=\"235.231215\" y=\"209.262859\" style=\"fill: #dd8452; stroke: #333333\"/>\n",
       "     <use xlink:href=\"#mde246af502\" x=\"77.537919\" y=\"91.47358\" style=\"fill: #dd8452; stroke: #333333\"/>\n",
       "     <use xlink:href=\"#mde246af502\" x=\"213.908902\" y=\"215.570098\" style=\"fill: #dd8452; stroke: #333333\"/>\n",
       "     <use xlink:href=\"#mde246af502\" x=\"201.971076\" y=\"181.132849\" style=\"fill: #dd8452; stroke: #333333\"/>\n",
       "     <use xlink:href=\"#mde246af502\" x=\"121.026281\" y=\"67.520166\" style=\"fill: #dd8452; stroke: #333333\"/>\n",
       "     <use xlink:href=\"#mde246af502\" x=\"120.436802\" y=\"65.517418\" style=\"fill: #dd8452; stroke: #333333\"/>\n",
       "     <use xlink:href=\"#mde246af502\" x=\"243.950997\" y=\"196.002673\" style=\"fill: #dd8452; stroke: #333333\"/>\n",
       "     <use xlink:href=\"#mde246af502\" x=\"102.64093\" y=\"80.510106\" style=\"fill: #dd8452; stroke: #333333\"/>\n",
       "     <use xlink:href=\"#mde246af502\" x=\"107.74793\" y=\"64.902701\" style=\"fill: #dd8452; stroke: #333333\"/>\n",
       "     <use xlink:href=\"#mde246af502\" x=\"215.43059\" y=\"181.377658\" style=\"fill: #dd8452; stroke: #333333\"/>\n",
       "     <use xlink:href=\"#mde246af502\" x=\"88.478641\" y=\"78.605455\" style=\"fill: #dd8452; stroke: #333333\"/>\n",
       "     <use xlink:href=\"#mde246af502\" x=\"118.140657\" y=\"61.406585\" style=\"fill: #dd8452; stroke: #333333\"/>\n",
       "     <use xlink:href=\"#mde246af502\" x=\"98.272211\" y=\"55.419897\" style=\"fill: #dd8452; stroke: #333333\"/>\n",
       "     <use xlink:href=\"#mde246af502\" x=\"249.816583\" y=\"198.34167\" style=\"fill: #dd8452; stroke: #333333\"/>\n",
       "     <use xlink:href=\"#mde246af502\" x=\"212.806446\" y=\"193.937336\" style=\"fill: #dd8452; stroke: #333333\"/>\n",
       "     <use xlink:href=\"#mde246af502\" x=\"69.170298\" y=\"54.697514\" style=\"fill: #dd8452; stroke: #333333\"/>\n",
       "     <use xlink:href=\"#mde246af502\" x=\"240.153374\" y=\"197.755933\" style=\"fill: #dd8452; stroke: #333333\"/>\n",
       "     <use xlink:href=\"#mde246af502\" x=\"233.663671\" y=\"224.296133\" style=\"fill: #dd8452; stroke: #333333\"/>\n",
       "     <use xlink:href=\"#mde246af502\" x=\"232.0648\" y=\"177.181868\" style=\"fill: #dd8452; stroke: #333333\"/>\n",
       "     <use xlink:href=\"#mde246af502\" x=\"232.859588\" y=\"198.199647\" style=\"fill: #dd8452; stroke: #333333\"/>\n",
       "     <use xlink:href=\"#mde246af502\" x=\"228.443018\" y=\"181.071452\" style=\"fill: #dd8452; stroke: #333333\"/>\n",
       "     <use xlink:href=\"#mde246af502\" x=\"219.578561\" y=\"182.418913\" style=\"fill: #dd8452; stroke: #333333\"/>\n",
       "     <use xlink:href=\"#mde246af502\" x=\"115.191784\" y=\"60.636527\" style=\"fill: #dd8452; stroke: #333333\"/>\n",
       "     <use xlink:href=\"#mde246af502\" x=\"85.854121\" y=\"54.272075\" style=\"fill: #dd8452; stroke: #333333\"/>\n",
       "     <use xlink:href=\"#mde246af502\" x=\"237.781956\" y=\"203.156265\" style=\"fill: #dd8452; stroke: #333333\"/>\n",
       "     <use xlink:href=\"#mde246af502\" x=\"102.786815\" y=\"63.553219\" style=\"fill: #dd8452; stroke: #333333\"/>\n",
       "     <use xlink:href=\"#mde246af502\" x=\"92.834842\" y=\"86.724145\" style=\"fill: #dd8452; stroke: #333333\"/>\n",
       "     <use xlink:href=\"#mde246af502\" x=\"229.666824\" y=\"202.043696\" style=\"fill: #dd8452; stroke: #333333\"/>\n",
       "     <use xlink:href=\"#mde246af502\" x=\"95.629884\" y=\"101.86174\" style=\"fill: #dd8452; stroke: #333333\"/>\n",
       "     <use xlink:href=\"#mde246af502\" x=\"119.905396\" y=\"54.603179\" style=\"fill: #dd8452; stroke: #333333\"/>\n",
       "     <use xlink:href=\"#mde246af502\" x=\"109.980955\" y=\"55.284797\" style=\"fill: #dd8452; stroke: #333333\"/>\n",
       "     <use xlink:href=\"#mde246af502\" x=\"106.555558\" y=\"39.248936\" style=\"fill: #dd8452; stroke: #333333\"/>\n",
       "     <use xlink:href=\"#mde246af502\" x=\"88.667735\" y=\"52.228363\" style=\"fill: #dd8452; stroke: #333333\"/>\n",
       "     <use xlink:href=\"#mde246af502\" x=\"216.964588\" y=\"190.745684\" style=\"fill: #dd8452; stroke: #333333\"/>\n",
       "     <use xlink:href=\"#mde246af502\" x=\"103.700977\" y=\"90.663698\" style=\"fill: #dd8452; stroke: #333333\"/>\n",
       "     <use xlink:href=\"#mde246af502\" x=\"86.419401\" y=\"68.151646\" style=\"fill: #dd8452; stroke: #333333\"/>\n",
       "     <use xlink:href=\"#mde246af502\" x=\"213.960241\" y=\"209.392321\" style=\"fill: #dd8452; stroke: #333333\"/>\n",
       "     <use xlink:href=\"#mde246af502\" x=\"229.951046\" y=\"211.567814\" style=\"fill: #dd8452; stroke: #333333\"/>\n",
       "     <use xlink:href=\"#mde246af502\" x=\"234.282867\" y=\"203.404209\" style=\"fill: #dd8452; stroke: #333333\"/>\n",
       "     <use xlink:href=\"#mde246af502\" x=\"202.519007\" y=\"207.980525\" style=\"fill: #dd8452; stroke: #333333\"/>\n",
       "     <use xlink:href=\"#mde246af502\" x=\"223.36475\" y=\"195.67681\" style=\"fill: #dd8452; stroke: #333333\"/>\n",
       "     <use xlink:href=\"#mde246af502\" x=\"241.719937\" y=\"191.844436\" style=\"fill: #dd8452; stroke: #333333\"/>\n",
       "     <use xlink:href=\"#mde246af502\" x=\"249.192836\" y=\"167.828348\" style=\"fill: #dd8452; stroke: #333333\"/>\n",
       "     <use xlink:href=\"#mde246af502\" x=\"230.137774\" y=\"211.14401\" style=\"fill: #dd8452; stroke: #333333\"/>\n",
       "     <use xlink:href=\"#mde246af502\" x=\"234.993919\" y=\"143.458535\" style=\"fill: #dd8452; stroke: #333333\"/>\n",
       "     <use xlink:href=\"#mde246af502\" x=\"78.086779\" y=\"69.403982\" style=\"fill: #dd8452; stroke: #333333\"/>\n",
       "     <use xlink:href=\"#mde246af502\" x=\"110.120763\" y=\"74.573279\" style=\"fill: #dd8452; stroke: #333333\"/>\n",
       "     <use xlink:href=\"#mde246af502\" x=\"98.648039\" y=\"63.587853\" style=\"fill: #dd8452; stroke: #333333\"/>\n",
       "     <use xlink:href=\"#mde246af502\" x=\"112.5697\" y=\"50.86226\" style=\"fill: #dd8452; stroke: #333333\"/>\n",
       "     <use xlink:href=\"#mde246af502\" x=\"95.057245\" y=\"54.760033\" style=\"fill: #dd8452; stroke: #333333\"/>\n",
       "     <use xlink:href=\"#mde246af502\" x=\"223.891687\" y=\"197.445039\" style=\"fill: #dd8452; stroke: #333333\"/>\n",
       "     <use xlink:href=\"#mde246af502\" x=\"241.339099\" y=\"204.451208\" style=\"fill: #dd8452; stroke: #333333\"/>\n",
       "     <use xlink:href=\"#mde246af502\" x=\"91.731904\" y=\"51.723911\" style=\"fill: #dd8452; stroke: #333333\"/>\n",
       "     <use xlink:href=\"#mde246af502\" x=\"238.035221\" y=\"204.536217\" style=\"fill: #dd8452; stroke: #333333\"/>\n",
       "     <use xlink:href=\"#mde246af502\" x=\"223.003121\" y=\"194.356033\" style=\"fill: #dd8452; stroke: #333333\"/>\n",
       "    </g>\n",
       "   </g>\n",
       "   <g id=\"patch_3\">\n",
       "    <path d=\"M 59.024844 244.078125 \n",
       "L 59.024844 22.318125 \n",
       "\" style=\"fill: none; stroke: #ffffff; stroke-width: 1.25; stroke-linejoin: miter; stroke-linecap: square\"/>\n",
       "   </g>\n",
       "   <g id=\"patch_4\">\n",
       "    <path d=\"M 282.224844 244.078125 \n",
       "L 282.224844 22.318125 \n",
       "\" style=\"fill: none; stroke: #ffffff; stroke-width: 1.25; stroke-linejoin: miter; stroke-linecap: square\"/>\n",
       "   </g>\n",
       "   <g id=\"patch_5\">\n",
       "    <path d=\"M 59.024844 244.078125 \n",
       "L 282.224844 244.078125 \n",
       "\" style=\"fill: none; stroke: #ffffff; stroke-width: 1.25; stroke-linejoin: miter; stroke-linecap: square\"/>\n",
       "   </g>\n",
       "   <g id=\"patch_6\">\n",
       "    <path d=\"M 59.024844 22.318125 \n",
       "L 282.224844 22.318125 \n",
       "\" style=\"fill: none; stroke: #ffffff; stroke-width: 1.25; stroke-linejoin: miter; stroke-linecap: square\"/>\n",
       "   </g>\n",
       "   <g id=\"text_14\">\n",
       "    <!-- Dataset samples -->\n",
       "    <g style=\"fill: #262626\" transform=\"translate(120.282031 16.318125) scale(0.12 -0.12)\">\n",
       "     <defs>\n",
       "      <path id=\"DejaVuSans-44\" d=\"M 1259 4147 \n",
       "L 1259 519 \n",
       "L 2022 519 \n",
       "Q 2988 519 3436 956 \n",
       "Q 3884 1394 3884 2338 \n",
       "Q 3884 3275 3436 3711 \n",
       "Q 2988 4147 2022 4147 \n",
       "L 1259 4147 \n",
       "z\n",
       "M 628 4666 \n",
       "L 1925 4666 \n",
       "Q 3281 4666 3915 4102 \n",
       "Q 4550 3538 4550 2338 \n",
       "Q 4550 1131 3912 565 \n",
       "Q 3275 0 1925 0 \n",
       "L 628 0 \n",
       "L 628 4666 \n",
       "z\n",
       "\" transform=\"scale(0.015625)\"/>\n",
       "      <path id=\"DejaVuSans-61\" d=\"M 2194 1759 \n",
       "Q 1497 1759 1228 1600 \n",
       "Q 959 1441 959 1056 \n",
       "Q 959 750 1161 570 \n",
       "Q 1363 391 1709 391 \n",
       "Q 2188 391 2477 730 \n",
       "Q 2766 1069 2766 1631 \n",
       "L 2766 1759 \n",
       "L 2194 1759 \n",
       "z\n",
       "M 3341 1997 \n",
       "L 3341 0 \n",
       "L 2766 0 \n",
       "L 2766 531 \n",
       "Q 2569 213 2275 61 \n",
       "Q 1981 -91 1556 -91 \n",
       "Q 1019 -91 701 211 \n",
       "Q 384 513 384 1019 \n",
       "Q 384 1609 779 1909 \n",
       "Q 1175 2209 1959 2209 \n",
       "L 2766 2209 \n",
       "L 2766 2266 \n",
       "Q 2766 2663 2505 2880 \n",
       "Q 2244 3097 1772 3097 \n",
       "Q 1472 3097 1187 3025 \n",
       "Q 903 2953 641 2809 \n",
       "L 641 3341 \n",
       "Q 956 3463 1253 3523 \n",
       "Q 1550 3584 1831 3584 \n",
       "Q 2591 3584 2966 3190 \n",
       "Q 3341 2797 3341 1997 \n",
       "z\n",
       "\" transform=\"scale(0.015625)\"/>\n",
       "      <path id=\"DejaVuSans-74\" d=\"M 1172 4494 \n",
       "L 1172 3500 \n",
       "L 2356 3500 \n",
       "L 2356 3053 \n",
       "L 1172 3053 \n",
       "L 1172 1153 \n",
       "Q 1172 725 1289 603 \n",
       "Q 1406 481 1766 481 \n",
       "L 2356 481 \n",
       "L 2356 0 \n",
       "L 1766 0 \n",
       "Q 1100 0 847 248 \n",
       "Q 594 497 594 1153 \n",
       "L 594 3053 \n",
       "L 172 3053 \n",
       "L 172 3500 \n",
       "L 594 3500 \n",
       "L 594 4494 \n",
       "L 1172 4494 \n",
       "z\n",
       "\" transform=\"scale(0.015625)\"/>\n",
       "      <path id=\"DejaVuSans-73\" d=\"M 2834 3397 \n",
       "L 2834 2853 \n",
       "Q 2591 2978 2328 3040 \n",
       "Q 2066 3103 1784 3103 \n",
       "Q 1356 3103 1142 2972 \n",
       "Q 928 2841 928 2578 \n",
       "Q 928 2378 1081 2264 \n",
       "Q 1234 2150 1697 2047 \n",
       "L 1894 2003 \n",
       "Q 2506 1872 2764 1633 \n",
       "Q 3022 1394 3022 966 \n",
       "Q 3022 478 2636 193 \n",
       "Q 2250 -91 1575 -91 \n",
       "Q 1294 -91 989 -36 \n",
       "Q 684 19 347 128 \n",
       "L 347 722 \n",
       "Q 666 556 975 473 \n",
       "Q 1284 391 1588 391 \n",
       "Q 1994 391 2212 530 \n",
       "Q 2431 669 2431 922 \n",
       "Q 2431 1156 2273 1281 \n",
       "Q 2116 1406 1581 1522 \n",
       "L 1381 1569 \n",
       "Q 847 1681 609 1914 \n",
       "Q 372 2147 372 2553 \n",
       "Q 372 3047 722 3315 \n",
       "Q 1072 3584 1716 3584 \n",
       "Q 2034 3584 2315 3537 \n",
       "Q 2597 3491 2834 3397 \n",
       "z\n",
       "\" transform=\"scale(0.015625)\"/>\n",
       "      <path id=\"DejaVuSans-65\" d=\"M 3597 1894 \n",
       "L 3597 1613 \n",
       "L 953 1613 \n",
       "Q 991 1019 1311 708 \n",
       "Q 1631 397 2203 397 \n",
       "Q 2534 397 2845 478 \n",
       "Q 3156 559 3463 722 \n",
       "L 3463 178 \n",
       "Q 3153 47 2828 -22 \n",
       "Q 2503 -91 2169 -91 \n",
       "Q 1331 -91 842 396 \n",
       "Q 353 884 353 1716 \n",
       "Q 353 2575 817 3079 \n",
       "Q 1281 3584 2069 3584 \n",
       "Q 2775 3584 3186 3129 \n",
       "Q 3597 2675 3597 1894 \n",
       "z\n",
       "M 3022 2063 \n",
       "Q 3016 2534 2758 2815 \n",
       "Q 2500 3097 2075 3097 \n",
       "Q 1594 3097 1305 2825 \n",
       "Q 1016 2553 972 2059 \n",
       "L 3022 2063 \n",
       "z\n",
       "\" transform=\"scale(0.015625)\"/>\n",
       "      <path id=\"DejaVuSans-20\" transform=\"scale(0.015625)\"/>\n",
       "      <path id=\"DejaVuSans-6d\" d=\"M 3328 2828 \n",
       "Q 3544 3216 3844 3400 \n",
       "Q 4144 3584 4550 3584 \n",
       "Q 5097 3584 5394 3201 \n",
       "Q 5691 2819 5691 2113 \n",
       "L 5691 0 \n",
       "L 5113 0 \n",
       "L 5113 2094 \n",
       "Q 5113 2597 4934 2840 \n",
       "Q 4756 3084 4391 3084 \n",
       "Q 3944 3084 3684 2787 \n",
       "Q 3425 2491 3425 1978 \n",
       "L 3425 0 \n",
       "L 2847 0 \n",
       "L 2847 2094 \n",
       "Q 2847 2600 2669 2842 \n",
       "Q 2491 3084 2119 3084 \n",
       "Q 1678 3084 1418 2786 \n",
       "Q 1159 2488 1159 1978 \n",
       "L 1159 0 \n",
       "L 581 0 \n",
       "L 581 3500 \n",
       "L 1159 3500 \n",
       "L 1159 2956 \n",
       "Q 1356 3278 1631 3431 \n",
       "Q 1906 3584 2284 3584 \n",
       "Q 2666 3584 2933 3390 \n",
       "Q 3200 3197 3328 2828 \n",
       "z\n",
       "\" transform=\"scale(0.015625)\"/>\n",
       "      <path id=\"DejaVuSans-70\" d=\"M 1159 525 \n",
       "L 1159 -1331 \n",
       "L 581 -1331 \n",
       "L 581 3500 \n",
       "L 1159 3500 \n",
       "L 1159 2969 \n",
       "Q 1341 3281 1617 3432 \n",
       "Q 1894 3584 2278 3584 \n",
       "Q 2916 3584 3314 3078 \n",
       "Q 3713 2572 3713 1747 \n",
       "Q 3713 922 3314 415 \n",
       "Q 2916 -91 2278 -91 \n",
       "Q 1894 -91 1617 61 \n",
       "Q 1341 213 1159 525 \n",
       "z\n",
       "M 3116 1747 \n",
       "Q 3116 2381 2855 2742 \n",
       "Q 2594 3103 2138 3103 \n",
       "Q 1681 3103 1420 2742 \n",
       "Q 1159 2381 1159 1747 \n",
       "Q 1159 1113 1420 752 \n",
       "Q 1681 391 2138 391 \n",
       "Q 2594 391 2855 752 \n",
       "Q 3116 1113 3116 1747 \n",
       "z\n",
       "\" transform=\"scale(0.015625)\"/>\n",
       "      <path id=\"DejaVuSans-6c\" d=\"M 603 4863 \n",
       "L 1178 4863 \n",
       "L 1178 0 \n",
       "L 603 0 \n",
       "L 603 4863 \n",
       "z\n",
       "\" transform=\"scale(0.015625)\"/>\n",
       "     </defs>\n",
       "     <use xlink:href=\"#DejaVuSans-44\"/>\n",
       "     <use xlink:href=\"#DejaVuSans-61\" x=\"77.001953\"/>\n",
       "     <use xlink:href=\"#DejaVuSans-74\" x=\"138.28125\"/>\n",
       "     <use xlink:href=\"#DejaVuSans-61\" x=\"177.490234\"/>\n",
       "     <use xlink:href=\"#DejaVuSans-73\" x=\"238.769531\"/>\n",
       "     <use xlink:href=\"#DejaVuSans-65\" x=\"290.869141\"/>\n",
       "     <use xlink:href=\"#DejaVuSans-74\" x=\"352.392578\"/>\n",
       "     <use xlink:href=\"#DejaVuSans-20\" x=\"391.601562\"/>\n",
       "     <use xlink:href=\"#DejaVuSans-73\" x=\"423.388672\"/>\n",
       "     <use xlink:href=\"#DejaVuSans-61\" x=\"475.488281\"/>\n",
       "     <use xlink:href=\"#DejaVuSans-6d\" x=\"536.767578\"/>\n",
       "     <use xlink:href=\"#DejaVuSans-70\" x=\"634.179688\"/>\n",
       "     <use xlink:href=\"#DejaVuSans-6c\" x=\"697.65625\"/>\n",
       "     <use xlink:href=\"#DejaVuSans-65\" x=\"725.439453\"/>\n",
       "     <use xlink:href=\"#DejaVuSans-73\" x=\"786.962891\"/>\n",
       "    </g>\n",
       "   </g>\n",
       "   <g id=\"legend_1\">\n",
       "    <g id=\"patch_7\">\n",
       "     <path d=\"M 66.724844 150.994063 \n",
       "L 141.358125 150.994063 \n",
       "Q 143.558125 150.994063 143.558125 148.794063 \n",
       "L 143.558125 117.602188 \n",
       "Q 143.558125 115.402188 141.358125 115.402188 \n",
       "L 66.724844 115.402188 \n",
       "Q 64.524844 115.402188 64.524844 117.602188 \n",
       "L 64.524844 148.794063 \n",
       "Q 64.524844 150.994063 66.724844 150.994063 \n",
       "z\n",
       "\" style=\"fill: #eaeaf2; opacity: 0.8; stroke: #cccccc; stroke-linejoin: miter\"/>\n",
       "    </g>\n",
       "    <g id=\"PathCollection_3\">\n",
       "     <g>\n",
       "      <use xlink:href=\"#m093a8c76cc\" x=\"79.924844\" y=\"125.272969\" style=\"fill: #4c72b0; stroke: #333333\"/>\n",
       "     </g>\n",
       "    </g>\n",
       "    <g id=\"text_15\">\n",
       "     <!-- Class 0 -->\n",
       "     <g style=\"fill: #262626\" transform=\"translate(99.724844 128.160469) scale(0.11 -0.11)\">\n",
       "      <defs>\n",
       "       <path id=\"DejaVuSans-43\" d=\"M 4122 4306 \n",
       "L 4122 3641 \n",
       "Q 3803 3938 3442 4084 \n",
       "Q 3081 4231 2675 4231 \n",
       "Q 1875 4231 1450 3742 \n",
       "Q 1025 3253 1025 2328 \n",
       "Q 1025 1406 1450 917 \n",
       "Q 1875 428 2675 428 \n",
       "Q 3081 428 3442 575 \n",
       "Q 3803 722 4122 1019 \n",
       "L 4122 359 \n",
       "Q 3791 134 3420 21 \n",
       "Q 3050 -91 2638 -91 \n",
       "Q 1578 -91 968 557 \n",
       "Q 359 1206 359 2328 \n",
       "Q 359 3453 968 4101 \n",
       "Q 1578 4750 2638 4750 \n",
       "Q 3056 4750 3426 4639 \n",
       "Q 3797 4528 4122 4306 \n",
       "z\n",
       "\" transform=\"scale(0.015625)\"/>\n",
       "      </defs>\n",
       "      <use xlink:href=\"#DejaVuSans-43\"/>\n",
       "      <use xlink:href=\"#DejaVuSans-6c\" x=\"69.824219\"/>\n",
       "      <use xlink:href=\"#DejaVuSans-61\" x=\"97.607422\"/>\n",
       "      <use xlink:href=\"#DejaVuSans-73\" x=\"158.886719\"/>\n",
       "      <use xlink:href=\"#DejaVuSans-73\" x=\"210.986328\"/>\n",
       "      <use xlink:href=\"#DejaVuSans-20\" x=\"263.085938\"/>\n",
       "      <use xlink:href=\"#DejaVuSans-30\" x=\"294.873047\"/>\n",
       "     </g>\n",
       "    </g>\n",
       "    <g id=\"PathCollection_4\">\n",
       "     <g>\n",
       "      <use xlink:href=\"#mde246af502\" x=\"79.924844\" y=\"141.418906\" style=\"fill: #dd8452; stroke: #333333\"/>\n",
       "     </g>\n",
       "    </g>\n",
       "    <g id=\"text_16\">\n",
       "     <!-- Class 1 -->\n",
       "     <g style=\"fill: #262626\" transform=\"translate(99.724844 144.306406) scale(0.11 -0.11)\">\n",
       "      <use xlink:href=\"#DejaVuSans-43\"/>\n",
       "      <use xlink:href=\"#DejaVuSans-6c\" x=\"69.824219\"/>\n",
       "      <use xlink:href=\"#DejaVuSans-61\" x=\"97.607422\"/>\n",
       "      <use xlink:href=\"#DejaVuSans-73\" x=\"158.886719\"/>\n",
       "      <use xlink:href=\"#DejaVuSans-73\" x=\"210.986328\"/>\n",
       "      <use xlink:href=\"#DejaVuSans-20\" x=\"263.085938\"/>\n",
       "      <use xlink:href=\"#DejaVuSans-31\" x=\"294.873047\"/>\n",
       "     </g>\n",
       "    </g>\n",
       "   </g>\n",
       "  </g>\n",
       " </g>\n",
       " <defs>\n",
       "  <clipPath id=\"pc3a9a35de9\">\n",
       "   <rect x=\"59.024844\" y=\"22.318125\" width=\"223.2\" height=\"221.76\"/>\n",
       "  </clipPath>\n",
       " </defs>\n",
       "</svg>\n"
      ],
      "text/plain": [
       "<Figure size 400x400 with 1 Axes>"
      ]
     },
     "metadata": {},
     "output_type": "display_data"
    }
   ],
   "source": [
    "visualize_samples(dataset.data, dataset.label)\n",
    "plt.show()"
   ]
  },
  {
   "cell_type": "markdown",
   "metadata": {},
   "source": [
    "#### The data loader class\n",
    "\n",
    "The class `torch.utils.data.DataLoader` represents a Python iterable over a dataset with support for automatic batching, multi-process data loading and many more features. The data loader communicates with the dataset using the function `__getitem__`, and stacks its outputs as tensors over the first dimension to form a batch.\n",
    "In contrast to the dataset class, we usually don't have to define our own data loader class, but can just create an object of it with the dataset as input. Additionally, we can configure our data loader with the following input arguments (only a selection, see full list [here](https://pytorch.org/docs/stable/data.html#torch.utils.data.DataLoader)):\n",
    "\n",
    "* `batch_size`: Number of samples to stack per batch\n",
    "* `shuffle`: If True, the data is returned in a random order. This is important during training for introducing stochasticity. \n",
    "* `num_workers`: Number of subprocesses to use for data loading. The default, 0, means that the data will be loaded in the main process which can slow down training for datasets where loading a data point takes a considerable amount of time (e.g. large images). More workers are recommended for those, but can cause issues on Windows computers. For tiny datasets as ours, 0 workers are usually faster.\n",
    "* `pin_memory`: If True, the data loader will copy Tensors into CUDA pinned memory before returning them. This can save some time for large data points on GPUs. Usually a good practice to use for a training set, but not necessarily for validation and test to save memory on the GPU.\n",
    "* `drop_last`: If True, the last batch is dropped in case it is smaller than the specified batch size. This occurs when the dataset size is not a multiple of the batch size. Only potentially helpful during training to keep a consistent batch size.\n",
    "\n",
    "Let's create a simple data loader below:"
   ]
  },
  {
   "cell_type": "code",
   "execution_count": 51,
   "metadata": {},
   "outputs": [],
   "source": [
    "data_loader = data.DataLoader(dataset, batch_size=8, shuffle=True)"
   ]
  },
  {
   "cell_type": "code",
   "execution_count": 52,
   "metadata": {},
   "outputs": [
    {
     "name": "stdout",
     "output_type": "stream",
     "text": [
      "Data inputs torch.Size([8, 2]) \n",
      " tensor([[ 0.0390, -0.0882],\n",
      "        [ 0.9757,  0.9507],\n",
      "        [-0.0546,  1.0325],\n",
      "        [ 0.9774, -0.0303],\n",
      "        [ 0.0399,  0.1034],\n",
      "        [-0.0967, -0.0884],\n",
      "        [-0.1019,  0.1799],\n",
      "        [ 0.1506,  1.0279]])\n",
      "Data labels torch.Size([8]) \n",
      " tensor([0, 0, 1, 1, 0, 0, 0, 1])\n"
     ]
    }
   ],
   "source": [
    "# next(iter(...)) catches the first batch of the data loader\n",
    "# If shuffle is True, this will return a different batch every time we run this cell\n",
    "# For iterating over the whole dataset, we can simple use \"for batch in data_loader: ...\"\n",
    "data_inputs, data_labels = next(iter(data_loader))\n",
    "\n",
    "# The shape of the outputs are [batch_size, d_1,...,d_N] where d_1,...,d_N are the \n",
    "# dimensions of the data point returned from the dataset class\n",
    "print(\"Data inputs\", data_inputs.shape, \"\\n\", data_inputs)\n",
    "print(\"Data labels\", data_labels.shape, \"\\n\", data_labels)"
   ]
  },
  {
   "cell_type": "markdown",
   "metadata": {},
   "source": [
    "### Optimization\n",
    "\n",
    "After defining the model and the dataset, it is time to prepare the optimization of the model. During training, we will perform the following steps:\n",
    "\n",
    "1. Get a batch from the data loader\n",
    "2. Obtain the predictions from the model for the batch\n",
    "3. Calculate the loss based on the difference between predictions and labels\n",
    "4. Backpropagation: calculate the gradients for every parameter with respect to the loss\n",
    "5. Update the parameters of the model in the direction of the gradients\n",
    "\n",
    "We have seen how we can do step 1, 2 and 4 in PyTorch. Now, we will look at step 3 and 5."
   ]
  },
  {
   "cell_type": "markdown",
   "metadata": {},
   "source": [
    "#### Loss modules\n",
    "\n",
    "We can calculate the loss for a batch by simply performing a few tensor operations as those are automatically added to the computation graph. For instance, for binary classification, we can use Binary Cross Entropy (BCE) which is defined as follows:\n",
    "\n",
    "$$\\mathcal{L}_{BCE} = -\\sum_i \\left[ y_i \\log x_i + (1 - y_i) \\log (1 - x_i) \\right]$$\n",
    "\n",
    "where $y$ are our labels, and $x$ our predictions, both in the range of $[0,1]$. However, PyTorch already provides a list of predefined loss functions which we can use (see [here](https://pytorch.org/docs/stable/nn.html#loss-functions) for a full list). For instance, for BCE, PyTorch has two modules: `nn.BCELoss()`, `nn.BCEWithLogitsLoss()`. While `nn.BCELoss` expects the inputs $x$ to be in the range $[0,1]$, i.e. the output of a sigmoid, `nn.BCEWithLogitsLoss` combines a sigmoid layer and the BCE loss in a single class. This version is numerically more stable than using a plain Sigmoid followed by a BCE loss because of the logarithms applied in the loss function. Hence, it is adviced to use loss functions applied on \"logits\" where possible (remember to not apply a sigmoid on the output of the model in this case!). For our model defined above, we therefore use the module `nn.BCEWithLogitsLoss`. "
   ]
  },
  {
   "cell_type": "code",
   "execution_count": 53,
   "metadata": {},
   "outputs": [],
   "source": [
    "loss_module = nn.BCEWithLogitsLoss()"
   ]
  },
  {
   "cell_type": "markdown",
   "metadata": {},
   "source": [
    "#### Stochastic Gradient Descent\n",
    "\n",
    "For updating the parameters, PyTorch provides the package `torch.optim` that has most popular optimizers implemented. We will discuss the specific optimizers and their differences later in the course, but will for now use the simplest of them: `torch.optim.SGD`. Stochastic Gradient Descent updates parameters by multiplying the gradients with a small constant, called learning rate, and subtracting those from the parameters (hence minimizing the loss). Therefore, we slowly move towards the direction of minimizing the loss. A good default value of the learning rate for a small network as ours is 0.1. "
   ]
  },
  {
   "cell_type": "code",
   "execution_count": 54,
   "metadata": {},
   "outputs": [],
   "source": [
    "# Input to the optimizer are the parameters of the model: model.parameters()\n",
    "optimizer = torch.optim.SGD(model.parameters(), lr=0.1)"
   ]
  },
  {
   "cell_type": "markdown",
   "metadata": {},
   "source": [
    "The optimizer provides two useful functions: `optimizer.step()`, and `optimizer.zero_grad()`. The step function updates the parameters based on the gradients as explained above. The function `optimizer.zero_grad()` sets the gradients of all parameters to zero. While this function seems less relevant at first, it is a crucial pre-step before performing backpropagation. If we call the `backward` function on the loss while the parameter gradients are non-zero from the previous batch, the new gradients would actually be added to the previous ones instead of overwriting them. This is done because a parameter might occur multiple times in a computation graph, and we need to sum the gradients in this case instead of replacing them. Hence, remember to call `optimizer.zero_grad()` before calculating the gradients of a batch."
   ]
  },
  {
   "cell_type": "markdown",
   "metadata": {},
   "source": [
    "### Training\n",
    "\n",
    "Finally, we are ready to train our model. As a first step, we create a slightly larger dataset and specify a data loader with a larger batch size. "
   ]
  },
  {
   "cell_type": "code",
   "execution_count": 55,
   "metadata": {},
   "outputs": [],
   "source": [
    "train_dataset = XORDataset(size=2500)\n",
    "train_data_loader = data.DataLoader(train_dataset, batch_size=128, shuffle=True)"
   ]
  },
  {
   "cell_type": "markdown",
   "metadata": {},
   "source": [
    "Now, we can write a small training function. Remember our five steps: load a batch, obtain the predictions, calculate the loss, backpropagate, and update. Additionally, we have to push all data and model parameters to the device of our choice (GPU if available). For the tiny neural network we have, communicating the data to the GPU actually takes much more time than we could save from running the operation on GPU. For large networks, the communication time is significantly smaller than the actual runtime making a GPU crucial in these cases. Still, to practice, we will push the data to GPU here. "
   ]
  },
  {
   "cell_type": "code",
   "execution_count": 56,
   "metadata": {},
   "outputs": [
    {
     "data": {
      "text/plain": [
       "SimpleClassifier(\n",
       "  (linear1): Linear(in_features=2, out_features=4, bias=True)\n",
       "  (act_fn): Tanh()\n",
       "  (linear2): Linear(in_features=4, out_features=1, bias=True)\n",
       ")"
      ]
     },
     "execution_count": 56,
     "metadata": {},
     "output_type": "execute_result"
    }
   ],
   "source": [
    "# Push model to device. Has to be only done once\n",
    "model.to(device)"
   ]
  },
  {
   "cell_type": "markdown",
   "metadata": {},
   "source": [
    "In addition, we set our model to training mode. This is done by calling `model.train()`. There exist certain modules that need to perform a different forward step during training than during testing (e.g. BatchNorm and Dropout), and we can switch between them using `model.train()` and `model.eval()`."
   ]
  },
  {
   "cell_type": "code",
   "execution_count": 57,
   "metadata": {},
   "outputs": [],
   "source": [
    "def train_model(model, optimizer, data_loader, loss_module, num_epochs=100):\n",
    "    # Set model to train mode\n",
    "    model.train() \n",
    "    \n",
    "    # Training loop\n",
    "    for epoch in tqdm(range(num_epochs)):\n",
    "        for data_inputs, data_labels in data_loader:\n",
    "            \n",
    "            ## Step 1: Move input data to device (only strictly necessary if we use GPU)\n",
    "            data_inputs = data_inputs.to(device)\n",
    "            data_labels = data_labels.to(device)\n",
    "            \n",
    "            ## Step 2: Run the model on the input data\n",
    "            preds = model(data_inputs)\n",
    "            preds = preds.squeeze(dim=1) # Output is [Batch size, 1], but we want [Batch size]\n",
    "            \n",
    "            ## Step 3: Calculate the loss\n",
    "            loss = loss_module(preds, data_labels.float())\n",
    "            \n",
    "            ## Step 4: Perform backpropagation\n",
    "            # Before calculating the gradients, we need to ensure that they are all zero. \n",
    "            # The gradients would not be overwritten, but actually added to the existing ones.\n",
    "            optimizer.zero_grad() \n",
    "            # Perform backpropagation\n",
    "            loss.backward()\n",
    "            \n",
    "            ## Step 5: Update the parameters\n",
    "            optimizer.step()"
   ]
  },
  {
   "cell_type": "code",
   "execution_count": 58,
   "metadata": {},
   "outputs": [
    {
     "data": {
      "application/vnd.jupyter.widget-view+json": {
       "model_id": "01f929c0d6004d0082d419435aa26519",
       "version_major": 2,
       "version_minor": 0
      },
      "text/plain": [
       "  0%|          | 0/100 [00:00<?, ?it/s]"
      ]
     },
     "metadata": {},
     "output_type": "display_data"
    }
   ],
   "source": [
    "train_model(model, optimizer, train_data_loader, loss_module)"
   ]
  },
  {
   "cell_type": "markdown",
   "metadata": {},
   "source": [
    "#### Saving a model\n",
    "\n",
    "After finish training a model, we save the model to disk so that we can load the same weights at a later time. For this, we extract the so-called `state_dict` from the model which contains all learnable parameters. For our simple model, the state dict contains the following entries:"
   ]
  },
  {
   "cell_type": "code",
   "execution_count": 59,
   "metadata": {},
   "outputs": [
    {
     "name": "stdout",
     "output_type": "stream",
     "text": [
      "OrderedDict([('linear1.weight', tensor([[-3.3453,  2.2842],\n",
      "        [-2.3013, -2.2940],\n",
      "        [ 0.3392,  0.4460],\n",
      "        [-2.3186,  3.2918]], device='cuda:0')), ('linear1.bias', tensor([-0.8113,  0.4071,  0.3766,  0.8352], device='cuda:0')), ('linear2.weight', tensor([[ 4.3199, -3.3138,  0.2332, -4.3362]], device='cuda:0')), ('linear2.bias', tensor([1.1232], device='cuda:0'))])\n"
     ]
    }
   ],
   "source": [
    "state_dict = model.state_dict()\n",
    "print(state_dict)"
   ]
  },
  {
   "cell_type": "markdown",
   "metadata": {},
   "source": [
    "To save the state dictionary, we can use `torch.save`:"
   ]
  },
  {
   "cell_type": "code",
   "execution_count": 60,
   "metadata": {},
   "outputs": [],
   "source": [
    "# torch.save(object, filename). For the filename, any extension can be used\n",
    "torch.save(state_dict, \"our_model.tar\")"
   ]
  },
  {
   "cell_type": "markdown",
   "metadata": {},
   "source": [
    "To load a model from a state dict, we use the function `torch.load` to load the state dict from the disk, and the module function `load_state_dict` to overwrite our parameters with the new values:"
   ]
  },
  {
   "cell_type": "code",
   "execution_count": 61,
   "metadata": {},
   "outputs": [
    {
     "name": "stdout",
     "output_type": "stream",
     "text": [
      "Original model\n",
      " OrderedDict([('linear1.weight', tensor([[-3.3453,  2.2842],\n",
      "        [-2.3013, -2.2940],\n",
      "        [ 0.3392,  0.4460],\n",
      "        [-2.3186,  3.2918]], device='cuda:0')), ('linear1.bias', tensor([-0.8113,  0.4071,  0.3766,  0.8352], device='cuda:0')), ('linear2.weight', tensor([[ 4.3199, -3.3138,  0.2332, -4.3362]], device='cuda:0')), ('linear2.bias', tensor([1.1232], device='cuda:0'))])\n",
      "\n",
      "Loaded model\n",
      " OrderedDict([('linear1.weight', tensor([[-3.3453,  2.2842],\n",
      "        [-2.3013, -2.2940],\n",
      "        [ 0.3392,  0.4460],\n",
      "        [-2.3186,  3.2918]])), ('linear1.bias', tensor([-0.8113,  0.4071,  0.3766,  0.8352])), ('linear2.weight', tensor([[ 4.3199, -3.3138,  0.2332, -4.3362]])), ('linear2.bias', tensor([1.1232]))])\n"
     ]
    }
   ],
   "source": [
    "# Load state dict from the disk (make sure it is the same name as above)\n",
    "state_dict = torch.load(\"our_model.tar\")\n",
    "\n",
    "# Create a new model and load the state\n",
    "new_model = SimpleClassifier(num_inputs=2, num_hidden=4, num_outputs=1)\n",
    "new_model.load_state_dict(state_dict)\n",
    "\n",
    "# Verify that the parameters are the same\n",
    "print(\"Original model\\n\", model.state_dict())\n",
    "print(\"\\nLoaded model\\n\", new_model.state_dict())"
   ]
  },
  {
   "cell_type": "markdown",
   "metadata": {},
   "source": [
    "A detailed tutorial on saving and loading models in PyTorch can be found [here](https://pytorch.org/tutorials/beginner/saving_loading_models.html)."
   ]
  },
  {
   "cell_type": "markdown",
   "metadata": {},
   "source": [
    "### Evaluation\n",
    "\n",
    "Once we have trained a model, it is time to evaluate it on a held-out test set. As our dataset consist of randomly generated data points, we need to first create a test set with a corresponding data loader."
   ]
  },
  {
   "cell_type": "code",
   "execution_count": 62,
   "metadata": {},
   "outputs": [],
   "source": [
    "test_dataset = XORDataset(size=500)\n",
    "# drop_last -> Don't drop the last batch although it is smaller than 128\n",
    "test_data_loader = data.DataLoader(test_dataset, batch_size=128, shuffle=False, drop_last=False) "
   ]
  },
  {
   "cell_type": "markdown",
   "metadata": {},
   "source": [
    "As metric, we will use accuracy which is calculated as follows:\n",
    "\n",
    "$$acc = \\frac{\\#\\text{correct predictions}}{\\#\\text{all predictions}} = \\frac{TP+TN}{TP+TN+FP+FN}$$\n",
    "\n",
    "where TP are the true positives, TN true negatives, FP false positives, and FN the fale negatives. \n",
    "\n",
    "When evaluating the model, we don't need to keep track of the computation graph as we don't intend to calculate the gradients. This reduces the required memory and speed up the model. In PyTorch, we can deactivate the computation graph using `with torch.no_grad(): ...`. Remember to additionally set the model to eval mode."
   ]
  },
  {
   "cell_type": "code",
   "execution_count": 63,
   "metadata": {},
   "outputs": [],
   "source": [
    "def eval_model(model, data_loader):\n",
    "    model.eval() # Set model to eval mode\n",
    "    true_preds, num_preds = 0., 0.\n",
    "    \n",
    "    with torch.no_grad(): # Deactivate gradients for the following code\n",
    "        for data_inputs, data_labels in data_loader:\n",
    "            \n",
    "            # Determine prediction of model on dev set\n",
    "            data_inputs, data_labels = data_inputs.to(device), data_labels.to(device)\n",
    "            preds = model(data_inputs)\n",
    "            preds = preds.squeeze(dim=1)\n",
    "            preds = torch.sigmoid(preds) # Sigmoid to map predictions between 0 and 1\n",
    "            pred_labels = (preds >= 0.5).long() # Binarize predictions to 0 and 1\n",
    "            \n",
    "            # Keep records of predictions for the accuracy metric (true_preds=TP+TN, num_preds=TP+TN+FP+FN)\n",
    "            true_preds += (pred_labels == data_labels).sum()\n",
    "            num_preds += data_labels.shape[0]\n",
    "            \n",
    "    acc = true_preds / num_preds\n",
    "    print(f\"Accuracy of the model: {100.0*acc:4.2f}%\")"
   ]
  },
  {
   "cell_type": "code",
   "execution_count": 64,
   "metadata": {},
   "outputs": [
    {
     "name": "stdout",
     "output_type": "stream",
     "text": [
      "Accuracy of the model: 100.00%\n"
     ]
    }
   ],
   "source": [
    "eval_model(model, test_data_loader)"
   ]
  },
  {
   "cell_type": "markdown",
   "metadata": {},
   "source": [
    "If we trained our model correctly, we should see a score close to 100% accuracy. However, this is only possible because of our simple task, and unfortunately, we usually don't get such high scores on test sets of more complex tasks."
   ]
  },
  {
   "cell_type": "markdown",
   "metadata": {},
   "source": [
    "#### Visualizing classification boundaries\n",
    "\n",
    "To visualize what our model has learned, we can perform a prediction for every data point in a range of $[-0.5, 1.5]$, and visualize the predicted class as in the sample figure at the beginning of this section. This shows where the model has created decision boundaries, and which points would be classified as $0$, and which as $1$. We therefore get a background image out of blue (class 0) and orange (class 1). The spots where the model is uncertain we will see a blurry overlap. The specific code is less relevant compared to the output figure which should hopefully show us a clear separation of classes:"
   ]
  },
  {
   "cell_type": "code",
   "execution_count": 65,
   "metadata": {},
   "outputs": [
    {
     "data": {
      "application/pdf": "[encoded data removed]",
      "image/svg+xml": [
       "<?xml version=\"1.0\" encoding=\"utf-8\" standalone=\"no\"?>\n",
       "<!DOCTYPE svg PUBLIC \"-//W3C//DTD SVG 1.1//EN\"\n",
       "  \"http://www.w3.org/Graphics/SVG/1.1/DTD/svg11.dtd\">\n",
       "<svg xmlns:xlink=\"http://www.w3.org/1999/xlink\" width=\"303.730313pt\" height=\"287.037813pt\" viewBox=\"0 0 303.730313 287.037813\" xmlns=\"http://www.w3.org/2000/svg\" version=\"1.1\">\n",
       " <metadata>\n",
       "  <rdf:RDF xmlns:dc=\"http://purl.org/dc/elements/1.1/\" xmlns:cc=\"http://creativecommons.org/ns#\" xmlns:rdf=\"http://www.w3.org/1999/02/22-rdf-syntax-ns#\">\n",
       "   <cc:Work>\n",
       "    <dc:type rdf:resource=\"http://purl.org/dc/dcmitype/StillImage\"/>\n",
       "    <dc:date>2023-04-20T14:32:40.949034</dc:date>\n",
       "    <dc:format>image/svg+xml</dc:format>\n",
       "    <dc:creator>\n",
       "     <cc:Agent>\n",
       "      <dc:title>Matplotlib v3.7.1, https://matplotlib.org/</dc:title>\n",
       "     </cc:Agent>\n",
       "    </dc:creator>\n",
       "   </cc:Work>\n",
       "  </rdf:RDF>\n",
       " </metadata>\n",
       " <defs>\n",
       "  <style type=\"text/css\">*{stroke-linejoin: round; stroke-linecap: butt}</style>\n",
       " </defs>\n",
       " <g id=\"figure_1\">\n",
       "  <g id=\"patch_1\">\n",
       "   <path d=\"M 0 287.037813 \n",
       "L 303.730313 287.037813 \n",
       "L 303.730313 0 \n",
       "L 0 0 \n",
       "z\n",
       "\" style=\"fill: #ffffff\"/>\n",
       "  </g>\n",
       "  <g id=\"axes_1\">\n",
       "   <g id=\"patch_2\">\n",
       "    <path d=\"M 66.023594 244.078125 \n",
       "L 287.783594 244.078125 \n",
       "L 287.783594 22.318125 \n",
       "L 66.023594 22.318125 \n",
       "z\n",
       "\" style=\"fill: #eaeaf2\"/>\n",
       "   </g>\n",
       "   <g clip-path=\"url(#p5a2d97653b)\">\n",
       "    <image xlink:href=\"data:image/png;base64,\n",
       "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\" id=\"image4953a492fd\" transform=\"scale(1 -1) translate(0 -221.904)\" x=\"66.023594\" y=\"-22.174125\" width=\"221.904\" height=\"221.904\"/>\n",
       "   </g>\n",
       "   <g id=\"matplotlib.axis_1\">\n",
       "    <g id=\"xtick_1\">\n",
       "     <g id=\"text_1\">\n",
       "      <!-- −0.5 -->\n",
       "      <g style=\"fill: #262626\" transform=\"translate(52.668047 261.936406) scale(0.11 -0.11)\">\n",
       "       <defs>\n",
       "        <path id=\"DejaVuSans-2212\" d=\"M 678 2272 \n",
       "L 4684 2272 \n",
       "L 4684 1741 \n",
       "L 678 1741 \n",
       "L 678 2272 \n",
       "z\n",
       "\" transform=\"scale(0.015625)\"/>\n",
       "        <path id=\"DejaVuSans-30\" d=\"M 2034 4250 \n",
       "Q 1547 4250 1301 3770 \n",
       "Q 1056 3291 1056 2328 \n",
       "Q 1056 1369 1301 889 \n",
       "Q 1547 409 2034 409 \n",
       "Q 2525 409 2770 889 \n",
       "Q 3016 1369 3016 2328 \n",
       "Q 3016 3291 2770 3770 \n",
       "Q 2525 4250 2034 4250 \n",
       "z\n",
       "M 2034 4750 \n",
       "Q 2819 4750 3233 4129 \n",
       "Q 3647 3509 3647 2328 \n",
       "Q 3647 1150 3233 529 \n",
       "Q 2819 -91 2034 -91 \n",
       "Q 1250 -91 836 529 \n",
       "Q 422 1150 422 2328 \n",
       "Q 422 3509 836 4129 \n",
       "Q 1250 4750 2034 4750 \n",
       "z\n",
       "\" transform=\"scale(0.015625)\"/>\n",
       "        <path id=\"DejaVuSans-2e\" d=\"M 684 794 \n",
       "L 1344 794 \n",
       "L 1344 0 \n",
       "L 684 0 \n",
       "L 684 794 \n",
       "z\n",
       "\" transform=\"scale(0.015625)\"/>\n",
       "        <path id=\"DejaVuSans-35\" d=\"M 691 4666 \n",
       "L 3169 4666 \n",
       "L 3169 4134 \n",
       "L 1269 4134 \n",
       "L 1269 2991 \n",
       "Q 1406 3038 1543 3061 \n",
       "Q 1681 3084 1819 3084 \n",
       "Q 2600 3084 3056 2656 \n",
       "Q 3513 2228 3513 1497 \n",
       "Q 3513 744 3044 326 \n",
       "Q 2575 -91 1722 -91 \n",
       "Q 1428 -91 1123 -41 \n",
       "Q 819 9 494 109 \n",
       "L 494 744 \n",
       "Q 775 591 1075 516 \n",
       "Q 1375 441 1709 441 \n",
       "Q 2250 441 2565 725 \n",
       "Q 2881 1009 2881 1497 \n",
       "Q 2881 1984 2565 2268 \n",
       "Q 2250 2553 1709 2553 \n",
       "Q 1456 2553 1204 2497 \n",
       "Q 953 2441 691 2322 \n",
       "L 691 4666 \n",
       "z\n",
       "\" transform=\"scale(0.015625)\"/>\n",
       "       </defs>\n",
       "       <use xlink:href=\"#DejaVuSans-2212\"/>\n",
       "       <use xlink:href=\"#DejaVuSans-30\" x=\"83.789062\"/>\n",
       "       <use xlink:href=\"#DejaVuSans-2e\" x=\"147.412109\"/>\n",
       "       <use xlink:href=\"#DejaVuSans-35\" x=\"179.199219\"/>\n",
       "      </g>\n",
       "     </g>\n",
       "    </g>\n",
       "    <g id=\"xtick_2\">\n",
       "     <g id=\"text_2\">\n",
       "      <!-- 0.0 -->\n",
       "      <g style=\"fill: #262626\" transform=\"translate(112.716875 261.936406) scale(0.11 -0.11)\">\n",
       "       <use xlink:href=\"#DejaVuSans-30\"/>\n",
       "       <use xlink:href=\"#DejaVuSans-2e\" x=\"63.623047\"/>\n",
       "       <use xlink:href=\"#DejaVuSans-30\" x=\"95.410156\"/>\n",
       "      </g>\n",
       "     </g>\n",
       "    </g>\n",
       "    <g id=\"xtick_3\">\n",
       "     <g id=\"text_3\">\n",
       "      <!-- 0.5 -->\n",
       "      <g style=\"fill: #262626\" transform=\"translate(168.156875 261.936406) scale(0.11 -0.11)\">\n",
       "       <use xlink:href=\"#DejaVuSans-30\"/>\n",
       "       <use xlink:href=\"#DejaVuSans-2e\" x=\"63.623047\"/>\n",
       "       <use xlink:href=\"#DejaVuSans-35\" x=\"95.410156\"/>\n",
       "      </g>\n",
       "     </g>\n",
       "    </g>\n",
       "    <g id=\"xtick_4\">\n",
       "     <g id=\"text_4\">\n",
       "      <!-- 1.0 -->\n",
       "      <g style=\"fill: #262626\" transform=\"translate(223.596875 261.936406) scale(0.11 -0.11)\">\n",
       "       <defs>\n",
       "        <path id=\"DejaVuSans-31\" d=\"M 794 531 \n",
       "L 1825 531 \n",
       "L 1825 4091 \n",
       "L 703 3866 \n",
       "L 703 4441 \n",
       "L 1819 4666 \n",
       "L 2450 4666 \n",
       "L 2450 531 \n",
       "L 3481 531 \n",
       "L 3481 0 \n",
       "L 794 0 \n",
       "L 794 531 \n",
       "z\n",
       "\" transform=\"scale(0.015625)\"/>\n",
       "       </defs>\n",
       "       <use xlink:href=\"#DejaVuSans-31\"/>\n",
       "       <use xlink:href=\"#DejaVuSans-2e\" x=\"63.623047\"/>\n",
       "       <use xlink:href=\"#DejaVuSans-30\" x=\"95.410156\"/>\n",
       "      </g>\n",
       "     </g>\n",
       "    </g>\n",
       "    <g id=\"xtick_5\">\n",
       "     <g id=\"text_5\">\n",
       "      <!-- 1.5 -->\n",
       "      <g style=\"fill: #262626\" transform=\"translate(279.036875 261.936406) scale(0.11 -0.11)\">\n",
       "       <use xlink:href=\"#DejaVuSans-31\"/>\n",
       "       <use xlink:href=\"#DejaVuSans-2e\" x=\"63.623047\"/>\n",
       "       <use xlink:href=\"#DejaVuSans-35\" x=\"95.410156\"/>\n",
       "      </g>\n",
       "     </g>\n",
       "    </g>\n",
       "    <g id=\"text_6\">\n",
       "     <!-- $x_1$ -->\n",
       "     <g style=\"fill: #262626\" transform=\"translate(170.483594 277.342188) scale(0.12 -0.12)\">\n",
       "      <defs>\n",
       "       <path id=\"DejaVuSans-Oblique-78\" d=\"M 3841 3500 \n",
       "L 2234 1784 \n",
       "L 3219 0 \n",
       "L 2559 0 \n",
       "L 1819 1388 \n",
       "L 531 0 \n",
       "L -166 0 \n",
       "L 1556 1844 \n",
       "L 641 3500 \n",
       "L 1300 3500 \n",
       "L 1972 2234 \n",
       "L 3144 3500 \n",
       "L 3841 3500 \n",
       "z\n",
       "\" transform=\"scale(0.015625)\"/>\n",
       "      </defs>\n",
       "      <use xlink:href=\"#DejaVuSans-Oblique-78\" transform=\"translate(0 0.3125)\"/>\n",
       "      <use xlink:href=\"#DejaVuSans-31\" transform=\"translate(59.179688 -16.09375) scale(0.7)\"/>\n",
       "     </g>\n",
       "    </g>\n",
       "   </g>\n",
       "   <g id=\"matplotlib.axis_2\">\n",
       "    <g id=\"ytick_1\">\n",
       "     <g id=\"text_7\">\n",
       "      <!-- −0.50 -->\n",
       "      <g style=\"fill: #262626\" transform=\"translate(22.81375 248.257266) scale(0.11 -0.11)\">\n",
       "       <use xlink:href=\"#DejaVuSans-2212\"/>\n",
       "       <use xlink:href=\"#DejaVuSans-30\" x=\"83.789062\"/>\n",
       "       <use xlink:href=\"#DejaVuSans-2e\" x=\"147.412109\"/>\n",
       "       <use xlink:href=\"#DejaVuSans-35\" x=\"179.199219\"/>\n",
       "       <use xlink:href=\"#DejaVuSans-30\" x=\"242.822266\"/>\n",
       "      </g>\n",
       "     </g>\n",
       "    </g>\n",
       "    <g id=\"ytick_2\">\n",
       "     <g id=\"text_8\">\n",
       "      <!-- −0.25 -->\n",
       "      <g style=\"fill: #262626\" transform=\"translate(22.81375 220.537266) scale(0.11 -0.11)\">\n",
       "       <defs>\n",
       "        <path id=\"DejaVuSans-32\" d=\"M 1228 531 \n",
       "L 3431 531 \n",
       "L 3431 0 \n",
       "L 469 0 \n",
       "L 469 531 \n",
       "Q 828 903 1448 1529 \n",
       "Q 2069 2156 2228 2338 \n",
       "Q 2531 2678 2651 2914 \n",
       "Q 2772 3150 2772 3378 \n",
       "Q 2772 3750 2511 3984 \n",
       "Q 2250 4219 1831 4219 \n",
       "Q 1534 4219 1204 4116 \n",
       "Q 875 4013 500 3803 \n",
       "L 500 4441 \n",
       "Q 881 4594 1212 4672 \n",
       "Q 1544 4750 1819 4750 \n",
       "Q 2544 4750 2975 4387 \n",
       "Q 3406 4025 3406 3419 \n",
       "Q 3406 3131 3298 2873 \n",
       "Q 3191 2616 2906 2266 \n",
       "Q 2828 2175 2409 1742 \n",
       "Q 1991 1309 1228 531 \n",
       "z\n",
       "\" transform=\"scale(0.015625)\"/>\n",
       "       </defs>\n",
       "       <use xlink:href=\"#DejaVuSans-2212\"/>\n",
       "       <use xlink:href=\"#DejaVuSans-30\" x=\"83.789062\"/>\n",
       "       <use xlink:href=\"#DejaVuSans-2e\" x=\"147.412109\"/>\n",
       "       <use xlink:href=\"#DejaVuSans-32\" x=\"179.199219\"/>\n",
       "       <use xlink:href=\"#DejaVuSans-35\" x=\"242.822266\"/>\n",
       "      </g>\n",
       "     </g>\n",
       "    </g>\n",
       "    <g id=\"ytick_3\">\n",
       "     <g id=\"text_9\">\n",
       "      <!-- 0.00 -->\n",
       "      <g style=\"fill: #262626\" transform=\"translate(32.031406 192.817266) scale(0.11 -0.11)\">\n",
       "       <use xlink:href=\"#DejaVuSans-30\"/>\n",
       "       <use xlink:href=\"#DejaVuSans-2e\" x=\"63.623047\"/>\n",
       "       <use xlink:href=\"#DejaVuSans-30\" x=\"95.410156\"/>\n",
       "       <use xlink:href=\"#DejaVuSans-30\" x=\"159.033203\"/>\n",
       "      </g>\n",
       "     </g>\n",
       "    </g>\n",
       "    <g id=\"ytick_4\">\n",
       "     <g id=\"text_10\">\n",
       "      <!-- 0.25 -->\n",
       "      <g style=\"fill: #262626\" transform=\"translate(32.031406 165.097266) scale(0.11 -0.11)\">\n",
       "       <use xlink:href=\"#DejaVuSans-30\"/>\n",
       "       <use xlink:href=\"#DejaVuSans-2e\" x=\"63.623047\"/>\n",
       "       <use xlink:href=\"#DejaVuSans-32\" x=\"95.410156\"/>\n",
       "       <use xlink:href=\"#DejaVuSans-35\" x=\"159.033203\"/>\n",
       "      </g>\n",
       "     </g>\n",
       "    </g>\n",
       "    <g id=\"ytick_5\">\n",
       "     <g id=\"text_11\">\n",
       "      <!-- 0.50 -->\n",
       "      <g style=\"fill: #262626\" transform=\"translate(32.031406 137.377266) scale(0.11 -0.11)\">\n",
       "       <use xlink:href=\"#DejaVuSans-30\"/>\n",
       "       <use xlink:href=\"#DejaVuSans-2e\" x=\"63.623047\"/>\n",
       "       <use xlink:href=\"#DejaVuSans-35\" x=\"95.410156\"/>\n",
       "       <use xlink:href=\"#DejaVuSans-30\" x=\"159.033203\"/>\n",
       "      </g>\n",
       "     </g>\n",
       "    </g>\n",
       "    <g id=\"ytick_6\">\n",
       "     <g id=\"text_12\">\n",
       "      <!-- 0.75 -->\n",
       "      <g style=\"fill: #262626\" transform=\"translate(32.031406 109.657266) scale(0.11 -0.11)\">\n",
       "       <defs>\n",
       "        <path id=\"DejaVuSans-37\" d=\"M 525 4666 \n",
       "L 3525 4666 \n",
       "L 3525 4397 \n",
       "L 1831 0 \n",
       "L 1172 0 \n",
       "L 2766 4134 \n",
       "L 525 4134 \n",
       "L 525 4666 \n",
       "z\n",
       "\" transform=\"scale(0.015625)\"/>\n",
       "       </defs>\n",
       "       <use xlink:href=\"#DejaVuSans-30\"/>\n",
       "       <use xlink:href=\"#DejaVuSans-2e\" x=\"63.623047\"/>\n",
       "       <use xlink:href=\"#DejaVuSans-37\" x=\"95.410156\"/>\n",
       "       <use xlink:href=\"#DejaVuSans-35\" x=\"159.033203\"/>\n",
       "      </g>\n",
       "     </g>\n",
       "    </g>\n",
       "    <g id=\"ytick_7\">\n",
       "     <g id=\"text_13\">\n",
       "      <!-- 1.00 -->\n",
       "      <g style=\"fill: #262626\" transform=\"translate(32.031406 81.937266) scale(0.11 -0.11)\">\n",
       "       <use xlink:href=\"#DejaVuSans-31\"/>\n",
       "       <use xlink:href=\"#DejaVuSans-2e\" x=\"63.623047\"/>\n",
       "       <use xlink:href=\"#DejaVuSans-30\" x=\"95.410156\"/>\n",
       "       <use xlink:href=\"#DejaVuSans-30\" x=\"159.033203\"/>\n",
       "      </g>\n",
       "     </g>\n",
       "    </g>\n",
       "    <g id=\"ytick_8\">\n",
       "     <g id=\"text_14\">\n",
       "      <!-- 1.25 -->\n",
       "      <g style=\"fill: #262626\" transform=\"translate(32.031406 54.217266) scale(0.11 -0.11)\">\n",
       "       <use xlink:href=\"#DejaVuSans-31\"/>\n",
       "       <use xlink:href=\"#DejaVuSans-2e\" x=\"63.623047\"/>\n",
       "       <use xlink:href=\"#DejaVuSans-32\" x=\"95.410156\"/>\n",
       "       <use xlink:href=\"#DejaVuSans-35\" x=\"159.033203\"/>\n",
       "      </g>\n",
       "     </g>\n",
       "    </g>\n",
       "    <g id=\"ytick_9\">\n",
       "     <g id=\"text_15\">\n",
       "      <!-- 1.50 -->\n",
       "      <g style=\"fill: #262626\" transform=\"translate(32.031406 26.497266) scale(0.11 -0.11)\">\n",
       "       <use xlink:href=\"#DejaVuSans-31\"/>\n",
       "       <use xlink:href=\"#DejaVuSans-2e\" x=\"63.623047\"/>\n",
       "       <use xlink:href=\"#DejaVuSans-35\" x=\"95.410156\"/>\n",
       "       <use xlink:href=\"#DejaVuSans-30\" x=\"159.033203\"/>\n",
       "      </g>\n",
       "     </g>\n",
       "    </g>\n",
       "    <g id=\"text_16\">\n",
       "     <!-- $x_2$ -->\n",
       "     <g style=\"fill: #262626\" transform=\"translate(16.318125 139.618125) rotate(-90) scale(0.12 -0.12)\">\n",
       "      <use xlink:href=\"#DejaVuSans-Oblique-78\" transform=\"translate(0 0.3125)\"/>\n",
       "      <use xlink:href=\"#DejaVuSans-32\" transform=\"translate(59.179688 -16.09375) scale(0.7)\"/>\n",
       "     </g>\n",
       "    </g>\n",
       "   </g>\n",
       "   <g id=\"PathCollection_1\">\n",
       "    <defs>\n",
       "     <path id=\"m2a5f68f4a1\" d=\"M 0 3 \n",
       "C 0.795609 3 1.55874 2.683901 2.12132 2.12132 \n",
       "C 2.683901 1.55874 3 0.795609 3 0 \n",
       "C 3 -0.795609 2.683901 -1.55874 2.12132 -2.12132 \n",
       "C 1.55874 -2.683901 0.795609 -3 0 -3 \n",
       "C -0.795609 -3 -1.55874 -2.683901 -2.12132 -2.12132 \n",
       "C -2.683901 -1.55874 -3 -0.795609 -3 0 \n",
       "C -3 0.795609 -2.683901 1.55874 -2.12132 2.12132 \n",
       "C -1.55874 2.683901 -0.795609 3 0 3 \n",
       "z\n",
       "\" style=\"stroke: #333333\"/>\n",
       "    </defs>\n",
       "    <g clip-path=\"url(#p5a2d97653b)\">\n",
       "     <use xlink:href=\"#m2a5f68f4a1\" x=\"114.008466\" y=\"167.245384\" style=\"fill: #4c72b0; stroke: #333333\"/>\n",
       "     <use xlink:href=\"#m2a5f68f4a1\" x=\"229.811171\" y=\"65.189543\" style=\"fill: #4c72b0; stroke: #333333\"/>\n",
       "     <use xlink:href=\"#m2a5f68f4a1\" x=\"113.412516\" y=\"185.840924\" style=\"fill: #4c72b0; stroke: #333333\"/>\n",
       "     <use xlink:href=\"#m2a5f68f4a1\" x=\"206.35657\" y=\"83.282313\" style=\"fill: #4c72b0; stroke: #333333\"/>\n",
       "     <use xlink:href=\"#m2a5f68f4a1\" x=\"124.818224\" y=\"187.449029\" style=\"fill: #4c72b0; stroke: #333333\"/>\n",
       "     <use xlink:href=\"#m2a5f68f4a1\" x=\"124.99511\" y=\"181.974447\" style=\"fill: #4c72b0; stroke: #333333\"/>\n",
       "     <use xlink:href=\"#m2a5f68f4a1\" x=\"116.295538\" y=\"170.261404\" style=\"fill: #4c72b0; stroke: #333333\"/>\n",
       "     <use xlink:href=\"#m2a5f68f4a1\" x=\"110.738582\" y=\"198.445042\" style=\"fill: #4c72b0; stroke: #333333\"/>\n",
       "     <use xlink:href=\"#m2a5f68f4a1\" x=\"236.755063\" y=\"72.798944\" style=\"fill: #4c72b0; stroke: #333333\"/>\n",
       "     <use xlink:href=\"#m2a5f68f4a1\" x=\"124.893659\" y=\"205.995385\" style=\"fill: #4c72b0; stroke: #333333\"/>\n",
       "     <use xlink:href=\"#m2a5f68f4a1\" x=\"238.897306\" y=\"102.950527\" style=\"fill: #4c72b0; stroke: #333333\"/>\n",
       "     <use xlink:href=\"#m2a5f68f4a1\" x=\"220.336456\" y=\"98.801301\" style=\"fill: #4c72b0; stroke: #333333\"/>\n",
       "     <use xlink:href=\"#m2a5f68f4a1\" x=\"242.442631\" y=\"97.784995\" style=\"fill: #4c72b0; stroke: #333333\"/>\n",
       "     <use xlink:href=\"#m2a5f68f4a1\" x=\"222.639924\" y=\"67.139861\" style=\"fill: #4c72b0; stroke: #333333\"/>\n",
       "     <use xlink:href=\"#m2a5f68f4a1\" x=\"221.163575\" y=\"94.386772\" style=\"fill: #4c72b0; stroke: #333333\"/>\n",
       "     <use xlink:href=\"#m2a5f68f4a1\" x=\"117.83367\" y=\"199.719938\" style=\"fill: #4c72b0; stroke: #333333\"/>\n",
       "     <use xlink:href=\"#m2a5f68f4a1\" x=\"114.871618\" y=\"203.541408\" style=\"fill: #4c72b0; stroke: #333333\"/>\n",
       "     <use xlink:href=\"#m2a5f68f4a1\" x=\"123.273213\" y=\"193.91939\" style=\"fill: #4c72b0; stroke: #333333\"/>\n",
       "     <use xlink:href=\"#m2a5f68f4a1\" x=\"239.802364\" y=\"75.780697\" style=\"fill: #4c72b0; stroke: #333333\"/>\n",
       "     <use xlink:href=\"#m2a5f68f4a1\" x=\"110.238905\" y=\"178.778007\" style=\"fill: #4c72b0; stroke: #333333\"/>\n",
       "     <use xlink:href=\"#m2a5f68f4a1\" x=\"256.826458\" y=\"72.504079\" style=\"fill: #4c72b0; stroke: #333333\"/>\n",
       "     <use xlink:href=\"#m2a5f68f4a1\" x=\"236.873509\" y=\"92.627942\" style=\"fill: #4c72b0; stroke: #333333\"/>\n",
       "     <use xlink:href=\"#m2a5f68f4a1\" x=\"135.431508\" y=\"180.573938\" style=\"fill: #4c72b0; stroke: #333333\"/>\n",
       "     <use xlink:href=\"#m2a5f68f4a1\" x=\"123.691235\" y=\"184.893461\" style=\"fill: #4c72b0; stroke: #333333\"/>\n",
       "     <use xlink:href=\"#m2a5f68f4a1\" x=\"234.222747\" y=\"80.441556\" style=\"fill: #4c72b0; stroke: #333333\"/>\n",
       "     <use xlink:href=\"#m2a5f68f4a1\" x=\"241.374834\" y=\"74.256445\" style=\"fill: #4c72b0; stroke: #333333\"/>\n",
       "     <use xlink:href=\"#m2a5f68f4a1\" x=\"119.836663\" y=\"190.724234\" style=\"fill: #4c72b0; stroke: #333333\"/>\n",
       "     <use xlink:href=\"#m2a5f68f4a1\" x=\"254.570409\" y=\"81.017005\" style=\"fill: #4c72b0; stroke: #333333\"/>\n",
       "     <use xlink:href=\"#m2a5f68f4a1\" x=\"219.78166\" y=\"84.287747\" style=\"fill: #4c72b0; stroke: #333333\"/>\n",
       "     <use xlink:href=\"#m2a5f68f4a1\" x=\"232.208004\" y=\"62.35743\" style=\"fill: #4c72b0; stroke: #333333\"/>\n",
       "     <use xlink:href=\"#m2a5f68f4a1\" x=\"126.651167\" y=\"184.293565\" style=\"fill: #4c72b0; stroke: #333333\"/>\n",
       "     <use xlink:href=\"#m2a5f68f4a1\" x=\"233.893144\" y=\"70.954554\" style=\"fill: #4c72b0; stroke: #333333\"/>\n",
       "     <use xlink:href=\"#m2a5f68f4a1\" x=\"121.797426\" y=\"193.803719\" style=\"fill: #4c72b0; stroke: #333333\"/>\n",
       "     <use xlink:href=\"#m2a5f68f4a1\" x=\"125.891594\" y=\"177.168598\" style=\"fill: #4c72b0; stroke: #333333\"/>\n",
       "     <use xlink:href=\"#m2a5f68f4a1\" x=\"233.497228\" y=\"81.370049\" style=\"fill: #4c72b0; stroke: #333333\"/>\n",
       "     <use xlink:href=\"#m2a5f68f4a1\" x=\"234.079094\" y=\"85.617239\" style=\"fill: #4c72b0; stroke: #333333\"/>\n",
       "     <use xlink:href=\"#m2a5f68f4a1\" x=\"118.660845\" y=\"188.82148\" style=\"fill: #4c72b0; stroke: #333333\"/>\n",
       "     <use xlink:href=\"#m2a5f68f4a1\" x=\"237.091843\" y=\"73.278781\" style=\"fill: #4c72b0; stroke: #333333\"/>\n",
       "     <use xlink:href=\"#m2a5f68f4a1\" x=\"124.30524\" y=\"195.266374\" style=\"fill: #4c72b0; stroke: #333333\"/>\n",
       "     <use xlink:href=\"#m2a5f68f4a1\" x=\"245.176508\" y=\"92.783695\" style=\"fill: #4c72b0; stroke: #333333\"/>\n",
       "     <use xlink:href=\"#m2a5f68f4a1\" x=\"237.534472\" y=\"74.176292\" style=\"fill: #4c72b0; stroke: #333333\"/>\n",
       "     <use xlink:href=\"#m2a5f68f4a1\" x=\"110.097113\" y=\"191.645256\" style=\"fill: #4c72b0; stroke: #333333\"/>\n",
       "     <use xlink:href=\"#m2a5f68f4a1\" x=\"233.708371\" y=\"65.898909\" style=\"fill: #4c72b0; stroke: #333333\"/>\n",
       "     <use xlink:href=\"#m2a5f68f4a1\" x=\"124.953417\" y=\"187.816029\" style=\"fill: #4c72b0; stroke: #333333\"/>\n",
       "     <use xlink:href=\"#m2a5f68f4a1\" x=\"136.577856\" y=\"185.309734\" style=\"fill: #4c72b0; stroke: #333333\"/>\n",
       "     <use xlink:href=\"#m2a5f68f4a1\" x=\"127.207385\" y=\"191.68119\" style=\"fill: #4c72b0; stroke: #333333\"/>\n",
       "     <use xlink:href=\"#m2a5f68f4a1\" x=\"247.335669\" y=\"76.200287\" style=\"fill: #4c72b0; stroke: #333333\"/>\n",
       "     <use xlink:href=\"#m2a5f68f4a1\" x=\"235.72766\" y=\"89.076695\" style=\"fill: #4c72b0; stroke: #333333\"/>\n",
       "     <use xlink:href=\"#m2a5f68f4a1\" x=\"229.646119\" y=\"83.227075\" style=\"fill: #4c72b0; stroke: #333333\"/>\n",
       "     <use xlink:href=\"#m2a5f68f4a1\" x=\"246.228999\" y=\"73.272463\" style=\"fill: #4c72b0; stroke: #333333\"/>\n",
       "     <use xlink:href=\"#m2a5f68f4a1\" x=\"229.851162\" y=\"85.631039\" style=\"fill: #4c72b0; stroke: #333333\"/>\n",
       "     <use xlink:href=\"#m2a5f68f4a1\" x=\"105.082575\" y=\"168.585885\" style=\"fill: #4c72b0; stroke: #333333\"/>\n",
       "     <use xlink:href=\"#m2a5f68f4a1\" x=\"209.43665\" y=\"72.034062\" style=\"fill: #4c72b0; stroke: #333333\"/>\n",
       "     <use xlink:href=\"#m2a5f68f4a1\" x=\"211.233931\" y=\"74.557748\" style=\"fill: #4c72b0; stroke: #333333\"/>\n",
       "     <use xlink:href=\"#m2a5f68f4a1\" x=\"121.481056\" y=\"175.626938\" style=\"fill: #4c72b0; stroke: #333333\"/>\n",
       "     <use xlink:href=\"#m2a5f68f4a1\" x=\"232.09201\" y=\"66.898885\" style=\"fill: #4c72b0; stroke: #333333\"/>\n",
       "     <use xlink:href=\"#m2a5f68f4a1\" x=\"127.029987\" y=\"186.122441\" style=\"fill: #4c72b0; stroke: #333333\"/>\n",
       "     <use xlink:href=\"#m2a5f68f4a1\" x=\"137.538522\" y=\"182.348957\" style=\"fill: #4c72b0; stroke: #333333\"/>\n",
       "     <use xlink:href=\"#m2a5f68f4a1\" x=\"104.024622\" y=\"197.4278\" style=\"fill: #4c72b0; stroke: #333333\"/>\n",
       "     <use xlink:href=\"#m2a5f68f4a1\" x=\"115.501857\" y=\"194.99383\" style=\"fill: #4c72b0; stroke: #333333\"/>\n",
       "     <use xlink:href=\"#m2a5f68f4a1\" x=\"238.602176\" y=\"66.566203\" style=\"fill: #4c72b0; stroke: #333333\"/>\n",
       "     <use xlink:href=\"#m2a5f68f4a1\" x=\"133.500872\" y=\"187.13277\" style=\"fill: #4c72b0; stroke: #333333\"/>\n",
       "     <use xlink:href=\"#m2a5f68f4a1\" x=\"215.861752\" y=\"72.713054\" style=\"fill: #4c72b0; stroke: #333333\"/>\n",
       "     <use xlink:href=\"#m2a5f68f4a1\" x=\"136.312065\" y=\"163.753071\" style=\"fill: #4c72b0; stroke: #333333\"/>\n",
       "     <use xlink:href=\"#m2a5f68f4a1\" x=\"226.961049\" y=\"71.064039\" style=\"fill: #4c72b0; stroke: #333333\"/>\n",
       "     <use xlink:href=\"#m2a5f68f4a1\" x=\"129.46658\" y=\"184.211113\" style=\"fill: #4c72b0; stroke: #333333\"/>\n",
       "     <use xlink:href=\"#m2a5f68f4a1\" x=\"223.488601\" y=\"76.321878\" style=\"fill: #4c72b0; stroke: #333333\"/>\n",
       "     <use xlink:href=\"#m2a5f68f4a1\" x=\"121.490592\" y=\"218.651049\" style=\"fill: #4c72b0; stroke: #333333\"/>\n",
       "     <use xlink:href=\"#m2a5f68f4a1\" x=\"114.308384\" y=\"212.066251\" style=\"fill: #4c72b0; stroke: #333333\"/>\n",
       "     <use xlink:href=\"#m2a5f68f4a1\" x=\"217.614727\" y=\"64.413941\" style=\"fill: #4c72b0; stroke: #333333\"/>\n",
       "     <use xlink:href=\"#m2a5f68f4a1\" x=\"213.422754\" y=\"76.196335\" style=\"fill: #4c72b0; stroke: #333333\"/>\n",
       "     <use xlink:href=\"#m2a5f68f4a1\" x=\"232.604146\" y=\"91.887804\" style=\"fill: #4c72b0; stroke: #333333\"/>\n",
       "     <use xlink:href=\"#m2a5f68f4a1\" x=\"223.351696\" y=\"70.59508\" style=\"fill: #4c72b0; stroke: #333333\"/>\n",
       "     <use xlink:href=\"#m2a5f68f4a1\" x=\"131.900775\" y=\"184.89805\" style=\"fill: #4c72b0; stroke: #333333\"/>\n",
       "     <use xlink:href=\"#m2a5f68f4a1\" x=\"110.160251\" y=\"168.691665\" style=\"fill: #4c72b0; stroke: #333333\"/>\n",
       "     <use xlink:href=\"#m2a5f68f4a1\" x=\"234.134187\" y=\"69.251266\" style=\"fill: #4c72b0; stroke: #333333\"/>\n",
       "     <use xlink:href=\"#m2a5f68f4a1\" x=\"247.847745\" y=\"76.539406\" style=\"fill: #4c72b0; stroke: #333333\"/>\n",
       "     <use xlink:href=\"#m2a5f68f4a1\" x=\"124.225797\" y=\"207.036359\" style=\"fill: #4c72b0; stroke: #333333\"/>\n",
       "     <use xlink:href=\"#m2a5f68f4a1\" x=\"122.370218\" y=\"167.95841\" style=\"fill: #4c72b0; stroke: #333333\"/>\n",
       "     <use xlink:href=\"#m2a5f68f4a1\" x=\"118.745436\" y=\"178.234315\" style=\"fill: #4c72b0; stroke: #333333\"/>\n",
       "     <use xlink:href=\"#m2a5f68f4a1\" x=\"213.091856\" y=\"69.546726\" style=\"fill: #4c72b0; stroke: #333333\"/>\n",
       "     <use xlink:href=\"#m2a5f68f4a1\" x=\"220.020878\" y=\"91.27545\" style=\"fill: #4c72b0; stroke: #333333\"/>\n",
       "     <use xlink:href=\"#m2a5f68f4a1\" x=\"124.854294\" y=\"190.18053\" style=\"fill: #4c72b0; stroke: #333333\"/>\n",
       "     <use xlink:href=\"#m2a5f68f4a1\" x=\"122.611607\" y=\"199.59048\" style=\"fill: #4c72b0; stroke: #333333\"/>\n",
       "     <use xlink:href=\"#m2a5f68f4a1\" x=\"230.962413\" y=\"66.78952\" style=\"fill: #4c72b0; stroke: #333333\"/>\n",
       "     <use xlink:href=\"#m2a5f68f4a1\" x=\"243.634677\" y=\"93.317316\" style=\"fill: #4c72b0; stroke: #333333\"/>\n",
       "     <use xlink:href=\"#m2a5f68f4a1\" x=\"253.681622\" y=\"64.716539\" style=\"fill: #4c72b0; stroke: #333333\"/>\n",
       "     <use xlink:href=\"#m2a5f68f4a1\" x=\"137.671339\" y=\"185.933082\" style=\"fill: #4c72b0; stroke: #333333\"/>\n",
       "     <use xlink:href=\"#m2a5f68f4a1\" x=\"220.289969\" y=\"82.397795\" style=\"fill: #4c72b0; stroke: #333333\"/>\n",
       "     <use xlink:href=\"#m2a5f68f4a1\" x=\"239.298139\" y=\"61.951429\" style=\"fill: #4c72b0; stroke: #333333\"/>\n",
       "     <use xlink:href=\"#m2a5f68f4a1\" x=\"220.257552\" y=\"75.272534\" style=\"fill: #4c72b0; stroke: #333333\"/>\n",
       "     <use xlink:href=\"#m2a5f68f4a1\" x=\"120.855947\" y=\"193.962641\" style=\"fill: #4c72b0; stroke: #333333\"/>\n",
       "     <use xlink:href=\"#m2a5f68f4a1\" x=\"247.854209\" y=\"74.955436\" style=\"fill: #4c72b0; stroke: #333333\"/>\n",
       "     <use xlink:href=\"#m2a5f68f4a1\" x=\"230.137013\" y=\"81.548696\" style=\"fill: #4c72b0; stroke: #333333\"/>\n",
       "     <use xlink:href=\"#m2a5f68f4a1\" x=\"113.590459\" y=\"179.394871\" style=\"fill: #4c72b0; stroke: #333333\"/>\n",
       "     <use xlink:href=\"#m2a5f68f4a1\" x=\"125.78756\" y=\"198.422936\" style=\"fill: #4c72b0; stroke: #333333\"/>\n",
       "     <use xlink:href=\"#m2a5f68f4a1\" x=\"106.537456\" y=\"180.738083\" style=\"fill: #4c72b0; stroke: #333333\"/>\n",
       "     <use xlink:href=\"#m2a5f68f4a1\" x=\"239.447515\" y=\"105.366784\" style=\"fill: #4c72b0; stroke: #333333\"/>\n",
       "     <use xlink:href=\"#m2a5f68f4a1\" x=\"231.039692\" y=\"93.637771\" style=\"fill: #4c72b0; stroke: #333333\"/>\n",
       "     <use xlink:href=\"#m2a5f68f4a1\" x=\"109.597609\" y=\"203.26592\" style=\"fill: #4c72b0; stroke: #333333\"/>\n",
       "     <use xlink:href=\"#m2a5f68f4a1\" x=\"124.156397\" y=\"198.449801\" style=\"fill: #4c72b0; stroke: #333333\"/>\n",
       "     <use xlink:href=\"#m2a5f68f4a1\" x=\"121.593246\" y=\"192.577854\" style=\"fill: #4c72b0; stroke: #333333\"/>\n",
       "     <use xlink:href=\"#m2a5f68f4a1\" x=\"129.369312\" y=\"192.166198\" style=\"fill: #4c72b0; stroke: #333333\"/>\n",
       "     <use xlink:href=\"#m2a5f68f4a1\" x=\"246.990906\" y=\"100.010794\" style=\"fill: #4c72b0; stroke: #333333\"/>\n",
       "     <use xlink:href=\"#m2a5f68f4a1\" x=\"247.840581\" y=\"78.002101\" style=\"fill: #4c72b0; stroke: #333333\"/>\n",
       "     <use xlink:href=\"#m2a5f68f4a1\" x=\"243.966737\" y=\"81.844169\" style=\"fill: #4c72b0; stroke: #333333\"/>\n",
       "     <use xlink:href=\"#m2a5f68f4a1\" x=\"255.21736\" y=\"72.300417\" style=\"fill: #4c72b0; stroke: #333333\"/>\n",
       "     <use xlink:href=\"#m2a5f68f4a1\" x=\"237.616476\" y=\"88.601351\" style=\"fill: #4c72b0; stroke: #333333\"/>\n",
       "     <use xlink:href=\"#m2a5f68f4a1\" x=\"121.776651\" y=\"186.979139\" style=\"fill: #4c72b0; stroke: #333333\"/>\n",
       "     <use xlink:href=\"#m2a5f68f4a1\" x=\"143.550994\" y=\"209.854317\" style=\"fill: #4c72b0; stroke: #333333\"/>\n",
       "    </g>\n",
       "   </g>\n",
       "   <g id=\"PathCollection_2\">\n",
       "    <defs>\n",
       "     <path id=\"m86bf231a0d\" d=\"M 0 3 \n",
       "C 0.795609 3 1.55874 2.683901 2.12132 2.12132 \n",
       "C 2.683901 1.55874 3 0.795609 3 0 \n",
       "C 3 -0.795609 2.683901 -1.55874 2.12132 -2.12132 \n",
       "C 1.55874 -2.683901 0.795609 -3 0 -3 \n",
       "C -0.795609 -3 -1.55874 -2.683901 -2.12132 -2.12132 \n",
       "C -2.683901 -1.55874 -3 -0.795609 -3 0 \n",
       "C -3 0.795609 -2.683901 1.55874 -2.12132 2.12132 \n",
       "C -1.55874 2.683901 -0.795609 3 0 3 \n",
       "z\n",
       "\" style=\"stroke: #333333\"/>\n",
       "    </defs>\n",
       "    <g clip-path=\"url(#p5a2d97653b)\">\n",
       "     <use xlink:href=\"#m86bf231a0d\" x=\"242.4271\" y=\"187.379388\" style=\"fill: #dd8452; stroke: #333333\"/>\n",
       "     <use xlink:href=\"#m86bf231a0d\" x=\"131.67389\" y=\"92.78805\" style=\"fill: #dd8452; stroke: #333333\"/>\n",
       "     <use xlink:href=\"#m86bf231a0d\" x=\"117.691522\" y=\"77.071467\" style=\"fill: #dd8452; stroke: #333333\"/>\n",
       "     <use xlink:href=\"#m86bf231a0d\" x=\"234.407282\" y=\"175.247174\" style=\"fill: #dd8452; stroke: #333333\"/>\n",
       "     <use xlink:href=\"#m86bf231a0d\" x=\"264.696212\" y=\"180.552145\" style=\"fill: #dd8452; stroke: #333333\"/>\n",
       "     <use xlink:href=\"#m86bf231a0d\" x=\"226.627257\" y=\"211.790988\" style=\"fill: #dd8452; stroke: #333333\"/>\n",
       "     <use xlink:href=\"#m86bf231a0d\" x=\"108.022774\" y=\"65.800211\" style=\"fill: #dd8452; stroke: #333333\"/>\n",
       "     <use xlink:href=\"#m86bf231a0d\" x=\"241.038068\" y=\"182.898545\" style=\"fill: #dd8452; stroke: #333333\"/>\n",
       "     <use xlink:href=\"#m86bf231a0d\" x=\"121.2401\" y=\"74.082074\" style=\"fill: #dd8452; stroke: #333333\"/>\n",
       "     <use xlink:href=\"#m86bf231a0d\" x=\"245.740372\" y=\"195.116987\" style=\"fill: #dd8452; stroke: #333333\"/>\n",
       "     <use xlink:href=\"#m86bf231a0d\" x=\"125.643102\" y=\"78.468298\" style=\"fill: #dd8452; stroke: #333333\"/>\n",
       "     <use xlink:href=\"#m86bf231a0d\" x=\"126.507953\" y=\"96.311288\" style=\"fill: #dd8452; stroke: #333333\"/>\n",
       "     <use xlink:href=\"#m86bf231a0d\" x=\"128.251335\" y=\"93.170498\" style=\"fill: #dd8452; stroke: #333333\"/>\n",
       "     <use xlink:href=\"#m86bf231a0d\" x=\"251.213545\" y=\"192.843614\" style=\"fill: #dd8452; stroke: #333333\"/>\n",
       "     <use xlink:href=\"#m86bf231a0d\" x=\"116.176804\" y=\"77.773464\" style=\"fill: #dd8452; stroke: #333333\"/>\n",
       "     <use xlink:href=\"#m86bf231a0d\" x=\"255.413038\" y=\"210.197911\" style=\"fill: #dd8452; stroke: #333333\"/>\n",
       "     <use xlink:href=\"#m86bf231a0d\" x=\"115.406637\" y=\"74.154139\" style=\"fill: #dd8452; stroke: #333333\"/>\n",
       "     <use xlink:href=\"#m86bf231a0d\" x=\"141.744509\" y=\"78.955253\" style=\"fill: #dd8452; stroke: #333333\"/>\n",
       "     <use xlink:href=\"#m86bf231a0d\" x=\"119.285524\" y=\"96.239594\" style=\"fill: #dd8452; stroke: #333333\"/>\n",
       "     <use xlink:href=\"#m86bf231a0d\" x=\"247.088587\" y=\"208.04192\" style=\"fill: #dd8452; stroke: #333333\"/>\n",
       "     <use xlink:href=\"#m86bf231a0d\" x=\"236.524305\" y=\"193.861334\" style=\"fill: #dd8452; stroke: #333333\"/>\n",
       "     <use xlink:href=\"#m86bf231a0d\" x=\"132.18078\" y=\"71.482122\" style=\"fill: #dd8452; stroke: #333333\"/>\n",
       "     <use xlink:href=\"#m86bf231a0d\" x=\"226.026806\" y=\"200.402511\" style=\"fill: #dd8452; stroke: #333333\"/>\n",
       "     <use xlink:href=\"#m86bf231a0d\" x=\"220.530535\" y=\"196.659535\" style=\"fill: #dd8452; stroke: #333333\"/>\n",
       "     <use xlink:href=\"#m86bf231a0d\" x=\"123.364744\" y=\"72.229331\" style=\"fill: #dd8452; stroke: #333333\"/>\n",
       "     <use xlink:href=\"#m86bf231a0d\" x=\"101.086806\" y=\"63.384331\" style=\"fill: #dd8452; stroke: #333333\"/>\n",
       "     <use xlink:href=\"#m86bf231a0d\" x=\"231.917692\" y=\"186.307132\" style=\"fill: #dd8452; stroke: #333333\"/>\n",
       "     <use xlink:href=\"#m86bf231a0d\" x=\"217.333198\" y=\"194.494422\" style=\"fill: #dd8452; stroke: #333333\"/>\n",
       "     <use xlink:href=\"#m86bf231a0d\" x=\"219.602465\" y=\"192.229017\" style=\"fill: #dd8452; stroke: #333333\"/>\n",
       "     <use xlink:href=\"#m86bf231a0d\" x=\"139.331512\" y=\"75.034822\" style=\"fill: #dd8452; stroke: #333333\"/>\n",
       "     <use xlink:href=\"#m86bf231a0d\" x=\"219.807085\" y=\"177.308718\" style=\"fill: #dd8452; stroke: #333333\"/>\n",
       "     <use xlink:href=\"#m86bf231a0d\" x=\"108.816167\" y=\"93.877445\" style=\"fill: #dd8452; stroke: #333333\"/>\n",
       "     <use xlink:href=\"#m86bf231a0d\" x=\"223.973884\" y=\"177.361809\" style=\"fill: #dd8452; stroke: #333333\"/>\n",
       "     <use xlink:href=\"#m86bf231a0d\" x=\"231.192887\" y=\"197.177032\" style=\"fill: #dd8452; stroke: #333333\"/>\n",
       "     <use xlink:href=\"#m86bf231a0d\" x=\"110.760934\" y=\"50.46361\" style=\"fill: #dd8452; stroke: #333333\"/>\n",
       "     <use xlink:href=\"#m86bf231a0d\" x=\"234.409146\" y=\"198.015329\" style=\"fill: #dd8452; stroke: #333333\"/>\n",
       "     <use xlink:href=\"#m86bf231a0d\" x=\"104.794383\" y=\"99.748081\" style=\"fill: #dd8452; stroke: #333333\"/>\n",
       "     <use xlink:href=\"#m86bf231a0d\" x=\"216.883438\" y=\"203.277226\" style=\"fill: #dd8452; stroke: #333333\"/>\n",
       "     <use xlink:href=\"#m86bf231a0d\" x=\"207.071236\" y=\"174.5475\" style=\"fill: #dd8452; stroke: #333333\"/>\n",
       "     <use xlink:href=\"#m86bf231a0d\" x=\"140.5393\" y=\"79.764633\" style=\"fill: #dd8452; stroke: #333333\"/>\n",
       "     <use xlink:href=\"#m86bf231a0d\" x=\"140.054782\" y=\"78.093814\" style=\"fill: #dd8452; stroke: #333333\"/>\n",
       "     <use xlink:href=\"#m86bf231a0d\" x=\"241.576302\" y=\"186.952845\" style=\"fill: #dd8452; stroke: #333333\"/>\n",
       "     <use xlink:href=\"#m86bf231a0d\" x=\"125.427606\" y=\"90.60166\" style=\"fill: #dd8452; stroke: #333333\"/>\n",
       "     <use xlink:href=\"#m86bf231a0d\" x=\"129.625263\" y=\"77.580978\" style=\"fill: #dd8452; stroke: #333333\"/>\n",
       "     <use xlink:href=\"#m86bf231a0d\" x=\"218.134178\" y=\"174.751735\" style=\"fill: #dd8452; stroke: #333333\"/>\n",
       "     <use xlink:href=\"#m86bf231a0d\" x=\"113.787023\" y=\"89.01268\" style=\"fill: #dd8452; stroke: #333333\"/>\n",
       "     <use xlink:href=\"#m86bf231a0d\" x=\"138.167483\" y=\"74.664298\" style=\"fill: #dd8452; stroke: #333333\"/>\n",
       "     <use xlink:href=\"#m86bf231a0d\" x=\"121.836771\" y=\"69.669825\" style=\"fill: #dd8452; stroke: #333333\"/>\n",
       "     <use xlink:href=\"#m86bf231a0d\" x=\"246.397474\" y=\"188.904184\" style=\"fill: #dd8452; stroke: #333333\"/>\n",
       "     <use xlink:href=\"#m86bf231a0d\" x=\"215.977283\" y=\"185.229811\" style=\"fill: #dd8452; stroke: #333333\"/>\n",
       "     <use xlink:href=\"#m86bf231a0d\" x=\"97.916683\" y=\"69.067167\" style=\"fill: #dd8452; stroke: #333333\"/>\n",
       "     <use xlink:href=\"#m86bf231a0d\" x=\"238.454875\" y=\"188.415526\" style=\"fill: #dd8452; stroke: #333333\"/>\n",
       "     <use xlink:href=\"#m86bf231a0d\" x=\"233.120715\" y=\"210.557035\" style=\"fill: #dd8452; stroke: #333333\"/>\n",
       "     <use xlink:href=\"#m86bf231a0d\" x=\"231.806536\" y=\"171.251343\" style=\"fill: #dd8452; stroke: #333333\"/>\n",
       "     <use xlink:href=\"#m86bf231a0d\" x=\"232.459806\" y=\"188.7857\" style=\"fill: #dd8452; stroke: #333333\"/>\n",
       "     <use xlink:href=\"#m86bf231a0d\" x=\"228.829641\" y=\"174.496279\" style=\"fill: #dd8452; stroke: #333333\"/>\n",
       "     <use xlink:href=\"#m86bf231a0d\" x=\"221.54357\" y=\"175.620416\" style=\"fill: #dd8452; stroke: #333333\"/>\n",
       "     <use xlink:href=\"#m86bf231a0d\" x=\"135.743681\" y=\"74.021867\" style=\"fill: #dd8452; stroke: #333333\"/>\n",
       "     <use xlink:href=\"#m86bf231a0d\" x=\"111.629819\" y=\"68.712239\" style=\"fill: #dd8452; stroke: #333333\"/>\n",
       "     <use xlink:href=\"#m86bf231a0d\" x=\"236.505707\" y=\"192.920823\" style=\"fill: #dd8452; stroke: #333333\"/>\n",
       "     <use xlink:href=\"#m86bf231a0d\" x=\"125.547514\" y=\"76.455155\" style=\"fill: #dd8452; stroke: #333333\"/>\n",
       "     <use xlink:href=\"#m86bf231a0d\" x=\"117.367569\" y=\"95.785803\" style=\"fill: #dd8452; stroke: #333333\"/>\n",
       "     <use xlink:href=\"#m86bf231a0d\" x=\"229.835539\" y=\"191.992648\" style=\"fill: #dd8452; stroke: #333333\"/>\n",
       "     <use xlink:href=\"#m86bf231a0d\" x=\"119.664931\" y=\"108.41454\" style=\"fill: #dd8452; stroke: #333333\"/>\n",
       "     <use xlink:href=\"#m86bf231a0d\" x=\"139.617997\" y=\"68.988467\" style=\"fill: #dd8452; stroke: #333333\"/>\n",
       "     <use xlink:href=\"#m86bf231a0d\" x=\"131.460681\" y=\"69.557116\" style=\"fill: #dd8452; stroke: #333333\"/>\n",
       "     <use xlink:href=\"#m86bf231a0d\" x=\"128.645203\" y=\"56.178988\" style=\"fill: #dd8452; stroke: #333333\"/>\n",
       "     <use xlink:href=\"#m86bf231a0d\" x=\"113.942448\" y=\"67.007246\" style=\"fill: #dd8452; stroke: #333333\"/>\n",
       "     <use xlink:href=\"#m86bf231a0d\" x=\"219.395036\" y=\"182.567134\" style=\"fill: #dd8452; stroke: #333333\"/>\n",
       "     <use xlink:href=\"#m86bf231a0d\" x=\"126.298902\" y=\"99.072427\" style=\"fill: #dd8452; stroke: #333333\"/>\n",
       "     <use xlink:href=\"#m86bf231a0d\" x=\"112.094447\" y=\"80.291453\" style=\"fill: #dd8452; stroke: #333333\"/>\n",
       "     <use xlink:href=\"#m86bf231a0d\" x=\"216.925636\" y=\"198.123334\" style=\"fill: #dd8452; stroke: #333333\"/>\n",
       "     <use xlink:href=\"#m86bf231a0d\" x=\"230.069152\" y=\"199.938268\" style=\"fill: #dd8452; stroke: #333333\"/>\n",
       "     <use xlink:href=\"#m86bf231a0d\" x=\"233.629658\" y=\"193.127673\" style=\"fill: #dd8452; stroke: #333333\"/>\n",
       "     <use xlink:href=\"#m86bf231a0d\" x=\"207.521604\" y=\"196.945525\" style=\"fill: #dd8452; stroke: #333333\"/>\n",
       "     <use xlink:href=\"#m86bf231a0d\" x=\"224.655599\" y=\"186.68099\" style=\"fill: #dd8452; stroke: #333333\"/>\n",
       "     <use xlink:href=\"#m86bf231a0d\" x=\"239.7425\" y=\"183.483782\" style=\"fill: #dd8452; stroke: #333333\"/>\n",
       "     <use xlink:href=\"#m86bf231a0d\" x=\"245.884791\" y=\"163.448046\" style=\"fill: #dd8452; stroke: #333333\"/>\n",
       "     <use xlink:href=\"#m86bf231a0d\" x=\"230.222632\" y=\"199.584704\" style=\"fill: #dd8452; stroke: #333333\"/>\n",
       "     <use xlink:href=\"#m86bf231a0d\" x=\"234.214102\" y=\"143.11721\" style=\"fill: #dd8452; stroke: #333333\"/>\n",
       "     <use xlink:href=\"#m86bf231a0d\" x=\"105.245514\" y=\"81.336231\" style=\"fill: #dd8452; stroke: #333333\"/>\n",
       "     <use xlink:href=\"#m86bf231a0d\" x=\"131.575595\" y=\"85.648784\" style=\"fill: #dd8452; stroke: #333333\"/>\n",
       "     <use xlink:href=\"#m86bf231a0d\" x=\"122.14568\" y=\"76.484049\" style=\"fill: #dd8452; stroke: #333333\"/>\n",
       "     <use xlink:href=\"#m86bf231a0d\" x=\"133.588479\" y=\"65.867556\" style=\"fill: #dd8452; stroke: #333333\"/>\n",
       "     <use xlink:href=\"#m86bf231a0d\" x=\"119.194255\" y=\"69.119325\" style=\"fill: #dd8452; stroke: #333333\"/>\n",
       "     <use xlink:href=\"#m86bf231a0d\" x=\"225.08871\" y=\"188.156158\" style=\"fill: #dd8452; stroke: #333333\"/>\n",
       "     <use xlink:href=\"#m86bf231a0d\" x=\"239.429473\" y=\"194.001146\" style=\"fill: #dd8452; stroke: #333333\"/>\n",
       "     <use xlink:href=\"#m86bf231a0d\" x=\"116.461017\" y=\"66.5864\" style=\"fill: #dd8452; stroke: #333333\"/>\n",
       "     <use xlink:href=\"#m86bf231a0d\" x=\"236.713876\" y=\"194.072066\" style=\"fill: #dd8452; stroke: #333333\"/>\n",
       "     <use xlink:href=\"#m86bf231a0d\" x=\"224.35836\" y=\"185.579115\" style=\"fill: #dd8452; stroke: #333333\"/>\n",
       "    </g>\n",
       "   </g>\n",
       "   <g id=\"patch_3\">\n",
       "    <path d=\"M 66.023594 244.078125 \n",
       "L 66.023594 22.318125 \n",
       "\" style=\"fill: none; stroke: #ffffff; stroke-width: 1.25; stroke-linejoin: miter; stroke-linecap: square\"/>\n",
       "   </g>\n",
       "   <g id=\"patch_4\">\n",
       "    <path d=\"M 287.783594 244.078125 \n",
       "L 287.783594 22.318125 \n",
       "\" style=\"fill: none; stroke: #ffffff; stroke-width: 1.25; stroke-linejoin: miter; stroke-linecap: square\"/>\n",
       "   </g>\n",
       "   <g id=\"patch_5\">\n",
       "    <path d=\"M 66.023594 244.078125 \n",
       "L 287.783594 244.078125 \n",
       "\" style=\"fill: none; stroke: #ffffff; stroke-width: 1.25; stroke-linejoin: miter; stroke-linecap: square\"/>\n",
       "   </g>\n",
       "   <g id=\"patch_6\">\n",
       "    <path d=\"M 66.023594 22.318125 \n",
       "L 287.783594 22.318125 \n",
       "\" style=\"fill: none; stroke: #ffffff; stroke-width: 1.25; stroke-linejoin: miter; stroke-linecap: square\"/>\n",
       "   </g>\n",
       "   <g id=\"text_17\">\n",
       "    <!-- Dataset samples -->\n",
       "    <g style=\"fill: #262626\" transform=\"translate(126.560781 16.318125) scale(0.12 -0.12)\">\n",
       "     <defs>\n",
       "      <path id=\"DejaVuSans-44\" d=\"M 1259 4147 \n",
       "L 1259 519 \n",
       "L 2022 519 \n",
       "Q 2988 519 3436 956 \n",
       "Q 3884 1394 3884 2338 \n",
       "Q 3884 3275 3436 3711 \n",
       "Q 2988 4147 2022 4147 \n",
       "L 1259 4147 \n",
       "z\n",
       "M 628 4666 \n",
       "L 1925 4666 \n",
       "Q 3281 4666 3915 4102 \n",
       "Q 4550 3538 4550 2338 \n",
       "Q 4550 1131 3912 565 \n",
       "Q 3275 0 1925 0 \n",
       "L 628 0 \n",
       "L 628 4666 \n",
       "z\n",
       "\" transform=\"scale(0.015625)\"/>\n",
       "      <path id=\"DejaVuSans-61\" d=\"M 2194 1759 \n",
       "Q 1497 1759 1228 1600 \n",
       "Q 959 1441 959 1056 \n",
       "Q 959 750 1161 570 \n",
       "Q 1363 391 1709 391 \n",
       "Q 2188 391 2477 730 \n",
       "Q 2766 1069 2766 1631 \n",
       "L 2766 1759 \n",
       "L 2194 1759 \n",
       "z\n",
       "M 3341 1997 \n",
       "L 3341 0 \n",
       "L 2766 0 \n",
       "L 2766 531 \n",
       "Q 2569 213 2275 61 \n",
       "Q 1981 -91 1556 -91 \n",
       "Q 1019 -91 701 211 \n",
       "Q 384 513 384 1019 \n",
       "Q 384 1609 779 1909 \n",
       "Q 1175 2209 1959 2209 \n",
       "L 2766 2209 \n",
       "L 2766 2266 \n",
       "Q 2766 2663 2505 2880 \n",
       "Q 2244 3097 1772 3097 \n",
       "Q 1472 3097 1187 3025 \n",
       "Q 903 2953 641 2809 \n",
       "L 641 3341 \n",
       "Q 956 3463 1253 3523 \n",
       "Q 1550 3584 1831 3584 \n",
       "Q 2591 3584 2966 3190 \n",
       "Q 3341 2797 3341 1997 \n",
       "z\n",
       "\" transform=\"scale(0.015625)\"/>\n",
       "      <path id=\"DejaVuSans-74\" d=\"M 1172 4494 \n",
       "L 1172 3500 \n",
       "L 2356 3500 \n",
       "L 2356 3053 \n",
       "L 1172 3053 \n",
       "L 1172 1153 \n",
       "Q 1172 725 1289 603 \n",
       "Q 1406 481 1766 481 \n",
       "L 2356 481 \n",
       "L 2356 0 \n",
       "L 1766 0 \n",
       "Q 1100 0 847 248 \n",
       "Q 594 497 594 1153 \n",
       "L 594 3053 \n",
       "L 172 3053 \n",
       "L 172 3500 \n",
       "L 594 3500 \n",
       "L 594 4494 \n",
       "L 1172 4494 \n",
       "z\n",
       "\" transform=\"scale(0.015625)\"/>\n",
       "      <path id=\"DejaVuSans-73\" d=\"M 2834 3397 \n",
       "L 2834 2853 \n",
       "Q 2591 2978 2328 3040 \n",
       "Q 2066 3103 1784 3103 \n",
       "Q 1356 3103 1142 2972 \n",
       "Q 928 2841 928 2578 \n",
       "Q 928 2378 1081 2264 \n",
       "Q 1234 2150 1697 2047 \n",
       "L 1894 2003 \n",
       "Q 2506 1872 2764 1633 \n",
       "Q 3022 1394 3022 966 \n",
       "Q 3022 478 2636 193 \n",
       "Q 2250 -91 1575 -91 \n",
       "Q 1294 -91 989 -36 \n",
       "Q 684 19 347 128 \n",
       "L 347 722 \n",
       "Q 666 556 975 473 \n",
       "Q 1284 391 1588 391 \n",
       "Q 1994 391 2212 530 \n",
       "Q 2431 669 2431 922 \n",
       "Q 2431 1156 2273 1281 \n",
       "Q 2116 1406 1581 1522 \n",
       "L 1381 1569 \n",
       "Q 847 1681 609 1914 \n",
       "Q 372 2147 372 2553 \n",
       "Q 372 3047 722 3315 \n",
       "Q 1072 3584 1716 3584 \n",
       "Q 2034 3584 2315 3537 \n",
       "Q 2597 3491 2834 3397 \n",
       "z\n",
       "\" transform=\"scale(0.015625)\"/>\n",
       "      <path id=\"DejaVuSans-65\" d=\"M 3597 1894 \n",
       "L 3597 1613 \n",
       "L 953 1613 \n",
       "Q 991 1019 1311 708 \n",
       "Q 1631 397 2203 397 \n",
       "Q 2534 397 2845 478 \n",
       "Q 3156 559 3463 722 \n",
       "L 3463 178 \n",
       "Q 3153 47 2828 -22 \n",
       "Q 2503 -91 2169 -91 \n",
       "Q 1331 -91 842 396 \n",
       "Q 353 884 353 1716 \n",
       "Q 353 2575 817 3079 \n",
       "Q 1281 3584 2069 3584 \n",
       "Q 2775 3584 3186 3129 \n",
       "Q 3597 2675 3597 1894 \n",
       "z\n",
       "M 3022 2063 \n",
       "Q 3016 2534 2758 2815 \n",
       "Q 2500 3097 2075 3097 \n",
       "Q 1594 3097 1305 2825 \n",
       "Q 1016 2553 972 2059 \n",
       "L 3022 2063 \n",
       "z\n",
       "\" transform=\"scale(0.015625)\"/>\n",
       "      <path id=\"DejaVuSans-20\" transform=\"scale(0.015625)\"/>\n",
       "      <path id=\"DejaVuSans-6d\" d=\"M 3328 2828 \n",
       "Q 3544 3216 3844 3400 \n",
       "Q 4144 3584 4550 3584 \n",
       "Q 5097 3584 5394 3201 \n",
       "Q 5691 2819 5691 2113 \n",
       "L 5691 0 \n",
       "L 5113 0 \n",
       "L 5113 2094 \n",
       "Q 5113 2597 4934 2840 \n",
       "Q 4756 3084 4391 3084 \n",
       "Q 3944 3084 3684 2787 \n",
       "Q 3425 2491 3425 1978 \n",
       "L 3425 0 \n",
       "L 2847 0 \n",
       "L 2847 2094 \n",
       "Q 2847 2600 2669 2842 \n",
       "Q 2491 3084 2119 3084 \n",
       "Q 1678 3084 1418 2786 \n",
       "Q 1159 2488 1159 1978 \n",
       "L 1159 0 \n",
       "L 581 0 \n",
       "L 581 3500 \n",
       "L 1159 3500 \n",
       "L 1159 2956 \n",
       "Q 1356 3278 1631 3431 \n",
       "Q 1906 3584 2284 3584 \n",
       "Q 2666 3584 2933 3390 \n",
       "Q 3200 3197 3328 2828 \n",
       "z\n",
       "\" transform=\"scale(0.015625)\"/>\n",
       "      <path id=\"DejaVuSans-70\" d=\"M 1159 525 \n",
       "L 1159 -1331 \n",
       "L 581 -1331 \n",
       "L 581 3500 \n",
       "L 1159 3500 \n",
       "L 1159 2969 \n",
       "Q 1341 3281 1617 3432 \n",
       "Q 1894 3584 2278 3584 \n",
       "Q 2916 3584 3314 3078 \n",
       "Q 3713 2572 3713 1747 \n",
       "Q 3713 922 3314 415 \n",
       "Q 2916 -91 2278 -91 \n",
       "Q 1894 -91 1617 61 \n",
       "Q 1341 213 1159 525 \n",
       "z\n",
       "M 3116 1747 \n",
       "Q 3116 2381 2855 2742 \n",
       "Q 2594 3103 2138 3103 \n",
       "Q 1681 3103 1420 2742 \n",
       "Q 1159 2381 1159 1747 \n",
       "Q 1159 1113 1420 752 \n",
       "Q 1681 391 2138 391 \n",
       "Q 2594 391 2855 752 \n",
       "Q 3116 1113 3116 1747 \n",
       "z\n",
       "\" transform=\"scale(0.015625)\"/>\n",
       "      <path id=\"DejaVuSans-6c\" d=\"M 603 4863 \n",
       "L 1178 4863 \n",
       "L 1178 0 \n",
       "L 603 0 \n",
       "L 603 4863 \n",
       "z\n",
       "\" transform=\"scale(0.015625)\"/>\n",
       "     </defs>\n",
       "     <use xlink:href=\"#DejaVuSans-44\"/>\n",
       "     <use xlink:href=\"#DejaVuSans-61\" x=\"77.001953\"/>\n",
       "     <use xlink:href=\"#DejaVuSans-74\" x=\"138.28125\"/>\n",
       "     <use xlink:href=\"#DejaVuSans-61\" x=\"177.490234\"/>\n",
       "     <use xlink:href=\"#DejaVuSans-73\" x=\"238.769531\"/>\n",
       "     <use xlink:href=\"#DejaVuSans-65\" x=\"290.869141\"/>\n",
       "     <use xlink:href=\"#DejaVuSans-74\" x=\"352.392578\"/>\n",
       "     <use xlink:href=\"#DejaVuSans-20\" x=\"391.601562\"/>\n",
       "     <use xlink:href=\"#DejaVuSans-73\" x=\"423.388672\"/>\n",
       "     <use xlink:href=\"#DejaVuSans-61\" x=\"475.488281\"/>\n",
       "     <use xlink:href=\"#DejaVuSans-6d\" x=\"536.767578\"/>\n",
       "     <use xlink:href=\"#DejaVuSans-70\" x=\"634.179688\"/>\n",
       "     <use xlink:href=\"#DejaVuSans-6c\" x=\"697.65625\"/>\n",
       "     <use xlink:href=\"#DejaVuSans-65\" x=\"725.439453\"/>\n",
       "     <use xlink:href=\"#DejaVuSans-73\" x=\"786.962891\"/>\n",
       "    </g>\n",
       "   </g>\n",
       "   <g id=\"legend_1\">\n",
       "    <g id=\"patch_7\">\n",
       "     <path d=\"M 73.723594 150.994063 \n",
       "L 148.356875 150.994063 \n",
       "Q 150.556875 150.994063 150.556875 148.794063 \n",
       "L 150.556875 117.602188 \n",
       "Q 150.556875 115.402188 148.356875 115.402188 \n",
       "L 73.723594 115.402188 \n",
       "Q 71.523594 115.402188 71.523594 117.602188 \n",
       "L 71.523594 148.794063 \n",
       "Q 71.523594 150.994063 73.723594 150.994063 \n",
       "z\n",
       "\" style=\"fill: #eaeaf2; opacity: 0.8; stroke: #cccccc; stroke-linejoin: miter\"/>\n",
       "    </g>\n",
       "    <g id=\"PathCollection_3\">\n",
       "     <g>\n",
       "      <use xlink:href=\"#m2a5f68f4a1\" x=\"86.923594\" y=\"125.272969\" style=\"fill: #4c72b0; stroke: #333333\"/>\n",
       "     </g>\n",
       "    </g>\n",
       "    <g id=\"text_18\">\n",
       "     <!-- Class 0 -->\n",
       "     <g style=\"fill: #262626\" transform=\"translate(106.723594 128.160469) scale(0.11 -0.11)\">\n",
       "      <defs>\n",
       "       <path id=\"DejaVuSans-43\" d=\"M 4122 4306 \n",
       "L 4122 3641 \n",
       "Q 3803 3938 3442 4084 \n",
       "Q 3081 4231 2675 4231 \n",
       "Q 1875 4231 1450 3742 \n",
       "Q 1025 3253 1025 2328 \n",
       "Q 1025 1406 1450 917 \n",
       "Q 1875 428 2675 428 \n",
       "Q 3081 428 3442 575 \n",
       "Q 3803 722 4122 1019 \n",
       "L 4122 359 \n",
       "Q 3791 134 3420 21 \n",
       "Q 3050 -91 2638 -91 \n",
       "Q 1578 -91 968 557 \n",
       "Q 359 1206 359 2328 \n",
       "Q 359 3453 968 4101 \n",
       "Q 1578 4750 2638 4750 \n",
       "Q 3056 4750 3426 4639 \n",
       "Q 3797 4528 4122 4306 \n",
       "z\n",
       "\" transform=\"scale(0.015625)\"/>\n",
       "      </defs>\n",
       "      <use xlink:href=\"#DejaVuSans-43\"/>\n",
       "      <use xlink:href=\"#DejaVuSans-6c\" x=\"69.824219\"/>\n",
       "      <use xlink:href=\"#DejaVuSans-61\" x=\"97.607422\"/>\n",
       "      <use xlink:href=\"#DejaVuSans-73\" x=\"158.886719\"/>\n",
       "      <use xlink:href=\"#DejaVuSans-73\" x=\"210.986328\"/>\n",
       "      <use xlink:href=\"#DejaVuSans-20\" x=\"263.085938\"/>\n",
       "      <use xlink:href=\"#DejaVuSans-30\" x=\"294.873047\"/>\n",
       "     </g>\n",
       "    </g>\n",
       "    <g id=\"PathCollection_4\">\n",
       "     <g>\n",
       "      <use xlink:href=\"#m86bf231a0d\" x=\"86.923594\" y=\"141.418906\" style=\"fill: #dd8452; stroke: #333333\"/>\n",
       "     </g>\n",
       "    </g>\n",
       "    <g id=\"text_19\">\n",
       "     <!-- Class 1 -->\n",
       "     <g style=\"fill: #262626\" transform=\"translate(106.723594 144.306406) scale(0.11 -0.11)\">\n",
       "      <use xlink:href=\"#DejaVuSans-43\"/>\n",
       "      <use xlink:href=\"#DejaVuSans-6c\" x=\"69.824219\"/>\n",
       "      <use xlink:href=\"#DejaVuSans-61\" x=\"97.607422\"/>\n",
       "      <use xlink:href=\"#DejaVuSans-73\" x=\"158.886719\"/>\n",
       "      <use xlink:href=\"#DejaVuSans-73\" x=\"210.986328\"/>\n",
       "      <use xlink:href=\"#DejaVuSans-20\" x=\"263.085938\"/>\n",
       "      <use xlink:href=\"#DejaVuSans-31\" x=\"294.873047\"/>\n",
       "     </g>\n",
       "    </g>\n",
       "   </g>\n",
       "  </g>\n",
       " </g>\n",
       " <defs>\n",
       "  <clipPath id=\"p5a2d97653b\">\n",
       "   <rect x=\"66.023594\" y=\"22.318125\" width=\"221.76\" height=\"221.76\"/>\n",
       "  </clipPath>\n",
       " </defs>\n",
       "</svg>\n"
      ],
      "text/plain": [
       "<Figure size 2000x2000 with 1 Axes>"
      ]
     },
     "metadata": {},
     "output_type": "display_data"
    }
   ],
   "source": [
    "@torch.no_grad() # Decorator, same effect as \"with torch.no_grad(): ...\" over the whole function.\n",
    "def visualize_classification(model, data, label):\n",
    "    if isinstance(data, torch.Tensor):\n",
    "        data = data.cpu().numpy()\n",
    "    if isinstance(label, torch.Tensor):\n",
    "        label = label.cpu().numpy()\n",
    "    data_0 = data[label == 0]\n",
    "    data_1 = data[label == 1]\n",
    "    \n",
    "    fig = plt.figure(figsize=(4,4), dpi=500)\n",
    "    plt.scatter(data_0[:,0], data_0[:,1], edgecolor=\"#333\", label=\"Class 0\")\n",
    "    plt.scatter(data_1[:,0], data_1[:,1], edgecolor=\"#333\", label=\"Class 1\")\n",
    "    plt.title(\"Dataset samples\")\n",
    "    plt.ylabel(r\"$x_2$\")\n",
    "    plt.xlabel(r\"$x_1$\")\n",
    "    plt.legend()\n",
    "    \n",
    "    # Let's make use of a lot of operations we have learned above\n",
    "    model.to(device)\n",
    "    c0 = torch.Tensor(to_rgba(\"C0\")).to(device)\n",
    "    c1 = torch.Tensor(to_rgba(\"C1\")).to(device)\n",
    "    x1 = torch.arange(-0.5, 1.5, step=0.01, device=device)\n",
    "    x2 = torch.arange(-0.5, 1.5, step=0.01, device=device)\n",
    "    xx1, xx2 = torch.meshgrid(x1, x2, indexing='ij')  # Meshgrid function as in numpy\n",
    "    model_inputs = torch.stack([xx1, xx2], dim=-1)\n",
    "    preds = model(model_inputs)\n",
    "    preds = torch.sigmoid(preds)\n",
    "    output_image = (1 - preds) * c0[None,None] + preds * c1[None,None]  # Specifying \"None\" in a dimension creates a new one\n",
    "    output_image = output_image.cpu().numpy()  # Convert to numpy array. This only works for tensors on CPU, hence first push to CPU\n",
    "    plt.imshow(output_image, origin='lower', extent=(-0.5, 1.5, -0.5, 1.5))\n",
    "    plt.grid(False)\n",
    "    return fig\n",
    "\n",
    "_ = visualize_classification(model, dataset.data, dataset.label)\n",
    "plt.show()"
   ]
  },
  {
   "cell_type": "markdown",
   "metadata": {},
   "source": [
    "The decision boundaries might not look exactly as in the figure in the preamble of this section which can be caused by running it on CPU or a different GPU architecture. Nevertheless, the result on the accuracy metric should be the approximately the same. "
   ]
  },
  {
   "cell_type": "markdown",
   "metadata": {},
   "source": [
    "## Additional features we didn't get to discuss yet\n",
    "\n",
    "Finally, you are all set to start with your own PyTorch project! In summary, we have looked at how we can build neural networks in PyTorch, and train and test them on data. However, there is still much more to PyTorch we haven't discussed yet. In the coming series of Jupyter notebooks, we will discover more and more functionalities of PyTorch, so that you also get familiar to PyTorch concepts beyond the basics. If you are already interested in learning more of PyTorch, we recommend the official [tutorial website](https://pytorch.org/tutorials/) that contains many tutorials on various topics. Especially logging with Tensorboard ([official tutorial here](https://pytorch.org/tutorials/intermediate/tensorboard_tutorial.html)) is a good practice that we will explore further from Tutorial 5 on in combination with PyTorch Lightning.\n",
    "Nonetheless, let's check it shortly out how we could use TensorBoard in our small example."
   ]
  },
  {
   "cell_type": "markdown",
   "metadata": {},
   "source": [
    "### TensorBoard logging\n",
    "\n",
    "TensorBoard is a logging and visualization tool that is a popular choice for training deep learning models. Although initially published for TensorFlow, TensorBoard is also integrated in PyTorch allowing us to easily use it. First, let's import it below."
   ]
  },
  {
   "cell_type": "code",
   "execution_count": 66,
   "metadata": {},
   "outputs": [],
   "source": [
    "# Import tensorboard logger from PyTorch\n",
    "from torch.utils.tensorboard import SummaryWriter\n",
    "\n",
    "# Load tensorboard extension for Jupyter Notebook, only need to start TB in the notebook\n",
    "%load_ext tensorboard"
   ]
  },
  {
   "cell_type": "markdown",
   "metadata": {},
   "source": [
    "The last line is required if you want to run TensorBoard directly in the Jupyter Notebook. Otherwise, you can start TensorBoard from the terminal.\n",
    "\n",
    "PyTorch's TensorBoard API is simple to use. We start the logging process by creating a new object, `writer = SummaryWriter(...)`, where we specify the directory in which the logging file should be saved. With this object, we can log different aspects of our model by calling functions of the style `writer.add_...`. For example, we can visualize the computation graph with the function `writer.add_graph`, or add a scalar value like the loss with `writer.add_scalar`. Let's adapt our initial training function with adding a TensorBoard logger below."
   ]
  },
  {
   "cell_type": "code",
   "execution_count": 67,
   "metadata": {},
   "outputs": [],
   "source": [
    "def train_model_with_logger(model, optimizer, data_loader, loss_module, val_dataset, num_epochs=100, logging_dir='runs/our_experiment'):\n",
    "    # Create TensorBoard logger\n",
    "    writer = SummaryWriter(logging_dir)\n",
    "    model_plotted = False\n",
    "    \n",
    "    # Set model to train mode\n",
    "    model.train() \n",
    "    \n",
    "    # Training loop\n",
    "    for epoch in tqdm(range(num_epochs)):\n",
    "        epoch_loss = 0.0\n",
    "        for data_inputs, data_labels in data_loader:\n",
    "            \n",
    "            ## Step 1: Move input data to device (only strictly necessary if we use GPU)\n",
    "            data_inputs = data_inputs.to(device)\n",
    "            data_labels = data_labels.to(device)\n",
    "            \n",
    "            # For the very first batch, we visualize the computation graph in TensorBoard\n",
    "            if not model_plotted:\n",
    "                writer.add_graph(model, data_inputs)\n",
    "                model_plotted = True\n",
    "            \n",
    "            ## Step 2: Run the model on the input data\n",
    "            preds = model(data_inputs)\n",
    "            preds = preds.squeeze(dim=1) # Output is [Batch size, 1], but we want [Batch size]\n",
    "            \n",
    "            ## Step 3: Calculate the loss\n",
    "            loss = loss_module(preds, data_labels.float())\n",
    "            \n",
    "            ## Step 4: Perform backpropagation\n",
    "            # Before calculating the gradients, we need to ensure that they are all zero. \n",
    "            # The gradients would not be overwritten, but actually added to the existing ones.\n",
    "            optimizer.zero_grad() \n",
    "            # Perform backpropagation\n",
    "            loss.backward()\n",
    "            \n",
    "            ## Step 5: Update the parameters\n",
    "            optimizer.step()\n",
    "            \n",
    "            ## Step 6: Take the running average of the loss\n",
    "            epoch_loss += loss.item()\n",
    "            \n",
    "        # Add average loss to TensorBoard\n",
    "        epoch_loss /= len(data_loader)\n",
    "        writer.add_scalar('training_loss',\n",
    "                          epoch_loss,\n",
    "                          global_step = epoch + 1)\n",
    "        \n",
    "        # Visualize prediction and add figure to TensorBoard\n",
    "        # Since matplotlib figures can be slow in rendering, we only do it every 10th epoch\n",
    "        if (epoch + 1) % 10 == 0:\n",
    "            fig = visualize_classification(model, val_dataset.data, val_dataset.label)\n",
    "            writer.add_figure('predictions',\n",
    "                              fig,\n",
    "                              global_step = epoch + 1)\n",
    "    \n",
    "    writer.close()"
   ]
  },
  {
   "cell_type": "markdown",
   "metadata": {},
   "source": [
    "Let's use this method to train a model as before, with a new model and optimizer."
   ]
  },
  {
   "cell_type": "code",
   "execution_count": 68,
   "metadata": {},
   "outputs": [
    {
     "data": {
      "application/vnd.jupyter.widget-view+json": {
       "model_id": "8f022e8fe14f4d51bb2ef9c78506a6f0",
       "version_major": 2,
       "version_minor": 0
      },
      "text/plain": [
       "  0%|          | 0/100 [00:00<?, ?it/s]"
      ]
     },
     "metadata": {},
     "output_type": "display_data"
    }
   ],
   "source": [
    "model = SimpleClassifier(num_inputs=2, num_hidden=4, num_outputs=1).to(device)\n",
    "optimizer = torch.optim.SGD(model.parameters(), lr=0.1)\n",
    "train_model_with_logger(model, optimizer, train_data_loader, loss_module, val_dataset=dataset)"
   ]
  },
  {
   "cell_type": "markdown",
   "metadata": {},
   "source": [
    "The TensorBoard file in the folder `runs/our_experiment` now contains a loss curve, the computation graph of our network, and a visualization of the learned predictions over number of epochs. To start the TensorBoard visualizer, simply run the following statement:"
   ]
  },
  {
   "cell_type": "code",
   "execution_count": 69,
   "metadata": {},
   "outputs": [
    {
     "data": {
      "text/html": [
       "\n",
       "      <iframe id=\"tensorboard-frame-b0587d1a375c905a\" width=\"100%\" height=\"800\" frameborder=\"0\">\n",
       "      </iframe>\n",
       "      <script>\n",
       "        (function() {\n",
       "          const frame = document.getElementById(\"tensorboard-frame-b0587d1a375c905a\");\n",
       "          const url = new URL(\"/\", window.location);\n",
       "          const port = 6006;\n",
       "          if (port) {\n",
       "            url.port = port;\n",
       "          }\n",
       "          frame.src = url;\n",
       "        })();\n",
       "      </script>\n",
       "    "
      ],
      "text/plain": [
       "<IPython.core.display.HTML object>"
      ]
     },
     "metadata": {},
     "output_type": "display_data"
    }
   ],
   "source": [
    "%tensorboard --logdir runs/our_experiment"
   ]
  },
  {
   "cell_type": "markdown",
   "metadata": {},
   "source": [
    "<center><img src=\"tensorboard_screenshot.png\" width=\"1100px\"></center>\n",
    "\n",
    "TensorBoard visualizations can help to identify possible issues with your model, and identify situations such as overfitting. You can also track the training progress while a model is training, since the logger automatically writes everything added to it to the logging file. Feel free to explore the TensorBoard functionalities, and we will make use of TensorBoards a couple of times from Tutorial 5 on."
   ]
  },
  {
   "cell_type": "markdown",
   "metadata": {},
   "source": [
    "---\n",
    "\n",
    "[![Star our repository](https://img.shields.io/static/v1.svg?logo=star&label=⭐&message=Star%20Our%20Repository&color=yellow)](https://github.com/phlippe/uvadlc_notebooks/)  If you found this tutorial helpful, consider ⭐-ing our repository.    \n",
    "[![Ask questions](https://img.shields.io/static/v1.svg?logo=star&label=❔&message=Ask%20Questions&color=9cf)](https://github.com/phlippe/uvadlc_notebooks/issues)  For any questions, typos, or bugs that you found, please raise an issue on GitHub. \n",
    "\n",
    "---"
   ]
  }
 ],
 "metadata": {
  "kernelspec": {
   "display_name": "Python 3 (ipykernel)",
   "language": "python",
   "name": "python3"
  },
  "language_info": {
   "codemirror_mode": {
    "name": "ipython",
    "version": 3
   },
   "file_extension": ".py",
   "mimetype": "text/x-python",
   "name": "python",
   "nbconvert_exporter": "python",
   "pygments_lexer": "ipython3",
   "version": "3.10.6"
  }
 },
 "nbformat": 4,
 "nbformat_minor": 4
}
